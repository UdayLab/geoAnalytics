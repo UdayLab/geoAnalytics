{
  "nbformat": 4,
  "nbformat_minor": 0,
  "metadata": {
    "colab": {
      "provenance": [],
      "include_colab_link": true
    },
    "kernelspec": {
      "name": "python3",
      "display_name": "Python 3"
    },
    "language_info": {
      "name": "python"
    }
  },
  "cells": [
    {
      "cell_type": "markdown",
      "metadata": {
        "id": "view-in-github",
        "colab_type": "text"
      },
      "source": [
        "<a href=\"https://colab.research.google.com/github/UdayLab/geoanalytics/blob/main/tests/conversion/test_Raster2CSV.ipynb\" target=\"_parent\"><img src=\"https://colab.research.google.com/assets/colab-badge.svg\" alt=\"Open In Colab\"/></a>"
      ]
    },
    {
      "cell_type": "markdown",
      "source": [
        "# Tutorial on Converting Various Raster Formats into CSV Format\n",
        "\n"
      ],
      "metadata": {
        "id": "yIMD0D6vVyTf"
      }
    },
    {
      "cell_type": "markdown",
      "source": [
        "## Step 1: Installing the geeoanalytics package"
      ],
      "metadata": {
        "id": "A8JfFD90WFMo"
      }
    },
    {
      "cell_type": "code",
      "execution_count": null,
      "metadata": {
        "id": "Eu9QkhlOVxk3",
        "colab": {
          "base_uri": "https://localhost:8080/",
          "height": 1000
        },
        "outputId": "7b0b5075-3a22-401e-9107-0a4907702f8a"
      },
      "outputs": [
        {
          "output_type": "stream",
          "name": "stdout",
          "text": [
            "Collecting geoanalytics\n",
            "  Downloading geoanalytics-2025.6.12.3-py3-none-any.whl.metadata (16 kB)\n",
            "Requirement already satisfied: psutil in /usr/local/lib/python3.11/dist-packages (from geoanalytics) (5.9.5)\n",
            "Requirement already satisfied: pandas in /usr/local/lib/python3.11/dist-packages (from geoanalytics) (2.2.2)\n",
            "Requirement already satisfied: matplotlib in /usr/local/lib/python3.11/dist-packages (from geoanalytics) (3.10.0)\n",
            "Collecting resource (from geoanalytics)\n",
            "  Downloading Resource-0.2.1-py2.py3-none-any.whl.metadata (478 bytes)\n",
            "Collecting validators (from geoanalytics)\n",
            "  Downloading validators-0.35.0-py3-none-any.whl.metadata (3.9 kB)\n",
            "Requirement already satisfied: urllib3 in /usr/local/lib/python3.11/dist-packages (from geoanalytics) (2.4.0)\n",
            "Collecting psycopg2-binary (from geoanalytics)\n",
            "  Downloading psycopg2_binary-2.9.10-cp311-cp311-manylinux_2_17_x86_64.manylinux2014_x86_64.whl.metadata (4.9 kB)\n",
            "Requirement already satisfied: shapely in /usr/local/lib/python3.11/dist-packages (from geoanalytics) (2.1.1)\n",
            "Requirement already satisfied: tqdm in /usr/local/lib/python3.11/dist-packages (from geoanalytics) (4.67.1)\n",
            "Collecting mplcursors (from geoanalytics)\n",
            "  Downloading mplcursors-0.6-py3-none-any.whl.metadata (3.0 kB)\n",
            "Requirement already satisfied: scikit-learn in /usr/local/lib/python3.11/dist-packages (from geoanalytics) (1.6.1)\n",
            "Requirement already satisfied: plotly in /usr/local/lib/python3.11/dist-packages (from geoanalytics) (5.24.1)\n",
            "Requirement already satisfied: Pillow in /usr/local/lib/python3.11/dist-packages (from geoanalytics) (11.2.1)\n",
            "Requirement already satisfied: numpy in /usr/local/lib/python3.11/dist-packages (from geoanalytics) (2.0.2)\n",
            "Requirement already satisfied: sphinx in /usr/local/lib/python3.11/dist-packages (from geoanalytics) (8.2.3)\n",
            "Collecting sphinx-rtd-theme (from geoanalytics)\n",
            "  Downloading sphinx_rtd_theme-3.0.2-py2.py3-none-any.whl.metadata (4.4 kB)\n",
            "Collecting discord.py (from geoanalytics)\n",
            "  Downloading discord_py-2.5.2-py3-none-any.whl.metadata (7.4 kB)\n",
            "Requirement already satisfied: networkx in /usr/local/lib/python3.11/dist-packages (from geoanalytics) (3.5)\n",
            "Collecting deprecated (from geoanalytics)\n",
            "  Downloading Deprecated-1.2.18-py2.py3-none-any.whl.metadata (5.7 kB)\n",
            "Collecting fastparquet (from geoanalytics)\n",
            "  Downloading fastparquet-2024.11.0-cp311-cp311-manylinux_2_17_x86_64.manylinux2014_x86_64.whl.metadata (4.2 kB)\n",
            "Requirement already satisfied: numba in /usr/local/lib/python3.11/dist-packages (from geoanalytics) (0.60.0)\n",
            "Collecting pami (from geoanalytics)\n",
            "  Downloading pami-2025.3.25.1-py3-none-any.whl.metadata (80 kB)\n",
            "\u001b[2K     \u001b[90m━━━━━━━━━━━━━━━━━━━━━━━━━━━━━━━━━━━━━━━━\u001b[0m \u001b[32m80.3/80.3 kB\u001b[0m \u001b[31m3.2 MB/s\u001b[0m eta \u001b[36m0:00:00\u001b[0m\n",
            "\u001b[?25hCollecting rasterio (from geoanalytics)\n",
            "  Downloading rasterio-1.4.3-cp311-cp311-manylinux_2_17_x86_64.manylinux2014_x86_64.whl.metadata (9.1 kB)\n",
            "Requirement already satisfied: wrapt<2,>=1.10 in /usr/local/lib/python3.11/dist-packages (from deprecated->geoanalytics) (1.17.2)\n",
            "Requirement already satisfied: aiohttp<4,>=3.7.4 in /usr/local/lib/python3.11/dist-packages (from discord.py->geoanalytics) (3.11.15)\n",
            "Requirement already satisfied: cramjam>=2.3 in /usr/local/lib/python3.11/dist-packages (from fastparquet->geoanalytics) (2.10.0)\n",
            "Requirement already satisfied: fsspec in /usr/local/lib/python3.11/dist-packages (from fastparquet->geoanalytics) (2025.3.2)\n",
            "Requirement already satisfied: packaging in /usr/local/lib/python3.11/dist-packages (from fastparquet->geoanalytics) (24.2)\n",
            "Requirement already satisfied: python-dateutil>=2.8.2 in /usr/local/lib/python3.11/dist-packages (from pandas->geoanalytics) (2.9.0.post0)\n",
            "Requirement already satisfied: pytz>=2020.1 in /usr/local/lib/python3.11/dist-packages (from pandas->geoanalytics) (2025.2)\n",
            "Requirement already satisfied: tzdata>=2022.7 in /usr/local/lib/python3.11/dist-packages (from pandas->geoanalytics) (2025.2)\n",
            "Requirement already satisfied: contourpy>=1.0.1 in /usr/local/lib/python3.11/dist-packages (from matplotlib->geoanalytics) (1.3.2)\n",
            "Requirement already satisfied: cycler>=0.10 in /usr/local/lib/python3.11/dist-packages (from matplotlib->geoanalytics) (0.12.1)\n",
            "Requirement already satisfied: fonttools>=4.22.0 in /usr/local/lib/python3.11/dist-packages (from matplotlib->geoanalytics) (4.58.1)\n",
            "Requirement already satisfied: kiwisolver>=1.3.1 in /usr/local/lib/python3.11/dist-packages (from matplotlib->geoanalytics) (1.4.8)\n",
            "Requirement already satisfied: pyparsing>=2.3.1 in /usr/local/lib/python3.11/dist-packages (from matplotlib->geoanalytics) (3.2.3)\n",
            "Requirement already satisfied: llvmlite<0.44,>=0.43.0dev0 in /usr/local/lib/python3.11/dist-packages (from numba->geoanalytics) (0.43.0)\n",
            "Requirement already satisfied: tenacity>=6.2.0 in /usr/local/lib/python3.11/dist-packages (from plotly->geoanalytics) (9.1.2)\n",
            "Collecting affine (from rasterio->geoanalytics)\n",
            "  Downloading affine-2.4.0-py3-none-any.whl.metadata (4.0 kB)\n",
            "Requirement already satisfied: attrs in /usr/local/lib/python3.11/dist-packages (from rasterio->geoanalytics) (25.3.0)\n",
            "Requirement already satisfied: certifi in /usr/local/lib/python3.11/dist-packages (from rasterio->geoanalytics) (2025.4.26)\n",
            "Requirement already satisfied: click>=4.0 in /usr/local/lib/python3.11/dist-packages (from rasterio->geoanalytics) (8.2.1)\n",
            "Collecting cligj>=0.5 (from rasterio->geoanalytics)\n",
            "  Downloading cligj-0.7.2-py3-none-any.whl.metadata (5.0 kB)\n",
            "Collecting click-plugins (from rasterio->geoanalytics)\n",
            "  Downloading click_plugins-1.1.1-py2.py3-none-any.whl.metadata (6.4 kB)\n",
            "Collecting JsonForm>=0.0.2 (from resource->geoanalytics)\n",
            "  Downloading JsonForm-0.0.2.tar.gz (2.4 kB)\n",
            "  Preparing metadata (setup.py) ... \u001b[?25l\u001b[?25hdone\n",
            "Collecting JsonSir>=0.0.2 (from resource->geoanalytics)\n",
            "  Downloading JsonSir-0.0.2.tar.gz (2.2 kB)\n",
            "  Preparing metadata (setup.py) ... \u001b[?25l\u001b[?25hdone\n",
            "Collecting python-easyconfig>=0.1.0 (from resource->geoanalytics)\n",
            "  Downloading Python_EasyConfig-0.1.7-py2.py3-none-any.whl.metadata (462 bytes)\n",
            "Requirement already satisfied: scipy>=1.6.0 in /usr/local/lib/python3.11/dist-packages (from scikit-learn->geoanalytics) (1.15.3)\n",
            "Requirement already satisfied: joblib>=1.2.0 in /usr/local/lib/python3.11/dist-packages (from scikit-learn->geoanalytics) (1.5.1)\n",
            "Requirement already satisfied: threadpoolctl>=3.1.0 in /usr/local/lib/python3.11/dist-packages (from scikit-learn->geoanalytics) (3.6.0)\n",
            "Requirement already satisfied: sphinxcontrib-applehelp>=1.0.7 in /usr/local/lib/python3.11/dist-packages (from sphinx->geoanalytics) (2.0.0)\n",
            "Requirement already satisfied: sphinxcontrib-devhelp>=1.0.6 in /usr/local/lib/python3.11/dist-packages (from sphinx->geoanalytics) (2.0.0)\n",
            "Requirement already satisfied: sphinxcontrib-htmlhelp>=2.0.6 in /usr/local/lib/python3.11/dist-packages (from sphinx->geoanalytics) (2.1.0)\n",
            "Requirement already satisfied: sphinxcontrib-jsmath>=1.0.1 in /usr/local/lib/python3.11/dist-packages (from sphinx->geoanalytics) (1.0.1)\n",
            "Requirement already satisfied: sphinxcontrib-qthelp>=1.0.6 in /usr/local/lib/python3.11/dist-packages (from sphinx->geoanalytics) (2.0.0)\n",
            "Requirement already satisfied: sphinxcontrib-serializinghtml>=1.1.9 in /usr/local/lib/python3.11/dist-packages (from sphinx->geoanalytics) (2.0.0)\n",
            "Requirement already satisfied: Jinja2>=3.1 in /usr/local/lib/python3.11/dist-packages (from sphinx->geoanalytics) (3.1.6)\n",
            "Requirement already satisfied: Pygments>=2.17 in /usr/local/lib/python3.11/dist-packages (from sphinx->geoanalytics) (2.19.1)\n",
            "Requirement already satisfied: docutils<0.22,>=0.20 in /usr/local/lib/python3.11/dist-packages (from sphinx->geoanalytics) (0.21.2)\n",
            "Requirement already satisfied: snowballstemmer>=2.2 in /usr/local/lib/python3.11/dist-packages (from sphinx->geoanalytics) (3.0.1)\n",
            "Requirement already satisfied: babel>=2.13 in /usr/local/lib/python3.11/dist-packages (from sphinx->geoanalytics) (2.17.0)\n",
            "Requirement already satisfied: alabaster>=0.7.14 in /usr/local/lib/python3.11/dist-packages (from sphinx->geoanalytics) (1.0.0)\n",
            "Requirement already satisfied: imagesize>=1.3 in /usr/local/lib/python3.11/dist-packages (from sphinx->geoanalytics) (1.4.1)\n",
            "Requirement already satisfied: requests>=2.30.0 in /usr/local/lib/python3.11/dist-packages (from sphinx->geoanalytics) (2.32.3)\n",
            "Requirement already satisfied: roman-numerals-py>=1.0.0 in /usr/local/lib/python3.11/dist-packages (from sphinx->geoanalytics) (3.1.0)\n",
            "Collecting sphinxcontrib-jquery<5,>=4 (from sphinx-rtd-theme->geoanalytics)\n",
            "  Downloading sphinxcontrib_jquery-4.1-py2.py3-none-any.whl.metadata (2.6 kB)\n",
            "Requirement already satisfied: aiohappyeyeballs>=2.3.0 in /usr/local/lib/python3.11/dist-packages (from aiohttp<4,>=3.7.4->discord.py->geoanalytics) (2.6.1)\n",
            "Requirement already satisfied: aiosignal>=1.1.2 in /usr/local/lib/python3.11/dist-packages (from aiohttp<4,>=3.7.4->discord.py->geoanalytics) (1.3.2)\n",
            "Requirement already satisfied: frozenlist>=1.1.1 in /usr/local/lib/python3.11/dist-packages (from aiohttp<4,>=3.7.4->discord.py->geoanalytics) (1.6.0)\n",
            "Requirement already satisfied: multidict<7.0,>=4.5 in /usr/local/lib/python3.11/dist-packages (from aiohttp<4,>=3.7.4->discord.py->geoanalytics) (6.4.4)\n",
            "Requirement already satisfied: propcache>=0.2.0 in /usr/local/lib/python3.11/dist-packages (from aiohttp<4,>=3.7.4->discord.py->geoanalytics) (0.3.1)\n",
            "Requirement already satisfied: yarl<2.0,>=1.17.0 in /usr/local/lib/python3.11/dist-packages (from aiohttp<4,>=3.7.4->discord.py->geoanalytics) (1.20.0)\n",
            "Requirement already satisfied: MarkupSafe>=2.0 in /usr/local/lib/python3.11/dist-packages (from Jinja2>=3.1->sphinx->geoanalytics) (3.0.2)\n",
            "Requirement already satisfied: jsonschema in /usr/local/lib/python3.11/dist-packages (from JsonForm>=0.0.2->resource->geoanalytics) (4.24.0)\n",
            "Requirement already satisfied: six>=1.5 in /usr/local/lib/python3.11/dist-packages (from python-dateutil>=2.8.2->pandas->geoanalytics) (1.17.0)\n",
            "Requirement already satisfied: PyYAML in /usr/local/lib/python3.11/dist-packages (from python-easyconfig>=0.1.0->resource->geoanalytics) (6.0.2)\n",
            "Requirement already satisfied: charset-normalizer<4,>=2 in /usr/local/lib/python3.11/dist-packages (from requests>=2.30.0->sphinx->geoanalytics) (3.4.2)\n",
            "Requirement already satisfied: idna<4,>=2.5 in /usr/local/lib/python3.11/dist-packages (from requests>=2.30.0->sphinx->geoanalytics) (3.10)\n",
            "Requirement already satisfied: jsonschema-specifications>=2023.03.6 in /usr/local/lib/python3.11/dist-packages (from jsonschema->JsonForm>=0.0.2->resource->geoanalytics) (2025.4.1)\n",
            "Requirement already satisfied: referencing>=0.28.4 in /usr/local/lib/python3.11/dist-packages (from jsonschema->JsonForm>=0.0.2->resource->geoanalytics) (0.36.2)\n",
            "Requirement already satisfied: rpds-py>=0.7.1 in /usr/local/lib/python3.11/dist-packages (from jsonschema->JsonForm>=0.0.2->resource->geoanalytics) (0.25.1)\n",
            "Requirement already satisfied: typing-extensions>=4.4.0 in /usr/local/lib/python3.11/dist-packages (from referencing>=0.28.4->jsonschema->JsonForm>=0.0.2->resource->geoanalytics) (4.14.0)\n",
            "Downloading geoanalytics-2025.6.12.3-py3-none-any.whl (131 kB)\n",
            "\u001b[2K   \u001b[90m━━━━━━━━━━━━━━━━━━━━━━━━━━━━━━━━━━━━━━━━\u001b[0m \u001b[32m131.4/131.4 kB\u001b[0m \u001b[31m5.8 MB/s\u001b[0m eta \u001b[36m0:00:00\u001b[0m\n",
            "\u001b[?25hDownloading Deprecated-1.2.18-py2.py3-none-any.whl (10.0 kB)\n",
            "Downloading discord_py-2.5.2-py3-none-any.whl (1.2 MB)\n",
            "\u001b[2K   \u001b[90m━━━━━━━━━━━━━━━━━━━━━━━━━━━━━━━━━━━━━━━━\u001b[0m \u001b[32m1.2/1.2 MB\u001b[0m \u001b[31m21.6 MB/s\u001b[0m eta \u001b[36m0:00:00\u001b[0m\n",
            "\u001b[?25hDownloading fastparquet-2024.11.0-cp311-cp311-manylinux_2_17_x86_64.manylinux2014_x86_64.whl (1.8 MB)\n",
            "\u001b[2K   \u001b[90m━━━━━━━━━━━━━━━━━━━━━━━━━━━━━━━━━━━━━━━━\u001b[0m \u001b[32m1.8/1.8 MB\u001b[0m \u001b[31m44.1 MB/s\u001b[0m eta \u001b[36m0:00:00\u001b[0m\n",
            "\u001b[?25hDownloading mplcursors-0.6-py3-none-any.whl (20 kB)\n",
            "Downloading pami-2025.3.25.1-py3-none-any.whl (1.2 MB)\n",
            "\u001b[2K   \u001b[90m━━━━━━━━━━━━━━━━━━━━━━━━━━━━━━━━━━━━━━━━\u001b[0m \u001b[32m1.2/1.2 MB\u001b[0m \u001b[31m41.8 MB/s\u001b[0m eta \u001b[36m0:00:00\u001b[0m\n",
            "\u001b[?25hDownloading psycopg2_binary-2.9.10-cp311-cp311-manylinux_2_17_x86_64.manylinux2014_x86_64.whl (3.0 MB)\n",
            "\u001b[2K   \u001b[90m━━━━━━━━━━━━━━━━━━━━━━━━━━━━━━━━━━━━━━━━\u001b[0m \u001b[32m3.0/3.0 MB\u001b[0m \u001b[31m57.0 MB/s\u001b[0m eta \u001b[36m0:00:00\u001b[0m\n",
            "\u001b[?25hDownloading rasterio-1.4.3-cp311-cp311-manylinux_2_17_x86_64.manylinux2014_x86_64.whl (22.2 MB)\n",
            "\u001b[2K   \u001b[90m━━━━━━━━━━━━━━━━━━━━━━━━━━━━━━━━━━━━━━━━\u001b[0m \u001b[32m22.2/22.2 MB\u001b[0m \u001b[31m33.3 MB/s\u001b[0m eta \u001b[36m0:00:00\u001b[0m\n",
            "\u001b[?25hDownloading Resource-0.2.1-py2.py3-none-any.whl (25 kB)\n",
            "Downloading sphinx_rtd_theme-3.0.2-py2.py3-none-any.whl (7.7 MB)\n",
            "\u001b[2K   \u001b[90m━━━━━━━━━━━━━━━━━━━━━━━━━━━━━━━━━━━━━━━━\u001b[0m \u001b[32m7.7/7.7 MB\u001b[0m \u001b[31m69.1 MB/s\u001b[0m eta \u001b[36m0:00:00\u001b[0m\n",
            "\u001b[?25hDownloading validators-0.35.0-py3-none-any.whl (44 kB)\n",
            "\u001b[2K   \u001b[90m━━━━━━━━━━━━━━━━━━━━━━━━━━━━━━━━━━━━━━━━\u001b[0m \u001b[32m44.7/44.7 kB\u001b[0m \u001b[31m2.3 MB/s\u001b[0m eta \u001b[36m0:00:00\u001b[0m\n",
            "\u001b[?25hDownloading cligj-0.7.2-py3-none-any.whl (7.1 kB)\n",
            "Downloading Python_EasyConfig-0.1.7-py2.py3-none-any.whl (5.4 kB)\n",
            "Downloading sphinxcontrib_jquery-4.1-py2.py3-none-any.whl (121 kB)\n",
            "\u001b[2K   \u001b[90m━━━━━━━━━━━━━━━━━━━━━━━━━━━━━━━━━━━━━━━━\u001b[0m \u001b[32m121.1/121.1 kB\u001b[0m \u001b[31m8.5 MB/s\u001b[0m eta \u001b[36m0:00:00\u001b[0m\n",
            "\u001b[?25hDownloading affine-2.4.0-py3-none-any.whl (15 kB)\n",
            "Downloading click_plugins-1.1.1-py2.py3-none-any.whl (7.5 kB)\n",
            "Building wheels for collected packages: JsonForm, JsonSir\n",
            "  Building wheel for JsonForm (setup.py) ... \u001b[?25l\u001b[?25hdone\n",
            "  Created wheel for JsonForm: filename=JsonForm-0.0.2-py3-none-any.whl size=3311 sha256=6e3059c8d5c8709fbedbeff6fbf438d4c3881405e7d8c115f015dde3c3af83ad\n",
            "  Stored in directory: /root/.cache/pip/wheels/ee/53/ac/c77344bd941889aa16ad694cb203ee587de1749e973ba9fdb8\n",
            "  Building wheel for JsonSir (setup.py) ... \u001b[?25l\u001b[?25hdone\n",
            "  Created wheel for JsonSir: filename=JsonSir-0.0.2-py3-none-any.whl size=4754 sha256=1055e6214b87ee424b7f53e5c83b88e05a76cba6f99f8e4a69c3458c5aec0d47\n",
            "  Stored in directory: /root/.cache/pip/wheels/d0/92/1d/bdf54bd7aefaf8305526450e3337733509b755328692619664\n",
            "Successfully built JsonForm JsonSir\n",
            "Installing collected packages: JsonSir, validators, python-easyconfig, psycopg2-binary, deprecated, cligj, click-plugins, affine, rasterio, sphinxcontrib-jquery, mplcursors, fastparquet, discord.py, sphinx-rtd-theme, JsonForm, resource, pami, geoanalytics\n",
            "Successfully installed JsonForm-0.0.2 JsonSir-0.0.2 affine-2.4.0 click-plugins-1.1.1 cligj-0.7.2 deprecated-1.2.18 discord.py-2.5.2 fastparquet-2024.11.0 geoanalytics-2025.6.12.3 mplcursors-0.6 pami-2025.3.25.1 psycopg2-binary-2.9.10 python-easyconfig-0.1.7 rasterio-1.4.3 resource-0.2.1 sphinx-rtd-theme-3.0.2 sphinxcontrib-jquery-4.1 validators-0.35.0\n"
          ]
        },
        {
          "output_type": "display_data",
          "data": {
            "application/vnd.colab-display-data+json": {
              "pip_warning": {
                "packages": [
                  "sphinxcontrib"
                ]
              },
              "id": "e0b344f04bb34c23bb2fab111d9af43d"
            }
          },
          "metadata": {}
        }
      ],
      "source": [
        "!pip install geoanalytics"
      ]
    },
    {
      "cell_type": "markdown",
      "source": [
        "## Step 2: Knowing the information of geoanalytics package"
      ],
      "metadata": {
        "id": "7GipW6iDWN08"
      }
    },
    {
      "cell_type": "code",
      "source": [
        "pip show geoanalytics"
      ],
      "metadata": {
        "colab": {
          "base_uri": "https://localhost:8080/"
        },
        "id": "w-7q-KvbfQKp",
        "outputId": "d423d244-9aa4-48ed-ddab-caf033d46ab7"
      },
      "execution_count": null,
      "outputs": [
        {
          "output_type": "stream",
          "name": "stdout",
          "text": [
            "Name: geoanalytics\n",
            "Version: 2025.6.12.3\n",
            "Summary: This software is being developed at the University of Aizu, Aizu-Wakamatsu, Fukushima, Japan\n",
            "Home-page: https://github.com/UdayLab/geoanalytics\n",
            "Author: \n",
            "Author-email: Rage Uday Kiran <uday.rage@gmail.com>\n",
            "License: GPLv3\n",
            "Location: /usr/local/lib/python3.11/dist-packages\n",
            "Requires: deprecated, discord.py, fastparquet, matplotlib, mplcursors, networkx, numba, numpy, pami, pandas, Pillow, plotly, psutil, psycopg2-binary, rasterio, resource, scikit-learn, shapely, sphinx, sphinx-rtd-theme, tqdm, urllib3, validators\n",
            "Required-by: \n"
          ]
        }
      ]
    },
    {
      "cell_type": "markdown",
      "source": [
        "## Step 3: Converting Various Raster Files into CSV Files"
      ],
      "metadata": {
        "id": "PxFsCBByWZ60"
      }
    },
    {
      "cell_type": "markdown",
      "source": [
        "### Step 3.1: TIFF to CSV"
      ],
      "metadata": {
        "id": "71GAgCz4WizJ"
      }
    },
    {
      "cell_type": "markdown",
      "source": [
        "#### Step 3.1.1: Download the File"
      ],
      "metadata": {
        "id": "WO0PFRt1Wr0f"
      }
    },
    {
      "cell_type": "code",
      "source": [
        "!wget https://www.dropbox.com/scl/fi/zztenelm7eo1llano1uwf/recut.tiff?rlkey=t3is6em3l17s05hlylz59mje3&st=01otnqj1&dl=1"
      ],
      "metadata": {
        "colab": {
          "base_uri": "https://localhost:8080/"
        },
        "id": "TO-iQbHqXpWQ",
        "outputId": "b0af2fed-6339-41b4-f839-e7051b680a6b"
      },
      "execution_count": null,
      "outputs": [
        {
          "output_type": "stream",
          "name": "stdout",
          "text": [
            "--2025-06-13 08:21:48--  https://www.dropbox.com/scl/fi/zztenelm7eo1llano1uwf/recut.tiff?rlkey=t3is6em3l17s05hlylz59mje3\n",
            "Resolving www.dropbox.com (www.dropbox.com)... 162.125.5.18, 2620:100:601d:18::a27d:512\n",
            "Connecting to www.dropbox.com (www.dropbox.com)|162.125.5.18|:443... connected.\n",
            "HTTP request sent, awaiting response... 302 Found\n",
            "Location: https://uc9fb3c37a13c3e9aa92bc9fc33b.dl.dropboxusercontent.com/cd/0/inline/CrhoT-yOcchzQyhi06DlZnaKNomxw_R_dKm591ITve93VDZGmxZEz5TDdg4KZzY8NFdxPm3YyssnDKNrDOG61f4BV4b8BT0ItqyCp6WoAUbqwDPqq697iJnc-JyUEsxi4dYhXeHEAjwr7--FFmrlC16s/file# [following]\n",
            "--2025-06-13 08:21:48--  https://uc9fb3c37a13c3e9aa92bc9fc33b.dl.dropboxusercontent.com/cd/0/inline/CrhoT-yOcchzQyhi06DlZnaKNomxw_R_dKm591ITve93VDZGmxZEz5TDdg4KZzY8NFdxPm3YyssnDKNrDOG61f4BV4b8BT0ItqyCp6WoAUbqwDPqq697iJnc-JyUEsxi4dYhXeHEAjwr7--FFmrlC16s/file\n",
            "Resolving uc9fb3c37a13c3e9aa92bc9fc33b.dl.dropboxusercontent.com (uc9fb3c37a13c3e9aa92bc9fc33b.dl.dropboxusercontent.com)... 162.125.5.15, 2620:100:601d:15::a27d:50f\n",
            "Connecting to uc9fb3c37a13c3e9aa92bc9fc33b.dl.dropboxusercontent.com (uc9fb3c37a13c3e9aa92bc9fc33b.dl.dropboxusercontent.com)|162.125.5.15|:443... connected.\n",
            "HTTP request sent, awaiting response... 200 OK\n",
            "Length: 285770425 (273M) [image/tiff]\n",
            "Saving to: ‘recut.tiff?rlkey=t3is6em3l17s05hlylz59mje3’\n",
            "\n",
            "recut.tiff?rlkey=t3 100%[===================>] 272.53M  58.2MB/s    in 4.6s    \n",
            "\n",
            "2025-06-13 08:21:53 (59.5 MB/s) - ‘recut.tiff?rlkey=t3is6em3l17s05hlylz59mje3’ saved [285770425/285770425]\n",
            "\n"
          ]
        }
      ]
    },
    {
      "cell_type": "markdown",
      "source": [
        "##### Rename the file"
      ],
      "metadata": {
        "id": "6QFgbdLGYbNB"
      }
    },
    {
      "cell_type": "code",
      "source": [
        "!mv recut.tiff?rlkey=t3is6em3l17s05hlylz59mje3 recut.tiff"
      ],
      "metadata": {
        "id": "9yMsRe89YE97"
      },
      "execution_count": null,
      "outputs": []
    },
    {
      "cell_type": "markdown",
      "source": [
        "#### Step 3.1.2: Converting the Raster File into a CSV file"
      ],
      "metadata": {
        "id": "bi0D7OVOWxky"
      }
    },
    {
      "cell_type": "code",
      "source": [
        "from geoanalytics.conversion import Raster2CSV"
      ],
      "metadata": {
        "id": "C3pC6bZ5Yke7"
      },
      "execution_count": null,
      "outputs": []
    },
    {
      "cell_type": "code",
      "source": [
        "convertTiff = Raster2CSV.Raster2CSV(inputFile=\"recut.tiff\", outputFile=\"recut.csv\", startBand=1,endBand=489)\n",
        "convertTiff.run()"
      ],
      "metadata": {
        "colab": {
          "base_uri": "https://localhost:8080/"
        },
        "id": "LPxsnI5xYrxS",
        "outputId": "922767fa-652a-4bf8-ce33-c295fee144d4"
      },
      "execution_count": null,
      "outputs": [
        {
          "output_type": "stream",
          "name": "stdout",
          "text": [
            "Processing: recut.tiff\n",
            "Done. Output saved to: recut.csv\n"
          ]
        }
      ]
    },
    {
      "cell_type": "markdown",
      "source": [
        "#### Step 3.1.3: Printing the Portion of converted CSV File"
      ],
      "metadata": {
        "id": "V8TdRZ_hW32o"
      }
    },
    {
      "cell_type": "code",
      "source": [
        "!head recut.csv"
      ],
      "metadata": {
        "colab": {
          "base_uri": "https://localhost:8080/"
        },
        "id": "gkqsGx8TZQAo",
        "outputId": "b7674339-8aa1-4375-c982-b7ea828e3c9e"
      },
      "execution_count": null,
      "outputs": [
        {
          "output_type": "stream",
          "name": "stdout",
          "text": [
            "x\ty\t1\t2\t3\t4\t5\t6\t7\t8\t9\t10\t11\t12\t13\t14\t15\t16\t17\t18\t19\t20\t21\t22\t23\t24\t25\t26\t27\t28\t29\t30\t31\t32\t33\t34\t35\t36\t37\t38\t39\t40\t41\t42\t43\t44\t45\t46\t47\t48\t49\t50\t51\t52\t53\t54\t55\t56\t57\t58\t59\t60\t61\t62\t63\t64\t65\t66\t67\t68\t69\t70\t71\t72\t73\t74\t75\t76\t77\t78\t79\t80\t81\t82\t83\t84\t85\t86\t87\t88\t89\t90\t91\t92\t93\t94\t95\t96\t97\t98\t99\t100\t101\t102\t103\t104\t105\t106\t107\t108\t109\t110\t111\t112\t113\t114\t115\t116\t117\t118\t119\t120\t121\t122\t123\t124\t125\t126\t127\t128\t129\t130\t131\t132\t133\t134\t135\t136\t137\t138\t139\t140\t141\t142\t143\t144\t145\t146\t147\t148\t149\t150\t151\t152\t153\t154\t155\t156\t157\t158\t159\t160\t161\t162\t163\t164\t165\t166\t167\t168\t169\t170\t171\t172\t173\t174\t175\t176\t177\t178\t179\t180\t181\t182\t183\t184\t185\t186\t187\t188\t189\t190\t191\t192\t193\t194\t195\t196\t197\t198\t199\t200\t201\t202\t203\t204\t205\t206\t207\t208\t209\t210\t211\t212\t213\t214\t215\t216\t217\t218\t219\t220\t221\t222\t223\t224\t225\t226\t227\t228\t229\t230\t231\t232\t233\t234\t235\t236\t237\t238\t239\t240\t241\t242\t243\t244\t245\t246\t247\t248\t249\t250\t251\t252\t253\t254\t255\t256\t257\t258\t259\t260\t261\t262\t263\t264\t265\t266\t267\t268\t269\t270\t271\t272\t273\t274\t275\t276\t277\t278\t279\t280\t281\t282\t283\t284\t285\t286\t287\t288\t289\t290\t291\t292\t293\t294\t295\t296\t297\t298\t299\t300\t301\t302\t303\t304\t305\t306\t307\t308\t309\t310\t311\t312\t313\t314\t315\t316\t317\t318\t319\t320\t321\t322\t323\t324\t325\t326\t327\t328\t329\t330\t331\t332\t333\t334\t335\t336\t337\t338\t339\t340\t341\t342\t343\t344\t345\t346\t347\t348\t349\t350\t351\t352\t353\t354\t355\t356\t357\t358\t359\t360\t361\t362\t363\t364\t365\t366\t367\t368\t369\t370\t371\t372\t373\t374\t375\t376\t377\t378\t379\t380\t381\t382\t383\t384\t385\t386\t387\t388\t389\t390\t391\t392\t393\t394\t395\t396\t397\t398\t399\t400\t401\t402\t403\t404\t405\t406\t407\t408\t409\t410\t411\t412\t413\t414\t415\t416\t417\t418\t419\t420\t421\t422\t423\t424\t425\t426\t427\t428\t429\t430\t431\t432\t433\t434\t435\t436\t437\t438\t439\t440\t441\t442\t443\t444\t445\t446\t447\t448\t449\t450\t451\t452\t453\t454\t455\t456\t457\t458\t459\t460\t461\t462\t463\t464\t465\t466\t467\t468\t469\t470\t471\t472\t473\t474\t475\t476\t477\t478\t479\t480\t481\t482\t483\t484\t485\t486\t487\t488\t489\n",
            "-5435170.6\t1480546.5\t65535.0\t65535.0\t65535.0\t65535.0\t65535.0\t65535.0\t65535.0\t65535.0\t65535.0\t65535.0\t65535.0\t65535.0\t65535.0\t65535.0\t65535.0\t65535.0\t65535.0\t65535.0\t65535.0\t65535.0\t65535.0\t65535.0\t65535.0\t65535.0\t65535.0\t65535.0\t65535.0\t65535.0\t65535.0\t65535.0\t65535.0\t65535.0\t65535.0\t65535.0\t65535.0\t65535.0\t65535.0\t65535.0\t65535.0\t65535.0\t65535.0\t65535.0\t65535.0\t65535.0\t65535.0\t65535.0\t65535.0\t65535.0\t65535.0\t65535.0\t65535.0\t65535.0\t65535.0\t65535.0\t65535.0\t65535.0\t65535.0\t65535.0\t65535.0\t65535.0\t65535.0\t65535.0\t65535.0\t65535.0\t65535.0\t65535.0\t65535.0\t65535.0\t65535.0\t65535.0\t65535.0\t65535.0\t65535.0\t65535.0\t65535.0\t65535.0\t65535.0\t65535.0\t65535.0\t65535.0\t65535.0\t65535.0\t65535.0\t65535.0\t65535.0\t65535.0\t65535.0\t65535.0\t65535.0\t65535.0\t65535.0\t65535.0\t65535.0\t65535.0\t65535.0\t65535.0\t65535.0\t65535.0\t65535.0\t65535.0\t65535.0\t65535.0\t65535.0\t65535.0\t65535.0\t65535.0\t65535.0\t65535.0\t65535.0\t65535.0\t65535.0\t65535.0\t65535.0\t65535.0\t65535.0\t65535.0\t65535.0\t65535.0\t65535.0\t65535.0\t65535.0\t65535.0\t65535.0\t65535.0\t65535.0\t65535.0\t65535.0\t65535.0\t65535.0\t65535.0\t65535.0\t65535.0\t65535.0\t65535.0\t65535.0\t65535.0\t65535.0\t65535.0\t65535.0\t65535.0\t65535.0\t65535.0\t65535.0\t65535.0\t65535.0\t65535.0\t65535.0\t65535.0\t65535.0\t65535.0\t65535.0\t65535.0\t65535.0\t65535.0\t65535.0\t65535.0\t65535.0\t65535.0\t65535.0\t65535.0\t65535.0\t65535.0\t65535.0\t65535.0\t65535.0\t65535.0\t65535.0\t65535.0\t65535.0\t65535.0\t65535.0\t65535.0\t65535.0\t65535.0\t65535.0\t65535.0\t65535.0\t65535.0\t65535.0\t65535.0\t65535.0\t65535.0\t65535.0\t65535.0\t65535.0\t65535.0\t65535.0\t65535.0\t65535.0\t65535.0\t65535.0\t65535.0\t65535.0\t65535.0\t65535.0\t65535.0\t65535.0\t65535.0\t65535.0\t65535.0\t65535.0\t65535.0\t65535.0\t65535.0\t65535.0\t65535.0\t65535.0\t65535.0\t65535.0\t65535.0\t65535.0\t65535.0\t65535.0\t65535.0\t65535.0\t65535.0\t65535.0\t65535.0\t65535.0\t65535.0\t65535.0\t65535.0\t65535.0\t65535.0\t65535.0\t65535.0\t65535.0\t65535.0\t65535.0\t65535.0\t65535.0\t65535.0\t65535.0\t65535.0\t65535.0\t65535.0\t65535.0\t65535.0\t65535.0\t65535.0\t65535.0\t65535.0\t65535.0\t65535.0\t65535.0\t65535.0\t65535.0\t65535.0\t65535.0\t65535.0\t65535.0\t65535.0\t65535.0\t65535.0\t65535.0\t65535.0\t65535.0\t65535.0\t65535.0\t65535.0\t65535.0\t65535.0\t65535.0\t65535.0\t65535.0\t65535.0\t65535.0\t65535.0\t65535.0\t65535.0\t65535.0\t65535.0\t65535.0\t65535.0\t65535.0\t65535.0\t65535.0\t65535.0\t65535.0\t65535.0\t65535.0\t65535.0\t65535.0\t65535.0\t65535.0\t65535.0\t65535.0\t65535.0\t65535.0\t65535.0\t65535.0\t65535.0\t65535.0\t65535.0\t65535.0\t65535.0\t65535.0\t65535.0\t65535.0\t65535.0\t65535.0\t65535.0\t65535.0\t65535.0\t65535.0\t65535.0\t65535.0\t65535.0\t65535.0\t65535.0\t65535.0\t65535.0\t65535.0\t65535.0\t65535.0\t65535.0\t65535.0\t65535.0\t65535.0\t65535.0\t65535.0\t65535.0\t65535.0\t65535.0\t65535.0\t65535.0\t65535.0\t65535.0\t65535.0\t65535.0\t65535.0\t65535.0\t65535.0\t65535.0\t65535.0\t65535.0\t65535.0\t65535.0\t65535.0\t65535.0\t65535.0\t65535.0\t65535.0\t65535.0\t65535.0\t65535.0\t65535.0\t65535.0\t65535.0\t65535.0\t65535.0\t65535.0\t65535.0\t65535.0\t65535.0\t65535.0\t65535.0\t65535.0\t65535.0\t65535.0\t65535.0\t65535.0\t65535.0\t65535.0\t65535.0\t65535.0\t65535.0\t65535.0\t65535.0\t65535.0\t65535.0\t65535.0\t65535.0\t65535.0\t65535.0\t65535.0\t65535.0\t65535.0\t65535.0\t65535.0\t65535.0\t65535.0\t65535.0\t65535.0\t65535.0\t65535.0\t65535.0\t65535.0\t65535.0\t65535.0\t65535.0\t65535.0\t65535.0\t65535.0\t65535.0\t65535.0\t65535.0\t65535.0\t65535.0\t65535.0\t65535.0\t65535.0\t65535.0\t65535.0\t65535.0\t65535.0\t65535.0\t65535.0\t65535.0\t65535.0\t65535.0\t65535.0\t65535.0\t65535.0\t65535.0\t65535.0\t65535.0\t65535.0\t65535.0\t65535.0\t65535.0\t65535.0\t65535.0\t65535.0\t65535.0\t65535.0\t65535.0\t65535.0\t65535.0\t65535.0\t65535.0\t65535.0\t65535.0\t65535.0\t65535.0\t65535.0\t65535.0\t65535.0\t65535.0\t65535.0\t65535.0\t65535.0\t65535.0\t65535.0\t65535.0\t65535.0\t65535.0\t65535.0\t65535.0\t65535.0\t65535.0\t65535.0\t65535.0\t65535.0\t65535.0\t65535.0\t65535.0\t65535.0\t65535.0\t65535.0\t65535.0\t65535.0\t65535.0\t65535.0\t65535.0\t65535.0\t65535.0\t65535.0\t65535.0\t65535.0\t65535.0\t65535.0\t65535.0\t65535.0\t65535.0\t65535.0\t65535.0\t65535.0\t65535.0\t65535.0\t65535.0\t65535.0\t65535.0\t65535.0\t65535.0\t65535.0\t65535.0\t65535.0\t65535.0\n",
            "-5435152.6\t1480546.5\t65535.0\t65535.0\t65535.0\t65535.0\t65535.0\t65535.0\t65535.0\t65535.0\t65535.0\t65535.0\t65535.0\t65535.0\t65535.0\t65535.0\t65535.0\t65535.0\t65535.0\t65535.0\t65535.0\t65535.0\t65535.0\t65535.0\t65535.0\t65535.0\t65535.0\t65535.0\t65535.0\t65535.0\t65535.0\t65535.0\t65535.0\t65535.0\t65535.0\t65535.0\t65535.0\t65535.0\t65535.0\t65535.0\t65535.0\t65535.0\t65535.0\t65535.0\t65535.0\t65535.0\t65535.0\t65535.0\t65535.0\t65535.0\t65535.0\t65535.0\t65535.0\t65535.0\t65535.0\t65535.0\t65535.0\t65535.0\t65535.0\t65535.0\t65535.0\t65535.0\t65535.0\t65535.0\t65535.0\t65535.0\t65535.0\t65535.0\t65535.0\t65535.0\t65535.0\t65535.0\t65535.0\t65535.0\t65535.0\t65535.0\t65535.0\t65535.0\t65535.0\t65535.0\t65535.0\t65535.0\t65535.0\t65535.0\t65535.0\t65535.0\t65535.0\t65535.0\t65535.0\t65535.0\t65535.0\t65535.0\t65535.0\t65535.0\t65535.0\t65535.0\t65535.0\t65535.0\t65535.0\t65535.0\t65535.0\t65535.0\t65535.0\t65535.0\t65535.0\t65535.0\t65535.0\t65535.0\t65535.0\t65535.0\t65535.0\t65535.0\t65535.0\t65535.0\t65535.0\t65535.0\t65535.0\t65535.0\t65535.0\t65535.0\t65535.0\t65535.0\t65535.0\t65535.0\t65535.0\t65535.0\t65535.0\t65535.0\t65535.0\t65535.0\t65535.0\t65535.0\t65535.0\t65535.0\t65535.0\t65535.0\t65535.0\t65535.0\t65535.0\t65535.0\t65535.0\t65535.0\t65535.0\t65535.0\t65535.0\t65535.0\t65535.0\t65535.0\t65535.0\t65535.0\t65535.0\t65535.0\t65535.0\t65535.0\t65535.0\t65535.0\t65535.0\t65535.0\t65535.0\t65535.0\t65535.0\t65535.0\t65535.0\t65535.0\t65535.0\t65535.0\t65535.0\t65535.0\t65535.0\t65535.0\t65535.0\t65535.0\t65535.0\t65535.0\t65535.0\t65535.0\t65535.0\t65535.0\t65535.0\t65535.0\t65535.0\t65535.0\t65535.0\t65535.0\t65535.0\t65535.0\t65535.0\t65535.0\t65535.0\t65535.0\t65535.0\t65535.0\t65535.0\t65535.0\t65535.0\t65535.0\t65535.0\t65535.0\t65535.0\t65535.0\t65535.0\t65535.0\t65535.0\t65535.0\t65535.0\t65535.0\t65535.0\t65535.0\t65535.0\t65535.0\t65535.0\t65535.0\t65535.0\t65535.0\t65535.0\t65535.0\t65535.0\t65535.0\t65535.0\t65535.0\t65535.0\t65535.0\t65535.0\t65535.0\t65535.0\t65535.0\t65535.0\t65535.0\t65535.0\t65535.0\t65535.0\t65535.0\t65535.0\t65535.0\t65535.0\t65535.0\t65535.0\t65535.0\t65535.0\t65535.0\t65535.0\t65535.0\t65535.0\t65535.0\t65535.0\t65535.0\t65535.0\t65535.0\t65535.0\t65535.0\t65535.0\t65535.0\t65535.0\t65535.0\t65535.0\t65535.0\t65535.0\t65535.0\t65535.0\t65535.0\t65535.0\t65535.0\t65535.0\t65535.0\t65535.0\t65535.0\t65535.0\t65535.0\t65535.0\t65535.0\t65535.0\t65535.0\t65535.0\t65535.0\t65535.0\t65535.0\t65535.0\t65535.0\t65535.0\t65535.0\t65535.0\t65535.0\t65535.0\t65535.0\t65535.0\t65535.0\t65535.0\t65535.0\t65535.0\t65535.0\t65535.0\t65535.0\t65535.0\t65535.0\t65535.0\t65535.0\t65535.0\t65535.0\t65535.0\t65535.0\t65535.0\t65535.0\t65535.0\t65535.0\t65535.0\t65535.0\t65535.0\t65535.0\t65535.0\t65535.0\t65535.0\t65535.0\t65535.0\t65535.0\t65535.0\t65535.0\t65535.0\t65535.0\t65535.0\t65535.0\t65535.0\t65535.0\t65535.0\t65535.0\t65535.0\t65535.0\t65535.0\t65535.0\t65535.0\t65535.0\t65535.0\t65535.0\t65535.0\t65535.0\t65535.0\t65535.0\t65535.0\t65535.0\t65535.0\t65535.0\t65535.0\t65535.0\t65535.0\t65535.0\t65535.0\t65535.0\t65535.0\t65535.0\t65535.0\t65535.0\t65535.0\t65535.0\t65535.0\t65535.0\t65535.0\t65535.0\t65535.0\t65535.0\t65535.0\t65535.0\t65535.0\t65535.0\t65535.0\t65535.0\t65535.0\t65535.0\t65535.0\t65535.0\t65535.0\t65535.0\t65535.0\t65535.0\t65535.0\t65535.0\t65535.0\t65535.0\t65535.0\t65535.0\t65535.0\t65535.0\t65535.0\t65535.0\t65535.0\t65535.0\t65535.0\t65535.0\t65535.0\t65535.0\t65535.0\t65535.0\t65535.0\t65535.0\t65535.0\t65535.0\t65535.0\t65535.0\t65535.0\t65535.0\t65535.0\t65535.0\t65535.0\t65535.0\t65535.0\t65535.0\t65535.0\t65535.0\t65535.0\t65535.0\t65535.0\t65535.0\t65535.0\t65535.0\t65535.0\t65535.0\t65535.0\t65535.0\t65535.0\t65535.0\t65535.0\t65535.0\t65535.0\t65535.0\t65535.0\t65535.0\t65535.0\t65535.0\t65535.0\t65535.0\t65535.0\t65535.0\t65535.0\t65535.0\t65535.0\t65535.0\t65535.0\t65535.0\t65535.0\t65535.0\t65535.0\t65535.0\t65535.0\t65535.0\t65535.0\t65535.0\t65535.0\t65535.0\t65535.0\t65535.0\t65535.0\t65535.0\t65535.0\t65535.0\t65535.0\t65535.0\t65535.0\t65535.0\t65535.0\t65535.0\t65535.0\t65535.0\t65535.0\t65535.0\t65535.0\t65535.0\t65535.0\t65535.0\t65535.0\t65535.0\t65535.0\t65535.0\t65535.0\t65535.0\t65535.0\t65535.0\t65535.0\t65535.0\t65535.0\t65535.0\t65535.0\t65535.0\t65535.0\t65535.0\t65535.0\t65535.0\t65535.0\t65535.0\t65535.0\t65535.0\t65535.0\t65535.0\t65535.0\n",
            "-5435134.6\t1480546.5\t65535.0\t65535.0\t65535.0\t65535.0\t65535.0\t65535.0\t65535.0\t65535.0\t65535.0\t65535.0\t65535.0\t65535.0\t65535.0\t65535.0\t65535.0\t65535.0\t65535.0\t65535.0\t65535.0\t65535.0\t65535.0\t65535.0\t65535.0\t65535.0\t65535.0\t65535.0\t65535.0\t65535.0\t65535.0\t65535.0\t65535.0\t65535.0\t65535.0\t65535.0\t65535.0\t65535.0\t65535.0\t65535.0\t65535.0\t65535.0\t65535.0\t65535.0\t65535.0\t65535.0\t65535.0\t65535.0\t65535.0\t65535.0\t65535.0\t65535.0\t65535.0\t65535.0\t65535.0\t65535.0\t65535.0\t65535.0\t65535.0\t65535.0\t65535.0\t65535.0\t65535.0\t65535.0\t65535.0\t65535.0\t65535.0\t65535.0\t65535.0\t65535.0\t65535.0\t65535.0\t65535.0\t65535.0\t65535.0\t65535.0\t65535.0\t65535.0\t65535.0\t65535.0\t65535.0\t65535.0\t65535.0\t65535.0\t65535.0\t65535.0\t65535.0\t65535.0\t65535.0\t65535.0\t65535.0\t65535.0\t65535.0\t65535.0\t65535.0\t65535.0\t65535.0\t65535.0\t65535.0\t65535.0\t65535.0\t65535.0\t65535.0\t65535.0\t65535.0\t65535.0\t65535.0\t65535.0\t65535.0\t65535.0\t65535.0\t65535.0\t65535.0\t65535.0\t65535.0\t65535.0\t65535.0\t65535.0\t65535.0\t65535.0\t65535.0\t65535.0\t65535.0\t65535.0\t65535.0\t65535.0\t65535.0\t65535.0\t65535.0\t65535.0\t65535.0\t65535.0\t65535.0\t65535.0\t65535.0\t65535.0\t65535.0\t65535.0\t65535.0\t65535.0\t65535.0\t65535.0\t65535.0\t65535.0\t65535.0\t65535.0\t65535.0\t65535.0\t65535.0\t65535.0\t65535.0\t65535.0\t65535.0\t65535.0\t65535.0\t65535.0\t65535.0\t65535.0\t65535.0\t65535.0\t65535.0\t65535.0\t65535.0\t65535.0\t65535.0\t65535.0\t65535.0\t65535.0\t65535.0\t65535.0\t65535.0\t65535.0\t65535.0\t65535.0\t65535.0\t65535.0\t65535.0\t65535.0\t65535.0\t65535.0\t65535.0\t65535.0\t65535.0\t65535.0\t65535.0\t65535.0\t65535.0\t65535.0\t65535.0\t65535.0\t65535.0\t65535.0\t65535.0\t65535.0\t65535.0\t65535.0\t65535.0\t65535.0\t65535.0\t65535.0\t65535.0\t65535.0\t65535.0\t65535.0\t65535.0\t65535.0\t65535.0\t65535.0\t65535.0\t65535.0\t65535.0\t65535.0\t65535.0\t65535.0\t65535.0\t65535.0\t65535.0\t65535.0\t65535.0\t65535.0\t65535.0\t65535.0\t65535.0\t65535.0\t65535.0\t65535.0\t65535.0\t65535.0\t65535.0\t65535.0\t65535.0\t65535.0\t65535.0\t65535.0\t65535.0\t65535.0\t65535.0\t65535.0\t65535.0\t65535.0\t65535.0\t65535.0\t65535.0\t65535.0\t65535.0\t65535.0\t65535.0\t65535.0\t65535.0\t65535.0\t65535.0\t65535.0\t65535.0\t65535.0\t65535.0\t65535.0\t65535.0\t65535.0\t65535.0\t65535.0\t65535.0\t65535.0\t65535.0\t65535.0\t65535.0\t65535.0\t65535.0\t65535.0\t65535.0\t65535.0\t65535.0\t65535.0\t65535.0\t65535.0\t65535.0\t65535.0\t65535.0\t65535.0\t65535.0\t65535.0\t65535.0\t65535.0\t65535.0\t65535.0\t65535.0\t65535.0\t65535.0\t65535.0\t65535.0\t65535.0\t65535.0\t65535.0\t65535.0\t65535.0\t65535.0\t65535.0\t65535.0\t65535.0\t65535.0\t65535.0\t65535.0\t65535.0\t65535.0\t65535.0\t65535.0\t65535.0\t65535.0\t65535.0\t65535.0\t65535.0\t65535.0\t65535.0\t65535.0\t65535.0\t65535.0\t65535.0\t65535.0\t65535.0\t65535.0\t65535.0\t65535.0\t65535.0\t65535.0\t65535.0\t65535.0\t65535.0\t65535.0\t65535.0\t65535.0\t65535.0\t65535.0\t65535.0\t65535.0\t65535.0\t65535.0\t65535.0\t65535.0\t65535.0\t65535.0\t65535.0\t65535.0\t65535.0\t65535.0\t65535.0\t65535.0\t65535.0\t65535.0\t65535.0\t65535.0\t65535.0\t65535.0\t65535.0\t65535.0\t65535.0\t65535.0\t65535.0\t65535.0\t65535.0\t65535.0\t65535.0\t65535.0\t65535.0\t65535.0\t65535.0\t65535.0\t65535.0\t65535.0\t65535.0\t65535.0\t65535.0\t65535.0\t65535.0\t65535.0\t65535.0\t65535.0\t65535.0\t65535.0\t65535.0\t65535.0\t65535.0\t65535.0\t65535.0\t65535.0\t65535.0\t65535.0\t65535.0\t65535.0\t65535.0\t65535.0\t65535.0\t65535.0\t65535.0\t65535.0\t65535.0\t65535.0\t65535.0\t65535.0\t65535.0\t65535.0\t65535.0\t65535.0\t65535.0\t65535.0\t65535.0\t65535.0\t65535.0\t65535.0\t65535.0\t65535.0\t65535.0\t65535.0\t65535.0\t65535.0\t65535.0\t65535.0\t65535.0\t65535.0\t65535.0\t65535.0\t65535.0\t65535.0\t65535.0\t65535.0\t65535.0\t65535.0\t65535.0\t65535.0\t65535.0\t65535.0\t65535.0\t65535.0\t65535.0\t65535.0\t65535.0\t65535.0\t65535.0\t65535.0\t65535.0\t65535.0\t65535.0\t65535.0\t65535.0\t65535.0\t65535.0\t65535.0\t65535.0\t65535.0\t65535.0\t65535.0\t65535.0\t65535.0\t65535.0\t65535.0\t65535.0\t65535.0\t65535.0\t65535.0\t65535.0\t65535.0\t65535.0\t65535.0\t65535.0\t65535.0\t65535.0\t65535.0\t65535.0\t65535.0\t65535.0\t65535.0\t65535.0\t65535.0\t65535.0\t65535.0\t65535.0\t65535.0\t65535.0\t65535.0\t65535.0\t65535.0\t65535.0\t65535.0\t65535.0\t65535.0\t65535.0\t65535.0\t65535.0\t65535.0\t65535.0\t65535.0\t65535.0\t65535.0\n",
            "-5435116.6\t1480546.5\t65535.0\t65535.0\t65535.0\t65535.0\t65535.0\t65535.0\t65535.0\t65535.0\t65535.0\t65535.0\t65535.0\t65535.0\t65535.0\t65535.0\t65535.0\t65535.0\t65535.0\t65535.0\t65535.0\t65535.0\t65535.0\t65535.0\t65535.0\t65535.0\t65535.0\t65535.0\t65535.0\t65535.0\t65535.0\t65535.0\t65535.0\t65535.0\t65535.0\t65535.0\t65535.0\t65535.0\t65535.0\t65535.0\t65535.0\t65535.0\t65535.0\t65535.0\t65535.0\t65535.0\t65535.0\t65535.0\t65535.0\t65535.0\t65535.0\t65535.0\t65535.0\t65535.0\t65535.0\t65535.0\t65535.0\t65535.0\t65535.0\t65535.0\t65535.0\t65535.0\t65535.0\t65535.0\t65535.0\t65535.0\t65535.0\t65535.0\t65535.0\t65535.0\t65535.0\t65535.0\t65535.0\t65535.0\t65535.0\t65535.0\t65535.0\t65535.0\t65535.0\t65535.0\t65535.0\t65535.0\t65535.0\t65535.0\t65535.0\t65535.0\t65535.0\t65535.0\t65535.0\t65535.0\t65535.0\t65535.0\t65535.0\t65535.0\t65535.0\t65535.0\t65535.0\t65535.0\t65535.0\t65535.0\t65535.0\t65535.0\t65535.0\t65535.0\t65535.0\t65535.0\t65535.0\t65535.0\t65535.0\t65535.0\t65535.0\t65535.0\t65535.0\t65535.0\t65535.0\t65535.0\t65535.0\t65535.0\t65535.0\t65535.0\t65535.0\t65535.0\t65535.0\t65535.0\t65535.0\t65535.0\t65535.0\t65535.0\t65535.0\t65535.0\t65535.0\t65535.0\t65535.0\t65535.0\t65535.0\t65535.0\t65535.0\t65535.0\t65535.0\t65535.0\t65535.0\t65535.0\t65535.0\t65535.0\t65535.0\t65535.0\t65535.0\t65535.0\t65535.0\t65535.0\t65535.0\t65535.0\t65535.0\t65535.0\t65535.0\t65535.0\t65535.0\t65535.0\t65535.0\t65535.0\t65535.0\t65535.0\t65535.0\t65535.0\t65535.0\t65535.0\t65535.0\t65535.0\t65535.0\t65535.0\t65535.0\t65535.0\t65535.0\t65535.0\t65535.0\t65535.0\t65535.0\t65535.0\t65535.0\t65535.0\t65535.0\t65535.0\t65535.0\t65535.0\t65535.0\t65535.0\t65535.0\t65535.0\t65535.0\t65535.0\t65535.0\t65535.0\t65535.0\t65535.0\t65535.0\t65535.0\t65535.0\t65535.0\t65535.0\t65535.0\t65535.0\t65535.0\t65535.0\t65535.0\t65535.0\t65535.0\t65535.0\t65535.0\t65535.0\t65535.0\t65535.0\t65535.0\t65535.0\t65535.0\t65535.0\t65535.0\t65535.0\t65535.0\t65535.0\t65535.0\t65535.0\t65535.0\t65535.0\t65535.0\t65535.0\t65535.0\t65535.0\t65535.0\t65535.0\t65535.0\t65535.0\t65535.0\t65535.0\t65535.0\t65535.0\t65535.0\t65535.0\t65535.0\t65535.0\t65535.0\t65535.0\t65535.0\t65535.0\t65535.0\t65535.0\t65535.0\t65535.0\t65535.0\t65535.0\t65535.0\t65535.0\t65535.0\t65535.0\t65535.0\t65535.0\t65535.0\t65535.0\t65535.0\t65535.0\t65535.0\t65535.0\t65535.0\t65535.0\t65535.0\t65535.0\t65535.0\t65535.0\t65535.0\t65535.0\t65535.0\t65535.0\t65535.0\t65535.0\t65535.0\t65535.0\t65535.0\t65535.0\t65535.0\t65535.0\t65535.0\t65535.0\t65535.0\t65535.0\t65535.0\t65535.0\t65535.0\t65535.0\t65535.0\t65535.0\t65535.0\t65535.0\t65535.0\t65535.0\t65535.0\t65535.0\t65535.0\t65535.0\t65535.0\t65535.0\t65535.0\t65535.0\t65535.0\t65535.0\t65535.0\t65535.0\t65535.0\t65535.0\t65535.0\t65535.0\t65535.0\t65535.0\t65535.0\t65535.0\t65535.0\t65535.0\t65535.0\t65535.0\t65535.0\t65535.0\t65535.0\t65535.0\t65535.0\t65535.0\t65535.0\t65535.0\t65535.0\t65535.0\t65535.0\t65535.0\t65535.0\t65535.0\t65535.0\t65535.0\t65535.0\t65535.0\t65535.0\t65535.0\t65535.0\t65535.0\t65535.0\t65535.0\t65535.0\t65535.0\t65535.0\t65535.0\t65535.0\t65535.0\t65535.0\t65535.0\t65535.0\t65535.0\t65535.0\t65535.0\t65535.0\t65535.0\t65535.0\t65535.0\t65535.0\t65535.0\t65535.0\t65535.0\t65535.0\t65535.0\t65535.0\t65535.0\t65535.0\t65535.0\t65535.0\t65535.0\t65535.0\t65535.0\t65535.0\t65535.0\t65535.0\t65535.0\t65535.0\t65535.0\t65535.0\t65535.0\t65535.0\t65535.0\t65535.0\t65535.0\t65535.0\t65535.0\t65535.0\t65535.0\t65535.0\t65535.0\t65535.0\t65535.0\t65535.0\t65535.0\t65535.0\t65535.0\t65535.0\t65535.0\t65535.0\t65535.0\t65535.0\t65535.0\t65535.0\t65535.0\t65535.0\t65535.0\t65535.0\t65535.0\t65535.0\t65535.0\t65535.0\t65535.0\t65535.0\t65535.0\t65535.0\t65535.0\t65535.0\t65535.0\t65535.0\t65535.0\t65535.0\t65535.0\t65535.0\t65535.0\t65535.0\t65535.0\t65535.0\t65535.0\t65535.0\t65535.0\t65535.0\t65535.0\t65535.0\t65535.0\t65535.0\t65535.0\t65535.0\t65535.0\t65535.0\t65535.0\t65535.0\t65535.0\t65535.0\t65535.0\t65535.0\t65535.0\t65535.0\t65535.0\t65535.0\t65535.0\t65535.0\t65535.0\t65535.0\t65535.0\t65535.0\t65535.0\t65535.0\t65535.0\t65535.0\t65535.0\t65535.0\t65535.0\t65535.0\t65535.0\t65535.0\t65535.0\t65535.0\t65535.0\t65535.0\t65535.0\t65535.0\t65535.0\t65535.0\t65535.0\t65535.0\t65535.0\t65535.0\t65535.0\t65535.0\t65535.0\t65535.0\t65535.0\t65535.0\t65535.0\t65535.0\t65535.0\t65535.0\t65535.0\t65535.0\t65535.0\t65535.0\t65535.0\n",
            "-5435098.6\t1480546.5\t65535.0\t65535.0\t65535.0\t65535.0\t65535.0\t65535.0\t65535.0\t65535.0\t65535.0\t65535.0\t65535.0\t65535.0\t65535.0\t65535.0\t65535.0\t65535.0\t65535.0\t65535.0\t65535.0\t65535.0\t65535.0\t65535.0\t65535.0\t65535.0\t65535.0\t65535.0\t65535.0\t65535.0\t65535.0\t65535.0\t65535.0\t65535.0\t65535.0\t65535.0\t65535.0\t65535.0\t65535.0\t65535.0\t65535.0\t65535.0\t65535.0\t65535.0\t65535.0\t65535.0\t65535.0\t65535.0\t65535.0\t65535.0\t65535.0\t65535.0\t65535.0\t65535.0\t65535.0\t65535.0\t65535.0\t65535.0\t65535.0\t65535.0\t65535.0\t65535.0\t65535.0\t65535.0\t65535.0\t65535.0\t65535.0\t65535.0\t65535.0\t65535.0\t65535.0\t65535.0\t65535.0\t65535.0\t65535.0\t65535.0\t65535.0\t65535.0\t65535.0\t65535.0\t65535.0\t65535.0\t65535.0\t65535.0\t65535.0\t65535.0\t65535.0\t65535.0\t65535.0\t65535.0\t65535.0\t65535.0\t65535.0\t65535.0\t65535.0\t65535.0\t65535.0\t65535.0\t65535.0\t65535.0\t65535.0\t65535.0\t65535.0\t65535.0\t65535.0\t65535.0\t65535.0\t65535.0\t65535.0\t65535.0\t65535.0\t65535.0\t65535.0\t65535.0\t65535.0\t65535.0\t65535.0\t65535.0\t65535.0\t65535.0\t65535.0\t65535.0\t65535.0\t65535.0\t65535.0\t65535.0\t65535.0\t65535.0\t65535.0\t65535.0\t65535.0\t65535.0\t65535.0\t65535.0\t65535.0\t65535.0\t65535.0\t65535.0\t65535.0\t65535.0\t65535.0\t65535.0\t65535.0\t65535.0\t65535.0\t65535.0\t65535.0\t65535.0\t65535.0\t65535.0\t65535.0\t65535.0\t65535.0\t65535.0\t65535.0\t65535.0\t65535.0\t65535.0\t65535.0\t65535.0\t65535.0\t65535.0\t65535.0\t65535.0\t65535.0\t65535.0\t65535.0\t65535.0\t65535.0\t65535.0\t65535.0\t65535.0\t65535.0\t65535.0\t65535.0\t65535.0\t65535.0\t65535.0\t65535.0\t65535.0\t65535.0\t65535.0\t65535.0\t65535.0\t65535.0\t65535.0\t65535.0\t65535.0\t65535.0\t65535.0\t65535.0\t65535.0\t65535.0\t65535.0\t65535.0\t65535.0\t65535.0\t65535.0\t65535.0\t65535.0\t65535.0\t65535.0\t65535.0\t65535.0\t65535.0\t65535.0\t65535.0\t65535.0\t65535.0\t65535.0\t65535.0\t65535.0\t65535.0\t65535.0\t65535.0\t65535.0\t65535.0\t65535.0\t65535.0\t65535.0\t65535.0\t65535.0\t65535.0\t65535.0\t65535.0\t65535.0\t65535.0\t65535.0\t65535.0\t65535.0\t65535.0\t65535.0\t65535.0\t65535.0\t65535.0\t65535.0\t65535.0\t65535.0\t65535.0\t65535.0\t65535.0\t65535.0\t65535.0\t65535.0\t65535.0\t65535.0\t65535.0\t65535.0\t65535.0\t65535.0\t65535.0\t65535.0\t65535.0\t65535.0\t65535.0\t65535.0\t65535.0\t65535.0\t65535.0\t65535.0\t65535.0\t65535.0\t65535.0\t65535.0\t65535.0\t65535.0\t65535.0\t65535.0\t65535.0\t65535.0\t65535.0\t65535.0\t65535.0\t65535.0\t65535.0\t65535.0\t65535.0\t65535.0\t65535.0\t65535.0\t65535.0\t65535.0\t65535.0\t65535.0\t65535.0\t65535.0\t65535.0\t65535.0\t65535.0\t65535.0\t65535.0\t65535.0\t65535.0\t65535.0\t65535.0\t65535.0\t65535.0\t65535.0\t65535.0\t65535.0\t65535.0\t65535.0\t65535.0\t65535.0\t65535.0\t65535.0\t65535.0\t65535.0\t65535.0\t65535.0\t65535.0\t65535.0\t65535.0\t65535.0\t65535.0\t65535.0\t65535.0\t65535.0\t65535.0\t65535.0\t65535.0\t65535.0\t65535.0\t65535.0\t65535.0\t65535.0\t65535.0\t65535.0\t65535.0\t65535.0\t65535.0\t65535.0\t65535.0\t65535.0\t65535.0\t65535.0\t65535.0\t65535.0\t65535.0\t65535.0\t65535.0\t65535.0\t65535.0\t65535.0\t65535.0\t65535.0\t65535.0\t65535.0\t65535.0\t65535.0\t65535.0\t65535.0\t65535.0\t65535.0\t65535.0\t65535.0\t65535.0\t65535.0\t65535.0\t65535.0\t65535.0\t65535.0\t65535.0\t65535.0\t65535.0\t65535.0\t65535.0\t65535.0\t65535.0\t65535.0\t65535.0\t65535.0\t65535.0\t65535.0\t65535.0\t65535.0\t65535.0\t65535.0\t65535.0\t65535.0\t65535.0\t65535.0\t65535.0\t65535.0\t65535.0\t65535.0\t65535.0\t65535.0\t65535.0\t65535.0\t65535.0\t65535.0\t65535.0\t65535.0\t65535.0\t65535.0\t65535.0\t65535.0\t65535.0\t65535.0\t65535.0\t65535.0\t65535.0\t65535.0\t65535.0\t65535.0\t65535.0\t65535.0\t65535.0\t65535.0\t65535.0\t65535.0\t65535.0\t65535.0\t65535.0\t65535.0\t65535.0\t65535.0\t65535.0\t65535.0\t65535.0\t65535.0\t65535.0\t65535.0\t65535.0\t65535.0\t65535.0\t65535.0\t65535.0\t65535.0\t65535.0\t65535.0\t65535.0\t65535.0\t65535.0\t65535.0\t65535.0\t65535.0\t65535.0\t65535.0\t65535.0\t65535.0\t65535.0\t65535.0\t65535.0\t65535.0\t65535.0\t65535.0\t65535.0\t65535.0\t65535.0\t65535.0\t65535.0\t65535.0\t65535.0\t65535.0\t65535.0\t65535.0\t65535.0\t65535.0\t65535.0\t65535.0\t65535.0\t65535.0\t65535.0\t65535.0\t65535.0\t65535.0\t65535.0\t65535.0\t65535.0\t65535.0\t65535.0\t65535.0\t65535.0\t65535.0\t65535.0\t65535.0\t65535.0\t65535.0\t65535.0\t65535.0\t65535.0\t65535.0\t65535.0\t65535.0\t65535.0\t65535.0\t65535.0\t65535.0\t65535.0\n",
            "-5435080.6\t1480546.5\t65535.0\t65535.0\t65535.0\t65535.0\t65535.0\t65535.0\t65535.0\t65535.0\t65535.0\t65535.0\t65535.0\t65535.0\t65535.0\t65535.0\t65535.0\t65535.0\t65535.0\t65535.0\t65535.0\t65535.0\t65535.0\t65535.0\t65535.0\t65535.0\t65535.0\t65535.0\t65535.0\t65535.0\t65535.0\t65535.0\t65535.0\t65535.0\t65535.0\t65535.0\t65535.0\t65535.0\t65535.0\t65535.0\t65535.0\t65535.0\t65535.0\t65535.0\t65535.0\t65535.0\t65535.0\t65535.0\t65535.0\t65535.0\t65535.0\t65535.0\t65535.0\t65535.0\t65535.0\t65535.0\t65535.0\t65535.0\t65535.0\t65535.0\t65535.0\t65535.0\t65535.0\t65535.0\t65535.0\t65535.0\t65535.0\t65535.0\t65535.0\t65535.0\t65535.0\t65535.0\t65535.0\t65535.0\t65535.0\t65535.0\t65535.0\t65535.0\t65535.0\t65535.0\t65535.0\t65535.0\t65535.0\t65535.0\t65535.0\t65535.0\t65535.0\t65535.0\t65535.0\t65535.0\t65535.0\t65535.0\t65535.0\t65535.0\t65535.0\t65535.0\t65535.0\t65535.0\t65535.0\t65535.0\t65535.0\t65535.0\t65535.0\t65535.0\t65535.0\t65535.0\t65535.0\t65535.0\t65535.0\t65535.0\t65535.0\t65535.0\t65535.0\t65535.0\t65535.0\t65535.0\t65535.0\t65535.0\t65535.0\t65535.0\t65535.0\t65535.0\t65535.0\t65535.0\t65535.0\t65535.0\t65535.0\t65535.0\t65535.0\t65535.0\t65535.0\t65535.0\t65535.0\t65535.0\t65535.0\t65535.0\t65535.0\t65535.0\t65535.0\t65535.0\t65535.0\t65535.0\t65535.0\t65535.0\t65535.0\t65535.0\t65535.0\t65535.0\t65535.0\t65535.0\t65535.0\t65535.0\t65535.0\t65535.0\t65535.0\t65535.0\t65535.0\t65535.0\t65535.0\t65535.0\t65535.0\t65535.0\t65535.0\t65535.0\t65535.0\t65535.0\t65535.0\t65535.0\t65535.0\t65535.0\t65535.0\t65535.0\t65535.0\t65535.0\t65535.0\t65535.0\t65535.0\t65535.0\t65535.0\t65535.0\t65535.0\t65535.0\t65535.0\t65535.0\t65535.0\t65535.0\t65535.0\t65535.0\t65535.0\t65535.0\t65535.0\t65535.0\t65535.0\t65535.0\t65535.0\t65535.0\t65535.0\t65535.0\t65535.0\t65535.0\t65535.0\t65535.0\t65535.0\t65535.0\t65535.0\t65535.0\t65535.0\t65535.0\t65535.0\t65535.0\t65535.0\t65535.0\t65535.0\t65535.0\t65535.0\t65535.0\t65535.0\t65535.0\t65535.0\t65535.0\t65535.0\t65535.0\t65535.0\t65535.0\t65535.0\t65535.0\t65535.0\t65535.0\t65535.0\t65535.0\t65535.0\t65535.0\t65535.0\t65535.0\t65535.0\t65535.0\t65535.0\t65535.0\t65535.0\t65535.0\t65535.0\t65535.0\t65535.0\t65535.0\t65535.0\t65535.0\t65535.0\t65535.0\t65535.0\t65535.0\t65535.0\t65535.0\t65535.0\t65535.0\t65535.0\t65535.0\t65535.0\t65535.0\t65535.0\t65535.0\t65535.0\t65535.0\t65535.0\t65535.0\t65535.0\t65535.0\t65535.0\t65535.0\t65535.0\t65535.0\t65535.0\t65535.0\t65535.0\t65535.0\t65535.0\t65535.0\t65535.0\t65535.0\t65535.0\t65535.0\t65535.0\t65535.0\t65535.0\t65535.0\t65535.0\t65535.0\t65535.0\t65535.0\t65535.0\t65535.0\t65535.0\t65535.0\t65535.0\t65535.0\t65535.0\t65535.0\t65535.0\t65535.0\t65535.0\t65535.0\t65535.0\t65535.0\t65535.0\t65535.0\t65535.0\t65535.0\t65535.0\t65535.0\t65535.0\t65535.0\t65535.0\t65535.0\t65535.0\t65535.0\t65535.0\t65535.0\t65535.0\t65535.0\t65535.0\t65535.0\t65535.0\t65535.0\t65535.0\t65535.0\t65535.0\t65535.0\t65535.0\t65535.0\t65535.0\t65535.0\t65535.0\t65535.0\t65535.0\t65535.0\t65535.0\t65535.0\t65535.0\t65535.0\t65535.0\t65535.0\t65535.0\t65535.0\t65535.0\t65535.0\t65535.0\t65535.0\t65535.0\t65535.0\t65535.0\t65535.0\t65535.0\t65535.0\t65535.0\t65535.0\t65535.0\t65535.0\t65535.0\t65535.0\t65535.0\t65535.0\t65535.0\t65535.0\t65535.0\t65535.0\t65535.0\t65535.0\t65535.0\t65535.0\t65535.0\t65535.0\t65535.0\t65535.0\t65535.0\t65535.0\t65535.0\t65535.0\t65535.0\t65535.0\t65535.0\t65535.0\t65535.0\t65535.0\t65535.0\t65535.0\t65535.0\t65535.0\t65535.0\t65535.0\t65535.0\t65535.0\t65535.0\t65535.0\t65535.0\t65535.0\t65535.0\t65535.0\t65535.0\t65535.0\t65535.0\t65535.0\t65535.0\t65535.0\t65535.0\t65535.0\t65535.0\t65535.0\t65535.0\t65535.0\t65535.0\t65535.0\t65535.0\t65535.0\t65535.0\t65535.0\t65535.0\t65535.0\t65535.0\t65535.0\t65535.0\t65535.0\t65535.0\t65535.0\t65535.0\t65535.0\t65535.0\t65535.0\t65535.0\t65535.0\t65535.0\t65535.0\t65535.0\t65535.0\t65535.0\t65535.0\t65535.0\t65535.0\t65535.0\t65535.0\t65535.0\t65535.0\t65535.0\t65535.0\t65535.0\t65535.0\t65535.0\t65535.0\t65535.0\t65535.0\t65535.0\t65535.0\t65535.0\t65535.0\t65535.0\t65535.0\t65535.0\t65535.0\t65535.0\t65535.0\t65535.0\t65535.0\t65535.0\t65535.0\t65535.0\t65535.0\t65535.0\t65535.0\t65535.0\t65535.0\t65535.0\t65535.0\t65535.0\t65535.0\t65535.0\t65535.0\t65535.0\t65535.0\t65535.0\t65535.0\t65535.0\t65535.0\t65535.0\t65535.0\t65535.0\t65535.0\t65535.0\t65535.0\t65535.0\t65535.0\t65535.0\t65535.0\t65535.0\n",
            "-5435062.6\t1480546.5\t65535.0\t65535.0\t65535.0\t65535.0\t65535.0\t65535.0\t65535.0\t65535.0\t65535.0\t65535.0\t65535.0\t65535.0\t65535.0\t65535.0\t65535.0\t65535.0\t65535.0\t65535.0\t65535.0\t65535.0\t65535.0\t65535.0\t65535.0\t65535.0\t65535.0\t65535.0\t65535.0\t65535.0\t65535.0\t65535.0\t65535.0\t65535.0\t65535.0\t65535.0\t65535.0\t65535.0\t65535.0\t65535.0\t65535.0\t65535.0\t65535.0\t65535.0\t65535.0\t65535.0\t65535.0\t65535.0\t65535.0\t65535.0\t65535.0\t65535.0\t65535.0\t65535.0\t65535.0\t65535.0\t65535.0\t65535.0\t65535.0\t65535.0\t65535.0\t65535.0\t65535.0\t65535.0\t65535.0\t65535.0\t65535.0\t65535.0\t65535.0\t65535.0\t65535.0\t65535.0\t65535.0\t65535.0\t65535.0\t65535.0\t65535.0\t65535.0\t65535.0\t65535.0\t65535.0\t65535.0\t65535.0\t65535.0\t65535.0\t65535.0\t65535.0\t65535.0\t65535.0\t65535.0\t65535.0\t65535.0\t65535.0\t65535.0\t65535.0\t65535.0\t65535.0\t65535.0\t65535.0\t65535.0\t65535.0\t65535.0\t65535.0\t65535.0\t65535.0\t65535.0\t65535.0\t65535.0\t65535.0\t65535.0\t65535.0\t65535.0\t65535.0\t65535.0\t65535.0\t65535.0\t65535.0\t65535.0\t65535.0\t65535.0\t65535.0\t65535.0\t65535.0\t65535.0\t65535.0\t65535.0\t65535.0\t65535.0\t65535.0\t65535.0\t65535.0\t65535.0\t65535.0\t65535.0\t65535.0\t65535.0\t65535.0\t65535.0\t65535.0\t65535.0\t65535.0\t65535.0\t65535.0\t65535.0\t65535.0\t65535.0\t65535.0\t65535.0\t65535.0\t65535.0\t65535.0\t65535.0\t65535.0\t65535.0\t65535.0\t65535.0\t65535.0\t65535.0\t65535.0\t65535.0\t65535.0\t65535.0\t65535.0\t65535.0\t65535.0\t65535.0\t65535.0\t65535.0\t65535.0\t65535.0\t65535.0\t65535.0\t65535.0\t65535.0\t65535.0\t65535.0\t65535.0\t65535.0\t65535.0\t65535.0\t65535.0\t65535.0\t65535.0\t65535.0\t65535.0\t65535.0\t65535.0\t65535.0\t65535.0\t65535.0\t65535.0\t65535.0\t65535.0\t65535.0\t65535.0\t65535.0\t65535.0\t65535.0\t65535.0\t65535.0\t65535.0\t65535.0\t65535.0\t65535.0\t65535.0\t65535.0\t65535.0\t65535.0\t65535.0\t65535.0\t65535.0\t65535.0\t65535.0\t65535.0\t65535.0\t65535.0\t65535.0\t65535.0\t65535.0\t65535.0\t65535.0\t65535.0\t65535.0\t65535.0\t65535.0\t65535.0\t65535.0\t65535.0\t65535.0\t65535.0\t65535.0\t65535.0\t65535.0\t65535.0\t65535.0\t65535.0\t65535.0\t65535.0\t65535.0\t65535.0\t65535.0\t65535.0\t65535.0\t65535.0\t65535.0\t65535.0\t65535.0\t65535.0\t65535.0\t65535.0\t65535.0\t65535.0\t65535.0\t65535.0\t65535.0\t65535.0\t65535.0\t65535.0\t65535.0\t65535.0\t65535.0\t65535.0\t65535.0\t65535.0\t65535.0\t65535.0\t65535.0\t65535.0\t65535.0\t65535.0\t65535.0\t65535.0\t65535.0\t65535.0\t65535.0\t65535.0\t65535.0\t65535.0\t65535.0\t65535.0\t65535.0\t65535.0\t65535.0\t65535.0\t65535.0\t65535.0\t65535.0\t65535.0\t65535.0\t65535.0\t65535.0\t65535.0\t65535.0\t65535.0\t65535.0\t65535.0\t65535.0\t65535.0\t65535.0\t65535.0\t65535.0\t65535.0\t65535.0\t65535.0\t65535.0\t65535.0\t65535.0\t65535.0\t65535.0\t65535.0\t65535.0\t65535.0\t65535.0\t65535.0\t65535.0\t65535.0\t65535.0\t65535.0\t65535.0\t65535.0\t65535.0\t65535.0\t65535.0\t65535.0\t65535.0\t65535.0\t65535.0\t65535.0\t65535.0\t65535.0\t65535.0\t65535.0\t65535.0\t65535.0\t65535.0\t65535.0\t65535.0\t65535.0\t65535.0\t65535.0\t65535.0\t65535.0\t65535.0\t65535.0\t65535.0\t65535.0\t65535.0\t65535.0\t65535.0\t65535.0\t65535.0\t65535.0\t65535.0\t65535.0\t65535.0\t65535.0\t65535.0\t65535.0\t65535.0\t65535.0\t65535.0\t65535.0\t65535.0\t65535.0\t65535.0\t65535.0\t65535.0\t65535.0\t65535.0\t65535.0\t65535.0\t65535.0\t65535.0\t65535.0\t65535.0\t65535.0\t65535.0\t65535.0\t65535.0\t65535.0\t65535.0\t65535.0\t65535.0\t65535.0\t65535.0\t65535.0\t65535.0\t65535.0\t65535.0\t65535.0\t65535.0\t65535.0\t65535.0\t65535.0\t65535.0\t65535.0\t65535.0\t65535.0\t65535.0\t65535.0\t65535.0\t65535.0\t65535.0\t65535.0\t65535.0\t65535.0\t65535.0\t65535.0\t65535.0\t65535.0\t65535.0\t65535.0\t65535.0\t65535.0\t65535.0\t65535.0\t65535.0\t65535.0\t65535.0\t65535.0\t65535.0\t65535.0\t65535.0\t65535.0\t65535.0\t65535.0\t65535.0\t65535.0\t65535.0\t65535.0\t65535.0\t65535.0\t65535.0\t65535.0\t65535.0\t65535.0\t65535.0\t65535.0\t65535.0\t65535.0\t65535.0\t65535.0\t65535.0\t65535.0\t65535.0\t65535.0\t65535.0\t65535.0\t65535.0\t65535.0\t65535.0\t65535.0\t65535.0\t65535.0\t65535.0\t65535.0\t65535.0\t65535.0\t65535.0\t65535.0\t65535.0\t65535.0\t65535.0\t65535.0\t65535.0\t65535.0\t65535.0\t65535.0\t65535.0\t65535.0\t65535.0\t65535.0\t65535.0\t65535.0\t65535.0\t65535.0\t65535.0\t65535.0\t65535.0\t65535.0\t65535.0\t65535.0\t65535.0\t65535.0\t65535.0\t65535.0\t65535.0\t65535.0\t65535.0\t65535.0\t65535.0\n",
            "-5435044.6\t1480546.5\t65535.0\t65535.0\t65535.0\t65535.0\t65535.0\t65535.0\t65535.0\t65535.0\t65535.0\t65535.0\t65535.0\t65535.0\t65535.0\t65535.0\t65535.0\t65535.0\t65535.0\t65535.0\t65535.0\t65535.0\t65535.0\t65535.0\t65535.0\t65535.0\t65535.0\t65535.0\t65535.0\t65535.0\t65535.0\t65535.0\t65535.0\t65535.0\t65535.0\t65535.0\t65535.0\t65535.0\t65535.0\t65535.0\t65535.0\t65535.0\t65535.0\t65535.0\t65535.0\t65535.0\t65535.0\t65535.0\t65535.0\t65535.0\t65535.0\t65535.0\t65535.0\t65535.0\t65535.0\t65535.0\t65535.0\t65535.0\t65535.0\t65535.0\t65535.0\t65535.0\t65535.0\t65535.0\t65535.0\t65535.0\t65535.0\t65535.0\t65535.0\t65535.0\t65535.0\t65535.0\t65535.0\t65535.0\t65535.0\t65535.0\t65535.0\t65535.0\t65535.0\t65535.0\t65535.0\t65535.0\t65535.0\t65535.0\t65535.0\t65535.0\t65535.0\t65535.0\t65535.0\t65535.0\t65535.0\t65535.0\t65535.0\t65535.0\t65535.0\t65535.0\t65535.0\t65535.0\t65535.0\t65535.0\t65535.0\t65535.0\t65535.0\t65535.0\t65535.0\t65535.0\t65535.0\t65535.0\t65535.0\t65535.0\t65535.0\t65535.0\t65535.0\t65535.0\t65535.0\t65535.0\t65535.0\t65535.0\t65535.0\t65535.0\t65535.0\t65535.0\t65535.0\t65535.0\t65535.0\t65535.0\t65535.0\t65535.0\t65535.0\t65535.0\t65535.0\t65535.0\t65535.0\t65535.0\t65535.0\t65535.0\t65535.0\t65535.0\t65535.0\t65535.0\t65535.0\t65535.0\t65535.0\t65535.0\t65535.0\t65535.0\t65535.0\t65535.0\t65535.0\t65535.0\t65535.0\t65535.0\t65535.0\t65535.0\t65535.0\t65535.0\t65535.0\t65535.0\t65535.0\t65535.0\t65535.0\t65535.0\t65535.0\t65535.0\t65535.0\t65535.0\t65535.0\t65535.0\t65535.0\t65535.0\t65535.0\t65535.0\t65535.0\t65535.0\t65535.0\t65535.0\t65535.0\t65535.0\t65535.0\t65535.0\t65535.0\t65535.0\t65535.0\t65535.0\t65535.0\t65535.0\t65535.0\t65535.0\t65535.0\t65535.0\t65535.0\t65535.0\t65535.0\t65535.0\t65535.0\t65535.0\t65535.0\t65535.0\t65535.0\t65535.0\t65535.0\t65535.0\t65535.0\t65535.0\t65535.0\t65535.0\t65535.0\t65535.0\t65535.0\t65535.0\t65535.0\t65535.0\t65535.0\t65535.0\t65535.0\t65535.0\t65535.0\t65535.0\t65535.0\t65535.0\t65535.0\t65535.0\t65535.0\t65535.0\t65535.0\t65535.0\t65535.0\t65535.0\t65535.0\t65535.0\t65535.0\t65535.0\t65535.0\t65535.0\t65535.0\t65535.0\t65535.0\t65535.0\t65535.0\t65535.0\t65535.0\t65535.0\t65535.0\t65535.0\t65535.0\t65535.0\t65535.0\t65535.0\t65535.0\t65535.0\t65535.0\t65535.0\t65535.0\t65535.0\t65535.0\t65535.0\t65535.0\t65535.0\t65535.0\t65535.0\t65535.0\t65535.0\t65535.0\t65535.0\t65535.0\t65535.0\t65535.0\t65535.0\t65535.0\t65535.0\t65535.0\t65535.0\t65535.0\t65535.0\t65535.0\t65535.0\t65535.0\t65535.0\t65535.0\t65535.0\t65535.0\t65535.0\t65535.0\t65535.0\t65535.0\t65535.0\t65535.0\t65535.0\t65535.0\t65535.0\t65535.0\t65535.0\t65535.0\t65535.0\t65535.0\t65535.0\t65535.0\t65535.0\t65535.0\t65535.0\t65535.0\t65535.0\t65535.0\t65535.0\t65535.0\t65535.0\t65535.0\t65535.0\t65535.0\t65535.0\t65535.0\t65535.0\t65535.0\t65535.0\t65535.0\t65535.0\t65535.0\t65535.0\t65535.0\t65535.0\t65535.0\t65535.0\t65535.0\t65535.0\t65535.0\t65535.0\t65535.0\t65535.0\t65535.0\t65535.0\t65535.0\t65535.0\t65535.0\t65535.0\t65535.0\t65535.0\t65535.0\t65535.0\t65535.0\t65535.0\t65535.0\t65535.0\t65535.0\t65535.0\t65535.0\t65535.0\t65535.0\t65535.0\t65535.0\t65535.0\t65535.0\t65535.0\t65535.0\t65535.0\t65535.0\t65535.0\t65535.0\t65535.0\t65535.0\t65535.0\t65535.0\t65535.0\t65535.0\t65535.0\t65535.0\t65535.0\t65535.0\t65535.0\t65535.0\t65535.0\t65535.0\t65535.0\t65535.0\t65535.0\t65535.0\t65535.0\t65535.0\t65535.0\t65535.0\t65535.0\t65535.0\t65535.0\t65535.0\t65535.0\t65535.0\t65535.0\t65535.0\t65535.0\t65535.0\t65535.0\t65535.0\t65535.0\t65535.0\t65535.0\t65535.0\t65535.0\t65535.0\t65535.0\t65535.0\t65535.0\t65535.0\t65535.0\t65535.0\t65535.0\t65535.0\t65535.0\t65535.0\t65535.0\t65535.0\t65535.0\t65535.0\t65535.0\t65535.0\t65535.0\t65535.0\t65535.0\t65535.0\t65535.0\t65535.0\t65535.0\t65535.0\t65535.0\t65535.0\t65535.0\t65535.0\t65535.0\t65535.0\t65535.0\t65535.0\t65535.0\t65535.0\t65535.0\t65535.0\t65535.0\t65535.0\t65535.0\t65535.0\t65535.0\t65535.0\t65535.0\t65535.0\t65535.0\t65535.0\t65535.0\t65535.0\t65535.0\t65535.0\t65535.0\t65535.0\t65535.0\t65535.0\t65535.0\t65535.0\t65535.0\t65535.0\t65535.0\t65535.0\t65535.0\t65535.0\t65535.0\t65535.0\t65535.0\t65535.0\t65535.0\t65535.0\t65535.0\t65535.0\t65535.0\t65535.0\t65535.0\t65535.0\t65535.0\t65535.0\t65535.0\t65535.0\t65535.0\t65535.0\t65535.0\t65535.0\t65535.0\t65535.0\t65535.0\t65535.0\t65535.0\t65535.0\t65535.0\t65535.0\t65535.0\t65535.0\t65535.0\t65535.0\n",
            "-5435026.6\t1480546.5\t65535.0\t65535.0\t65535.0\t65535.0\t65535.0\t65535.0\t65535.0\t65535.0\t65535.0\t65535.0\t65535.0\t65535.0\t65535.0\t65535.0\t65535.0\t65535.0\t65535.0\t65535.0\t65535.0\t65535.0\t65535.0\t65535.0\t65535.0\t65535.0\t65535.0\t65535.0\t65535.0\t65535.0\t65535.0\t65535.0\t65535.0\t65535.0\t65535.0\t65535.0\t65535.0\t65535.0\t65535.0\t65535.0\t65535.0\t65535.0\t65535.0\t65535.0\t65535.0\t65535.0\t65535.0\t65535.0\t65535.0\t65535.0\t65535.0\t65535.0\t65535.0\t65535.0\t65535.0\t65535.0\t65535.0\t65535.0\t65535.0\t65535.0\t65535.0\t65535.0\t65535.0\t65535.0\t65535.0\t65535.0\t65535.0\t65535.0\t65535.0\t65535.0\t65535.0\t65535.0\t65535.0\t65535.0\t65535.0\t65535.0\t65535.0\t65535.0\t65535.0\t65535.0\t65535.0\t65535.0\t65535.0\t65535.0\t65535.0\t65535.0\t65535.0\t65535.0\t65535.0\t65535.0\t65535.0\t65535.0\t65535.0\t65535.0\t65535.0\t65535.0\t65535.0\t65535.0\t65535.0\t65535.0\t65535.0\t65535.0\t65535.0\t65535.0\t65535.0\t65535.0\t65535.0\t65535.0\t65535.0\t65535.0\t65535.0\t65535.0\t65535.0\t65535.0\t65535.0\t65535.0\t65535.0\t65535.0\t65535.0\t65535.0\t65535.0\t65535.0\t65535.0\t65535.0\t65535.0\t65535.0\t65535.0\t65535.0\t65535.0\t65535.0\t65535.0\t65535.0\t65535.0\t65535.0\t65535.0\t65535.0\t65535.0\t65535.0\t65535.0\t65535.0\t65535.0\t65535.0\t65535.0\t65535.0\t65535.0\t65535.0\t65535.0\t65535.0\t65535.0\t65535.0\t65535.0\t65535.0\t65535.0\t65535.0\t65535.0\t65535.0\t65535.0\t65535.0\t65535.0\t65535.0\t65535.0\t65535.0\t65535.0\t65535.0\t65535.0\t65535.0\t65535.0\t65535.0\t65535.0\t65535.0\t65535.0\t65535.0\t65535.0\t65535.0\t65535.0\t65535.0\t65535.0\t65535.0\t65535.0\t65535.0\t65535.0\t65535.0\t65535.0\t65535.0\t65535.0\t65535.0\t65535.0\t65535.0\t65535.0\t65535.0\t65535.0\t65535.0\t65535.0\t65535.0\t65535.0\t65535.0\t65535.0\t65535.0\t65535.0\t65535.0\t65535.0\t65535.0\t65535.0\t65535.0\t65535.0\t65535.0\t65535.0\t65535.0\t65535.0\t65535.0\t65535.0\t65535.0\t65535.0\t65535.0\t65535.0\t65535.0\t65535.0\t65535.0\t65535.0\t65535.0\t65535.0\t65535.0\t65535.0\t65535.0\t65535.0\t65535.0\t65535.0\t65535.0\t65535.0\t65535.0\t65535.0\t65535.0\t65535.0\t65535.0\t65535.0\t65535.0\t65535.0\t65535.0\t65535.0\t65535.0\t65535.0\t65535.0\t65535.0\t65535.0\t65535.0\t65535.0\t65535.0\t65535.0\t65535.0\t65535.0\t65535.0\t65535.0\t65535.0\t65535.0\t65535.0\t65535.0\t65535.0\t65535.0\t65535.0\t65535.0\t65535.0\t65535.0\t65535.0\t65535.0\t65535.0\t65535.0\t65535.0\t65535.0\t65535.0\t65535.0\t65535.0\t65535.0\t65535.0\t65535.0\t65535.0\t65535.0\t65535.0\t65535.0\t65535.0\t65535.0\t65535.0\t65535.0\t65535.0\t65535.0\t65535.0\t65535.0\t65535.0\t65535.0\t65535.0\t65535.0\t65535.0\t65535.0\t65535.0\t65535.0\t65535.0\t65535.0\t65535.0\t65535.0\t65535.0\t65535.0\t65535.0\t65535.0\t65535.0\t65535.0\t65535.0\t65535.0\t65535.0\t65535.0\t65535.0\t65535.0\t65535.0\t65535.0\t65535.0\t65535.0\t65535.0\t65535.0\t65535.0\t65535.0\t65535.0\t65535.0\t65535.0\t65535.0\t65535.0\t65535.0\t65535.0\t65535.0\t65535.0\t65535.0\t65535.0\t65535.0\t65535.0\t65535.0\t65535.0\t65535.0\t65535.0\t65535.0\t65535.0\t65535.0\t65535.0\t65535.0\t65535.0\t65535.0\t65535.0\t65535.0\t65535.0\t65535.0\t65535.0\t65535.0\t65535.0\t65535.0\t65535.0\t65535.0\t65535.0\t65535.0\t65535.0\t65535.0\t65535.0\t65535.0\t65535.0\t65535.0\t65535.0\t65535.0\t65535.0\t65535.0\t65535.0\t65535.0\t65535.0\t65535.0\t65535.0\t65535.0\t65535.0\t65535.0\t65535.0\t65535.0\t65535.0\t65535.0\t65535.0\t65535.0\t65535.0\t65535.0\t65535.0\t65535.0\t65535.0\t65535.0\t65535.0\t65535.0\t65535.0\t65535.0\t65535.0\t65535.0\t65535.0\t65535.0\t65535.0\t65535.0\t65535.0\t65535.0\t65535.0\t65535.0\t65535.0\t65535.0\t65535.0\t65535.0\t65535.0\t65535.0\t65535.0\t65535.0\t65535.0\t65535.0\t65535.0\t65535.0\t65535.0\t65535.0\t65535.0\t65535.0\t65535.0\t65535.0\t65535.0\t65535.0\t65535.0\t65535.0\t65535.0\t65535.0\t65535.0\t65535.0\t65535.0\t65535.0\t65535.0\t65535.0\t65535.0\t65535.0\t65535.0\t65535.0\t65535.0\t65535.0\t65535.0\t65535.0\t65535.0\t65535.0\t65535.0\t65535.0\t65535.0\t65535.0\t65535.0\t65535.0\t65535.0\t65535.0\t65535.0\t65535.0\t65535.0\t65535.0\t65535.0\t65535.0\t65535.0\t65535.0\t65535.0\t65535.0\t65535.0\t65535.0\t65535.0\t65535.0\t65535.0\t65535.0\t65535.0\t65535.0\t65535.0\t65535.0\t65535.0\t65535.0\t65535.0\t65535.0\t65535.0\t65535.0\t65535.0\t65535.0\t65535.0\t65535.0\t65535.0\t65535.0\t65535.0\t65535.0\t65535.0\t65535.0\t65535.0\t65535.0\t65535.0\t65535.0\t65535.0\t65535.0\t65535.0\t65535.0\t65535.0\n"
          ]
        }
      ]
    },
    {
      "cell_type": "markdown",
      "source": [
        "### Step 3.2: NetCDF to CSV"
      ],
      "metadata": {
        "id": "qwTIDnzHXCWW"
      }
    },
    {
      "cell_type": "markdown",
      "source": [
        "#### Step 3.2.1: Download the File"
      ],
      "metadata": {
        "id": "_etAhu_dZpGx"
      }
    },
    {
      "cell_type": "code",
      "source": [
        "!wget https://www.dropbox.com/scl/fi/slhlg28a07m48cubmwhyv/sst.mon.anom150280E.nc?rlkey=4zbie9jxnfto72crq6n3dqcip&st=lb7pa1db&dl=1"
      ],
      "metadata": {
        "colab": {
          "base_uri": "https://localhost:8080/"
        },
        "id": "BJSIF1T3Z5WS",
        "outputId": "6829d998-4001-4c3d-c8fd-e229da97b0d8"
      },
      "execution_count": null,
      "outputs": [
        {
          "output_type": "stream",
          "name": "stdout",
          "text": [
            "--2025-06-13 08:28:41--  https://www.dropbox.com/scl/fi/slhlg28a07m48cubmwhyv/sst.mon.anom150280E.nc?rlkey=4zbie9jxnfto72crq6n3dqcip\n",
            "Resolving www.dropbox.com (www.dropbox.com)... 162.125.5.18, 2620:100:601d:18::a27d:512\n",
            "Connecting to www.dropbox.com (www.dropbox.com)|162.125.5.18|:443... connected.\n",
            "HTTP request sent, awaiting response... 302 Found\n",
            "Location: https://uc419bdb856c6a5ccc38b7ff8326.dl.dropboxusercontent.com/cd/0/inline/Crhq1TLXnOD-aawdYmKZTe5fKJEUEEdrBWoQCTcLPh6emScKq-b3LxChYW8Uaaalfg4R8zvIJ6EwJT6wX_PcR8fpKaMhmk8oE2UF8_3OPsjO_xGtlgc6OJy8FydYCyfYAfaowiw23e2pblyD-uvOLXhq/file# [following]\n",
            "--2025-06-13 08:28:42--  https://uc419bdb856c6a5ccc38b7ff8326.dl.dropboxusercontent.com/cd/0/inline/Crhq1TLXnOD-aawdYmKZTe5fKJEUEEdrBWoQCTcLPh6emScKq-b3LxChYW8Uaaalfg4R8zvIJ6EwJT6wX_PcR8fpKaMhmk8oE2UF8_3OPsjO_xGtlgc6OJy8FydYCyfYAfaowiw23e2pblyD-uvOLXhq/file\n",
            "Resolving uc419bdb856c6a5ccc38b7ff8326.dl.dropboxusercontent.com (uc419bdb856c6a5ccc38b7ff8326.dl.dropboxusercontent.com)... 162.125.5.15, 2620:100:601d:15::a27d:50f\n",
            "Connecting to uc419bdb856c6a5ccc38b7ff8326.dl.dropboxusercontent.com (uc419bdb856c6a5ccc38b7ff8326.dl.dropboxusercontent.com)|162.125.5.15|:443... connected.\n",
            "HTTP request sent, awaiting response... 302 Found\n",
            "Location: /cd/0/inline2/Crg56pA8IJq4ANhXNySv3JT3t9b__0a-VrIEZHPrjydj-O2TVRVeaZlT2y5Xx8KRn2RtSws6jxP3mqJSvn0E2VYmYuOskSPTSpdKlzC2yDjBNB3EgilNJ0-SOj2q4ZN9m6CPonzIfaQsOywffgTNA52j3fNs64cKlASOzAmds390dWSjDUNnIs86Euw2ErBFwCQbbG_WTgZomGctWJsaPy1rT8Kyxmc50PWmtjQySryQFpB44wSkrylbOwQjDBwvRVGv8ApLkcJJBaSoLwaO4X8Mwy9oOeUItMQ4-TlkPB4AQD4MsSuDnTHTOo2psZre_2c6P2LgNx_eaaCZkt8tkr3iPHeDpyZQeGOwzae4gCgWcj57ObUdjjIk1kL4uWdjR0s/file [following]\n",
            "--2025-06-13 08:28:42--  https://uc419bdb856c6a5ccc38b7ff8326.dl.dropboxusercontent.com/cd/0/inline2/Crg56pA8IJq4ANhXNySv3JT3t9b__0a-VrIEZHPrjydj-O2TVRVeaZlT2y5Xx8KRn2RtSws6jxP3mqJSvn0E2VYmYuOskSPTSpdKlzC2yDjBNB3EgilNJ0-SOj2q4ZN9m6CPonzIfaQsOywffgTNA52j3fNs64cKlASOzAmds390dWSjDUNnIs86Euw2ErBFwCQbbG_WTgZomGctWJsaPy1rT8Kyxmc50PWmtjQySryQFpB44wSkrylbOwQjDBwvRVGv8ApLkcJJBaSoLwaO4X8Mwy9oOeUItMQ4-TlkPB4AQD4MsSuDnTHTOo2psZre_2c6P2LgNx_eaaCZkt8tkr3iPHeDpyZQeGOwzae4gCgWcj57ObUdjjIk1kL4uWdjR0s/file\n",
            "Reusing existing connection to uc419bdb856c6a5ccc38b7ff8326.dl.dropboxusercontent.com:443.\n",
            "HTTP request sent, awaiting response... 200 OK\n",
            "Length: 42023840 (40M) [application/x-netcdf]\n",
            "Saving to: ‘sst.mon.anom150280E.nc?rlkey=4zbie9jxnfto72crq6n3dqcip’\n",
            "\n",
            "sst.mon.anom150280E 100%[===================>]  40.08M  74.9MB/s    in 0.5s    \n",
            "\n",
            "2025-06-13 08:28:43 (74.9 MB/s) - ‘sst.mon.anom150280E.nc?rlkey=4zbie9jxnfto72crq6n3dqcip’ saved [42023840/42023840]\n",
            "\n"
          ]
        }
      ]
    },
    {
      "cell_type": "markdown",
      "source": [
        "##### Rename the file"
      ],
      "metadata": {
        "id": "Q_zbJFpSgAqa"
      }
    },
    {
      "cell_type": "code",
      "source": [
        "!mv sst.mon.anom150280E.nc?rlkey=4zbie9jxnfto72crq6n3dqcip sst.nc"
      ],
      "metadata": {
        "id": "IYwTC7Q9aAqh"
      },
      "execution_count": null,
      "outputs": []
    },
    {
      "cell_type": "markdown",
      "source": [
        "#### Step 3.2.2: Converting the Raster File into a CSV file"
      ],
      "metadata": {
        "id": "oZ2cT7NUgPHr"
      }
    },
    {
      "cell_type": "code",
      "source": [
        "convertNC = Raster2CSV.Raster2CSV(inputFile=\"sst.nc\", outputFile=\"sst.csv\", startBand=1,endBand=505)\n",
        "convertNC.run()"
      ],
      "metadata": {
        "colab": {
          "base_uri": "https://localhost:8080/"
        },
        "id": "7SAkp8YcaOjG",
        "outputId": "5d68613b-2d03-468d-9afa-5e546bae467b"
      },
      "execution_count": null,
      "outputs": [
        {
          "output_type": "stream",
          "name": "stdout",
          "text": [
            "Processing: sst.nc\n",
            "Done. Output saved to: sst.csv\n"
          ]
        }
      ]
    },
    {
      "cell_type": "markdown",
      "source": [
        "#### Step 3.2.3: Printing the Portion of converted CSV File"
      ],
      "metadata": {
        "id": "YwA6fkZWh6jH"
      }
    },
    {
      "cell_type": "code",
      "source": [
        "!head sst.csv"
      ],
      "metadata": {
        "colab": {
          "base_uri": "https://localhost:8080/"
        },
        "id": "BxP2SuEsbwyz",
        "outputId": "aadf2ca4-feaa-4bd4-b12e-85de5394990f"
      },
      "execution_count": null,
      "outputs": [
        {
          "output_type": "stream",
          "name": "stdout",
          "text": [
            "x\ty\t1\t2\t3\t4\t5\t6\t7\t8\t9\t10\t11\t12\t13\t14\t15\t16\t17\t18\t19\t20\t21\t22\t23\t24\t25\t26\t27\t28\t29\t30\t31\t32\t33\t34\t35\t36\t37\t38\t39\t40\t41\t42\t43\t44\t45\t46\t47\t48\t49\t50\t51\t52\t53\t54\t55\t56\t57\t58\t59\t60\t61\t62\t63\t64\t65\t66\t67\t68\t69\t70\t71\t72\t73\t74\t75\t76\t77\t78\t79\t80\t81\t82\t83\t84\t85\t86\t87\t88\t89\t90\t91\t92\t93\t94\t95\t96\t97\t98\t99\t100\t101\t102\t103\t104\t105\t106\t107\t108\t109\t110\t111\t112\t113\t114\t115\t116\t117\t118\t119\t120\t121\t122\t123\t124\t125\t126\t127\t128\t129\t130\t131\t132\t133\t134\t135\t136\t137\t138\t139\t140\t141\t142\t143\t144\t145\t146\t147\t148\t149\t150\t151\t152\t153\t154\t155\t156\t157\t158\t159\t160\t161\t162\t163\t164\t165\t166\t167\t168\t169\t170\t171\t172\t173\t174\t175\t176\t177\t178\t179\t180\t181\t182\t183\t184\t185\t186\t187\t188\t189\t190\t191\t192\t193\t194\t195\t196\t197\t198\t199\t200\t201\t202\t203\t204\t205\t206\t207\t208\t209\t210\t211\t212\t213\t214\t215\t216\t217\t218\t219\t220\t221\t222\t223\t224\t225\t226\t227\t228\t229\t230\t231\t232\t233\t234\t235\t236\t237\t238\t239\t240\t241\t242\t243\t244\t245\t246\t247\t248\t249\t250\t251\t252\t253\t254\t255\t256\t257\t258\t259\t260\t261\t262\t263\t264\t265\t266\t267\t268\t269\t270\t271\t272\t273\t274\t275\t276\t277\t278\t279\t280\t281\t282\t283\t284\t285\t286\t287\t288\t289\t290\t291\t292\t293\t294\t295\t296\t297\t298\t299\t300\t301\t302\t303\t304\t305\t306\t307\t308\t309\t310\t311\t312\t313\t314\t315\t316\t317\t318\t319\t320\t321\t322\t323\t324\t325\t326\t327\t328\t329\t330\t331\t332\t333\t334\t335\t336\t337\t338\t339\t340\t341\t342\t343\t344\t345\t346\t347\t348\t349\t350\t351\t352\t353\t354\t355\t356\t357\t358\t359\t360\t361\t362\t363\t364\t365\t366\t367\t368\t369\t370\t371\t372\t373\t374\t375\t376\t377\t378\t379\t380\t381\t382\t383\t384\t385\t386\t387\t388\t389\t390\t391\t392\t393\t394\t395\t396\t397\t398\t399\t400\t401\t402\t403\t404\t405\t406\t407\t408\t409\t410\t411\t412\t413\t414\t415\t416\t417\t418\t419\t420\t421\t422\t423\t424\t425\t426\t427\t428\t429\t430\t431\t432\t433\t434\t435\t436\t437\t438\t439\t440\t441\t442\t443\t444\t445\t446\t447\t448\t449\t450\t451\t452\t453\t454\t455\t456\t457\t458\t459\t460\t461\t462\t463\t464\t465\t466\t467\t468\t469\t470\t471\t472\t473\t474\t475\t476\t477\t478\t479\t480\t481\t482\t483\t484\t485\t486\t487\t488\t489\t490\t491\t492\t493\t494\t495\t496\t497\t498\t499\t500\t501\t502\t503\t504\t505\n",
            "150.125\t4.875\t0.136452\t0.110699\t-0.344692\t0.0800476\t0.468679\t0.321476\t-0.609039\t-0.942373\t-1.04499\t-0.701851\t0.00699234\t-0.914492\t-0.724516\t-0.946087\t-0.988241\t-0.679619\t-0.475838\t-0.249523\t-0.378395\t-0.249792\t-0.0416584\t-0.341852\t-0.512674\t0.170992\t0.482903\t-0.220398\t-0.0643692\t-0.771286\t-0.187773\t-0.643524\t-0.0558147\t0.0502071\t0.0430088\t-0.450239\t-0.609341\t-0.224815\t-0.401613\t-0.39823\t-0.299532\t-0.368286\t-0.20229\t-0.0468578\t-0.252911\t-0.163017\t-0.0506573\t-0.427013\t-0.434008\t-0.452557\t-0.29129\t-0.923944\t-0.42308\t-0.0616188\t-0.506483\t-0.657858\t-0.500975\t-0.32592\t-1.15766\t-0.217335\t-0.337673\t-0.268042\t-0.636774\t-0.275015\t-0.395983\t0.0373821\t0.161905\t-0.423191\t-0.894846\t-0.923662\t-0.599657\t-0.77282\t0.21566\t-0.538363\t-0.349031\t-0.139017\t-0.0392094\t-0.100618\t-0.366159\t0.32081\t0.196766\t0.83053\t0.284342\t0.181696\t-0.0396748\t-0.0148144\t0.191936\t-0.0846577\t0.0669212\t-0.167286\t-0.705837\t-0.243856\t0.0309601\t0.350531\t0.704008\t0.0433102\t-0.77034\t-0.365459\t-0.226774\t-0.211445\t0.0833721\t0.466381\t-0.172934\t0.119143\t-0.208073\t-0.771082\t-0.624659\t-0.396046\t-0.580673\t-0.530945\t-0.949677\t-0.246801\t-0.432434\t0.143047\t-0.0168056\t-0.0888577\t-0.672588\t-0.551083\t-1.19999\t-0.924433\t-0.441341\t-0.867395\t-0.671612\t-0.821777\t-0.790176\t-0.670286\t0.0686779\t-0.470858\t-0.534845\t-0.854307\t-0.247658\t-0.330883\t-0.753008\t-0.597717\t-0.807096\t-0.717873\t-0.619854\t-0.021286\t-0.303579\t-0.89119\t-0.295815\t-0.78463\t-0.881325\t-0.760883\t-0.109007\t-0.269009\t-0.643871\t-0.743587\t-0.322435\t-0.0672855\t-0.457129\t-0.370857\t-0.425491\t-0.703985\t-0.728991\t-0.520239\t-0.400341\t-0.568041\t-0.707418\t-0.44573\t-0.0872726\t-0.783619\t-0.016161\t0.299477\t0.278379\t0.791821\t0.333008\t0.305244\t0.47966\t0.296152\t0.215162\t-0.373156\t0.0198231\t-0.377285\t-0.277451\t0.0478096\t0.28096\t0.228918\t0.430676\t0.275246\t0.0143261\t0.562927\t0.349033\t-0.0532303\t0.0511131\t-0.175953\t-0.536804\t-0.501524\t-0.42033\t-0.898825\t-0.933325\t-0.402496\t-0.115673\t0.015831\t-0.71871\t-0.562874\t-0.570177\t-0.678951\t-0.406805\t-0.257191\t0.363218\t0.615692\t0.574343\t0.341373\t0.114326\t0.228088\t0.309355\t0.353912\t0.0714359\t-0.707619\t-0.327127\t-0.491858\t-0.535814\t0.0514984\t0.0263424\t0.0229874\t0.248659\t0.0532494\t0.149033\t0.449602\t0.0198231\t-0.850952\t-0.57745\t-0.472523\t-0.0790405\t0.00375557\t0.396341\t-0.123465\t-0.091341\t0.0271206\t0.254517\t0.607128\t-0.422434\t-0.305618\t-0.304871\t-0.0545235\t-0.142265\t-0.174309\t0.150009\t-0.039917\t0.310326\t-0.229977\t-0.176128\t-0.333229\t-0.864048\t0.236048\t0.403839\t0.0348091\t0.0209599\t-0.197212\t-0.333992\t-0.578627\t-0.15634\t-0.308041\t-0.182259\t-0.0118008\t0.0182114\t0.413715\t0.0380344\t-0.107523\t-0.0406532\t-0.01334\t-0.484991\t-0.0947552\t-0.156673\t-0.304171\t0.339355\t0.34374\t0.684662\t0.792715\t0.517712\t-0.125525\t-0.0396843\t-0.0743084\t-0.368324\t-0.356367\t0.0466595\t0.117121\t-0.274193\t0.149628\t0.149824\t0.0867157\t0.155775\t0.162144\t0.556767\t0.186659\t0.00600815\t-0.0183029\t-0.379675\t-0.594492\t-0.790646\t0.227842\t-0.151144\t-0.664619\t-0.219385\t0.407143\t-0.398071\t-0.711405\t-0.463326\t-0.370562\t-0.289341\t0.0997009\t-0.235161\t-0.356443\t0.497242\t0.359047\t0.413517\t0.237476\t0.320639\t0.455048\t0.740341\t0.536213\t0.242659\t0.281637\t-0.0706444\t0.137533\t0.14563\t-0.109619\t-0.105192\t-0.339523\t-0.0322647\t0.422789\t0.346342\t0.484278\t0.159992\t0.245184\t0.564838\t0.194984\t0.105631\t0.106714\t0.084486\t0.148476\t-0.137104\t0.162466\t-0.0479908\t-0.298948\t0.0306587\t-0.0777187\t-0.399355\t-0.167158\t0.232727\t0.137049\t0.0719051\t0.420477\t0.670315\t0.303757\t0.0946751\t0.0484715\t-0.056675\t-0.00739479\t0.674839\t0.733555\t0.894663\t0.630047\t0.184162\t-0.0625248\t-0.535814\t-0.54463\t-0.00732422\t0.0339546\t0.0449924\t-0.0132027\t0.33742\t0.333395\t0.104662\t-0.127953\t0.319647\t-0.0871906\t-0.0729103\t-0.232695\t-0.0956573\t0.0933094\t0.105993\t-0.0377178\t0.499033\t0.4282\t0.11434\t0.0913811\t-0.27874\t0.0428104\t0.490637\t0.442789\t0.560009\t0.563309\t0.26866\t0.896797\t0.758387\t0.41177\t0.629824\t0.688047\t0.549324\t0.486477\t0.113541\t0.538595\t0.331009\t0.263309\t0.0883255\t0.165184\t0.37742\t0.485342\t-0.224371\t0.334715\t0.423517\t-0.101191\t-0.477104\t-0.327856\t-0.144991\t-0.118948\t0.184992\t0.14583\t0.0180645\t-0.325569\t0.178534\t0.208048\t0.223194\t0.577477\t0.689993\t0.816015\t0.918674\t0.869438\t0.773993\t0.556475\t0.622259\t0.821413\t0.560469\t0.439381\t0.220291\t0.297476\t0.672251\t0.816338\t0.861008\t0.896858\t0.73266\t0.562283\t0.62484\t0.711771\t0.328533\t0.415714\t0.321259\t0.587143\t0.220638\t0.153757\t0.0560093\t0.343632\t-0.0963402\t0.401958\t0.245806\t0.163198\t-0.180176\t-0.00928497\t0.459002\t0.180477\t0.369347\t0.226337\t0.0780087\t0.408148\t0.0419922\t-0.0712662\t0.211935\t0.456154\t0.687243\t0.421381\t0.472227\t1.02414\t1.23967\t0.89666\t0.919676\t1.01395\t0.587326\t0.76712\t0.629032\t0.479271\t0.386921\t0.617048\t0.189646\t0.14481\t0.362574\t0.619562\t0.639675\t0.867504\t0.60466\t0.613249\t0.644838\t0.191771\t0.334017\t0.331047\t0.139002\t0.354811\t0.271282\t0.323757\t0.575676\t0.511374\t0.701326\t0.556475\t0.620323\t0.567127\t0.854017\t0.663382\t0.559002\t0.472809\t0.59096\t0.156982\t0.388008\t0.142342\t0.325327\t0.492281\t0.702259\n",
            "150.375\t4.875\t0.175882\t0.138372\t-0.394693\t0.0210304\t0.473841\t0.320627\t-0.590015\t-0.942234\t-1.04617\t-0.696575\t0.0004673\t-0.867996\t-0.706697\t-0.914484\t-0.994371\t-0.667969\t-0.440353\t-0.246706\t-0.343885\t-0.179976\t-0.0478401\t-0.273026\t-0.567532\t0.256519\t0.492657\t-0.199633\t-0.0946941\t-0.712969\t-0.184225\t-0.622374\t-0.101627\t-0.0051384\t0.14616\t-0.355928\t-0.612532\t-0.282513\t-0.39057\t-0.465557\t-0.43792\t-0.362303\t-0.259064\t-0.104374\t-0.236145\t-0.13546\t-0.106174\t-0.372704\t-0.373533\t-0.52606\t-0.36702\t-0.807699\t-0.425661\t-0.0686359\t-0.509064\t-0.610373\t-0.490337\t-0.334169\t-1.08651\t-0.274961\t-0.340532\t-0.223803\t-0.619923\t-0.271627\t-0.363081\t-0.0299683\t0.204485\t-0.40704\t-0.811306\t-0.912235\t-0.543507\t-0.77593\t0.241135\t-0.444771\t-0.255407\t-0.159632\t-0.0169506\t-0.0959682\t-0.350676\t0.30196\t0.21192\t0.806152\t0.235826\t0.246328\t-0.0702\t0.0178108\t0.151367\t-0.11377\t0.0536938\t-0.0249691\t-0.623579\t-0.192707\t0.046114\t0.42712\t0.673492\t0.0276184\t-0.697866\t-0.411222\t-0.196375\t-0.218056\t0.131113\t0.443697\t-0.170675\t0.05196\t-0.242273\t-0.615459\t-0.588173\t-0.511091\t-0.524532\t-0.581867\t-1.00702\t-0.240557\t-0.454048\t0.165697\t0.0015831\t-0.0820408\t-0.56679\t-0.537395\t-1.09584\t-0.893993\t-0.4972\t-0.879932\t-0.67444\t-0.856874\t-0.81179\t-0.650303\t-0.0319653\t-0.440041\t-0.523886\t-0.785784\t-0.202173\t-0.288511\t-0.797865\t-0.624125\t-0.794439\t-0.784485\t-0.649532\t-0.130636\t-0.362289\t-0.909372\t-0.277758\t-0.867395\t-0.956841\t-0.826897\t-0.0498657\t-0.312511\t-0.650246\t-0.710199\t-0.25308\t-0.0526352\t-0.55003\t-0.352039\t-0.417757\t-0.734171\t-0.695173\t-0.507542\t-0.420198\t-0.707029\t-0.711214\t-0.379128\t-0.0179195\t-0.835636\t-0.0426121\t0.307961\t0.329662\t0.680023\t0.251827\t0.335361\t0.529469\t0.406197\t0.222012\t-0.347563\t0.0817585\t-0.337635\t-0.238741\t0.0492935\t0.243534\t0.205185\t0.455826\t0.223425\t-0.0885315\t0.547165\t0.301044\t-0.015913\t0.067564\t-0.148302\t-0.585836\t-0.48304\t-0.382595\t-0.920622\t-0.951839\t-0.353025\t-0.132532\t0.0503902\t-0.670246\t-0.529842\t-0.574371\t-0.70797\t-0.425514\t-0.247374\t0.253532\t0.60841\t0.618492\t0.352135\t0.128468\t0.143293\t0.247818\t0.395159\t-0.035984\t-0.661636\t-0.315191\t-0.537374\t-0.568726\t-0.016428\t-0.0101738\t-0.00044632\t0.203468\t-0.0041256\t0.158787\t0.350368\t0.0475655\t-0.809301\t-0.666805\t-0.458706\t-0.107435\t-0.0422344\t0.394493\t-0.0952835\t-0.130533\t0.0261974\t0.317818\t0.445873\t-0.30921\t-0.232969\t-0.280354\t-0.187374\t-0.189047\t-0.222557\t0.130159\t-0.0136719\t0.259468\t-0.169287\t-0.163471\t-0.324484\t-0.815016\t0.131365\t0.40513\t0.0652924\t-0.058403\t-0.213202\t-0.34684\t-0.593672\t-0.186199\t-0.35219\t-0.263794\t0.0112305\t0.152081\t0.451365\t0.100615\t-0.0547066\t-0.0845318\t0.0229263\t-0.513506\t-0.038187\t-0.0695324\t-0.275415\t0.34556\t0.312092\t0.640791\t0.847698\t0.503195\t-0.120373\t-0.00517654\t-0.0880413\t-0.416508\t-0.291414\t0.063467\t0.0636158\t-0.225084\t0.120516\t0.155628\t0.0393639\t0.231583\t0.184628\t0.60676\t0.0809917\t0.0118256\t-0.0817356\t-0.372532\t-0.560577\t-0.689278\t0.30373\t-0.224371\t-0.601303\t-0.149708\t0.409626\t-0.266466\t-0.702234\t-0.452173\t-0.370123\t-0.294867\t0.0587788\t-0.277344\t-0.307343\t0.529823\t0.334698\t0.389324\t0.202959\t0.338049\t0.459377\t0.693493\t0.502134\t0.2388\t0.311037\t0.00201225\t0.0855408\t0.124662\t-0.183302\t-0.101967\t-0.300373\t-0.0432415\t0.398733\t0.332493\t0.484392\t0.181801\t0.248777\t0.543625\t0.185873\t0.0649834\t0.0933647\t0.100292\t0.172626\t-0.091629\t0.164217\t-0.0215073\t-0.263672\t0.0198002\t-0.0715446\t-0.437021\t-0.128771\t0.246597\t0.143364\t0.0648079\t0.392626\t0.596113\t0.285185\t0.0644932\t-0.00367165\t-0.0378666\t0.0226498\t0.671366\t0.732658\t0.873371\t0.642031\t0.150936\t-0.103373\t-0.506466\t-0.506105\t0.0164928\t-0.0162525\t0.0241337\t-0.00283432\t0.275238\t0.315195\t0.0895004\t-0.102303\t0.341904\t-0.0500393\t-0.112919\t-0.253525\t-0.0701733\t0.104715\t0.115467\t-0.0505772\t0.475883\t0.404444\t0.0898228\t0.120697\t-0.302288\t0.0259609\t0.457081\t0.437765\t0.564493\t0.585361\t0.2318\t0.816521\t0.773947\t0.479086\t0.770145\t0.680031\t0.532549\t0.445959\t0.138695\t0.554863\t0.267826\t0.251167\t0.0951347\t0.212004\t0.359108\t0.533373\t-0.253725\t0.366032\t0.452549\t-0.0960407\t-0.481306\t-0.268042\t-0.162174\t-0.122704\t0.183134\t0.203617\t-0.0257301\t-0.366529\t0.204338\t0.196032\t0.239647\t0.581293\t0.748371\t0.831636\t0.923826\t0.892458\t0.718468\t0.659746\t0.647173\t0.770515\t0.559177\t0.347698\t0.265453\t0.306959\t0.668049\t0.841959\t0.857492\t0.847296\t0.744469\t0.498133\t0.650076\t0.740515\t0.254017\t0.450365\t0.289968\t0.606627\t0.177404\t0.198088\t0.0498257\t0.311489\t-0.0635319\t0.443295\t0.237173\t0.109444\t-0.242758\t-0.136969\t0.437065\t0.180626\t0.377081\t0.212927\t0.0774937\t0.370844\t0.0501347\t-0.0473518\t0.220076\t0.48485\t0.619499\t0.416365\t0.504808\t0.990627\t1.22773\t0.94099\t0.950159\t0.982458\t0.626801\t0.723618\t0.574915\t0.431944\t0.399822\t0.619032\t0.207712\t0.142626\t0.289661\t0.622604\t0.621492\t0.897297\t0.597801\t0.642004\t0.618786\t0.205158\t0.325306\t0.366697\t0.14255\t0.340626\t0.239662\t0.358734\t0.573826\t0.487942\t0.730801\t0.554262\t0.662979\t0.586229\t0.887888\t0.677031\t0.550938\t0.52496\t0.550308\t0.144539\t0.401827\t0.118587\t0.343468\t0.490068\t0.714592\n",
            "150.625\t4.875\t0.219433\t0.0871258\t-0.322618\t-0.0616741\t0.488525\t0.269159\t-0.578594\t-0.947811\t-1.00588\t-0.676983\t0.0295486\t-0.79841\t-0.709923\t-0.915373\t-1.06036\t-0.656675\t-0.476957\t-0.283175\t-0.343433\t-0.204586\t0.0291176\t-0.127306\t-0.559786\t0.275784\t0.531044\t-0.114523\t-0.19165\t-0.689674\t-0.229862\t-0.594507\t-0.0150471\t0.030899\t0.0887852\t-0.262144\t-0.549786\t-0.324539\t-0.298309\t-0.494301\t-0.450684\t-0.367342\t-0.358248\t-0.16184\t-0.285046\t-0.10523\t-0.154215\t-0.382465\t-0.322453\t-0.610346\t-0.471859\t-0.592516\t-0.454554\t-0.0576744\t-0.482119\t-0.539841\t-0.583433\t-0.322973\t-0.920216\t-0.29537\t-0.377785\t-0.161959\t-0.592825\t-0.324659\t-0.356489\t-0.0946751\t0.253365\t-0.411509\t-0.723434\t-0.839102\t-0.433548\t-0.779886\t0.201548\t-0.411959\t-0.254761\t-0.16004\t0.0815754\t-0.0773411\t-0.343733\t0.269825\t0.257534\t0.776382\t0.189119\t0.25947\t-0.125118\t-0.0335712\t0.0807228\t-0.135374\t0.196091\t0.040659\t-0.527925\t-0.165174\t0.0643082\t0.422512\t0.628784\t-0.0153694\t-0.577118\t-0.350346\t-0.14831\t-0.195017\t0.150284\t0.469658\t-0.07341\t0.0438251\t-0.24666\t-0.470392\t-0.565548\t-0.58666\t-0.509785\t-0.629055\t-1.09896\t-0.232872\t-0.487457\t0.192326\t0.0394936\t-0.0905075\t-0.487627\t-0.436197\t-1.02988\t-0.894079\t-0.524786\t-0.876799\t-0.657019\t-0.894524\t-0.819393\t-0.640009\t-0.0924416\t-0.385174\t-0.517628\t-0.742971\t-0.178883\t-0.269241\t-0.779119\t-0.58325\t-0.760569\t-0.885372\t-0.759071\t-0.352009\t-0.405022\t-0.902842\t-0.260208\t-0.93878\t-0.974548\t-0.870531\t-0.0627861\t-0.307119\t-0.606375\t-0.662159\t-0.281006\t-0.0483418\t-0.644054\t-0.325508\t-0.387949\t-0.682327\t-0.648214\t-0.508272\t-0.396786\t-0.759378\t-0.71089\t-0.366802\t0.0657692\t-0.873674\t-0.126959\t0.296492\t0.306889\t0.61735\t0.305452\t0.39592\t0.544548\t0.511911\t0.247496\t-0.21142\t0.101252\t-0.374008\t-0.262119\t0.00315857\t0.294954\t0.192188\t0.330452\t0.200438\t-0.107452\t0.510622\t0.262657\t0.0942688\t0.0873814\t-0.172342\t-0.572763\t-0.453508\t-0.375046\t-1.01297\t-0.979216\t-0.27924\t-0.149452\t0.0893307\t-0.646696\t-0.540016\t-0.62649\t-0.715342\t-0.503733\t-0.282175\t0.155922\t0.563156\t0.638453\t0.34334\t0.126881\t0.0486851\t0.186207\t0.434984\t-0.141973\t-0.680342\t-0.343086\t-0.565174\t-0.565691\t-0.00845718\t-0.0848808\t-0.00666046\t0.219547\t-0.0813141\t0.144917\t0.280994\t0.131252\t-0.753342\t-0.798571\t-0.457174\t-0.150208\t-0.14394\t0.348452\t-0.181175\t-0.0794525\t0.0219116\t0.361046\t0.215342\t-0.251974\t-0.190008\t-0.271152\t-0.202841\t-0.213757\t-0.217812\t0.070118\t-0.021822\t0.219881\t-0.144217\t-0.174438\t-0.246088\t-0.71649\t0.0986576\t0.353365\t0.118826\t-0.21311\t-0.209423\t-0.385881\t-0.499563\t-0.236452\t-0.371313\t-0.317343\t-0.0143013\t0.245445\t0.520992\t0.219816\t-0.030508\t-0.0937557\t-0.0423279\t-0.502214\t-0.0469818\t-0.0234528\t-0.242281\t0.397497\t0.245821\t0.647703\t0.868992\t0.525299\t-0.195175\t0.0517273\t-0.140392\t-0.427549\t-0.256014\t0.0212154\t0.0480404\t-0.128632\t0.0560551\t0.136414\t0.0316582\t0.283043\t0.178158\t0.675598\t0.0615444\t0.000785828\t-0.111498\t-0.394119\t-0.562605\t-0.49831\t0.324627\t-0.268747\t-0.574675\t-0.0934086\t0.372158\t-0.21666\t-0.716843\t-0.400881\t-0.378595\t-0.275785\t0.043848\t-0.313148\t-0.258587\t0.54351\t0.331659\t0.347559\t0.237492\t0.311728\t0.425093\t0.629452\t0.433662\t0.192215\t0.32933\t7.82013e-05\t0.0434074\t0.105768\t-0.172009\t-0.082119\t-0.283842\t-0.0356922\t0.405092\t0.349119\t0.481405\t0.171881\t0.227074\t0.523626\t0.169983\t0.0212517\t0.109659\t0.126591\t0.169493\t-0.0224667\t0.183157\t0.0251179\t-0.245047\t-0.0117855\t-0.00744247\t-0.477987\t-0.116087\t0.261251\t0.117325\t0.0798168\t0.348158\t0.567533\t0.293156\t0.00878525\t-0.0498848\t-0.0381184\t0.0532017\t0.642981\t0.68927\t0.858671\t0.646324\t0.167559\t-0.0711746\t-0.462465\t-0.447166\t-0.0138817\t-0.0585957\t0.0622139\t-0.0171204\t0.276207\t0.257891\t0.0351238\t-0.0923424\t0.367558\t0.0158253\t-0.133112\t-0.260715\t-0.0658817\t0.113985\t0.0945473\t-0.0961533\t0.423304\t0.35677\t-0.0103607\t0.156992\t-0.295668\t0.0171585\t0.414953\t0.395092\t0.590452\t0.594954\t0.200882\t0.779009\t0.77911\t0.530342\t0.811253\t0.688658\t0.556269\t0.443825\t0.15205\t0.580254\t0.242785\t0.226566\t0.0598812\t0.222879\t0.291367\t0.586056\t-0.254877\t0.368324\t0.457235\t-0.0671749\t-0.449562\t-0.263941\t-0.135216\t-0.12924\t0.176548\t0.216751\t-0.0428257\t-0.381075\t0.209961\t0.170324\t0.252073\t0.519491\t0.791405\t0.836382\t0.927452\t0.943018\t0.625547\t0.730299\t0.627174\t0.788555\t0.596735\t0.302324\t0.354332\t0.300158\t0.626244\t0.885414\t0.848452\t0.795599\t0.747881\t0.421589\t0.701044\t0.773912\t0.248671\t0.479992\t0.277235\t0.640491\t0.132374\t0.190899\t0.0454521\t0.319147\t-0.031786\t0.423525\t0.236851\t0.0549831\t-0.256813\t-0.147675\t0.455622\t0.217159\t0.375921\t0.181543\t0.0757847\t0.353662\t0.117882\t-0.000669479\t0.236528\t0.518234\t0.549316\t0.503325\t0.527882\t0.952826\t1.20528\t0.965414\t0.953785\t0.967855\t0.662548\t0.707718\t0.504915\t0.440342\t0.430285\t0.636658\t0.203365\t0.141825\t0.249147\t0.625414\t0.600784\t0.91592\t0.569216\t0.658041\t0.555883\t0.214985\t0.301575\t0.387325\t0.132397\t0.344826\t0.215599\t0.397028\t0.559786\t0.477533\t0.748882\t0.562235\t0.67911\t0.577127\t0.894478\t0.669325\t0.514978\t0.568491\t0.511406\t0.126383\t0.419785\t0.110115\t0.339882\t0.488041\t0.719755\n",
            "150.875\t4.875\t0.264616\t0.00730515\t-0.198593\t-0.110056\t0.535254\t0.235565\t-0.571154\t-0.959938\t-0.958214\t-0.666414\t0.037199\t-0.781643\t-0.751513\t-0.945196\t-1.09988\t-0.640388\t-0.511843\t-0.331768\t-0.563412\t-0.329939\t0.0514526\t-0.0896397\t-0.600801\t0.229647\t0.593002\t0.00810432\t-0.335045\t-0.688389\t-0.24507\t-0.598103\t0.0469112\t0.0894165\t-0.0518818\t-0.227703\t-0.499134\t-0.318417\t-0.166029\t-0.523052\t-0.464399\t-0.365723\t-0.338295\t-0.162436\t-0.313734\t-0.137358\t-0.17588\t-0.352865\t-0.284801\t-0.59132\t-0.544094\t-0.49341\t-0.51569\t-0.087389\t-0.448616\t-0.467102\t-0.604378\t-0.387035\t-0.874882\t-0.308672\t-0.402134\t-0.190353\t-0.609577\t-0.418053\t-0.392141\t-0.13139\t0.181705\t-0.376436\t-0.698895\t-0.784132\t-0.372215\t-0.753832\t0.180532\t-0.540352\t-0.312159\t-0.161551\t0.169147\t-0.0663891\t-0.392811\t0.261564\t0.25304\t0.72974\t0.165119\t0.2652\t-0.136135\t-0.0184174\t0.0859051\t-0.110195\t0.289148\t0.148277\t-0.453455\t-0.180769\t0.0430412\t0.337481\t0.606453\t0.0348759\t-0.450468\t-0.258095\t-0.159578\t-0.165552\t0.183987\t0.47361\t0.0197697\t0.0538979\t-0.269217\t-0.380583\t-0.548214\t-0.647703\t-0.544468\t-0.68261\t-1.07345\t-0.230196\t-0.483433\t0.181276\t0.0720291\t-0.128435\t-0.419863\t-0.318003\t-1.04888\t-0.934801\t-0.526134\t-0.82745\t-0.60474\t-0.92086\t-0.808916\t-0.621723\t-0.170229\t-0.348103\t-0.554701\t-0.753487\t-0.149548\t-0.321898\t-0.801802\t-0.5639\t-0.749578\t-0.931267\t-0.852465\t-0.519056\t-0.422812\t-0.893103\t-0.218573\t-0.908325\t-0.916548\t-0.927059\t-0.0604687\t-0.334545\t-0.603127\t-0.635195\t-0.307627\t0.00994492\t-0.66152\t-0.284435\t-0.315346\t-0.621874\t-0.650881\t-0.518349\t-0.354801\t-0.75745\t-0.66474\t-0.313053\t0.113987\t-0.987722\t-0.201199\t0.284565\t0.261427\t0.606836\t0.315119\t0.424555\t0.547531\t0.613842\t0.220098\t-0.142241\t0.0746326\t-0.397722\t-0.219261\t-0.0484352\t0.359816\t0.151352\t0.218119\t0.218426\t-0.108135\t0.437389\t0.171066\t0.20159\t0.101728\t-0.194723\t-0.515068\t-0.439436\t-0.345991\t-1.05897\t-1.06088\t-0.260929\t-0.120134\t0.135132\t-0.586676\t-0.564482\t-0.665045\t-0.68639\t-0.560553\t-0.293102\t0.116911\t0.534256\t0.681786\t0.346167\t0.115532\t-0.00648117\t0.122681\t0.483376\t-0.184723\t-0.717722\t-0.350876\t-0.579102\t-0.560507\t-0.00768089\t-0.150547\t-0.0306072\t0.221531\t-0.125513\t0.140423\t0.28569\t0.0975361\t-0.679722\t-0.828617\t-0.431768\t-0.182444\t-0.156389\t0.361118\t-0.153187\t-0.0104675\t-0.00164223\t0.341066\t-0.0176964\t-0.153111\t-0.0970554\t-0.241198\t-0.229103\t-0.276958\t-0.174776\t0.0204525\t-0.0189934\t0.124533\t-0.176481\t-0.168287\t-0.203768\t-0.708271\t0.0669441\t0.310093\t0.0788975\t-0.223089\t-0.248003\t-0.427214\t-0.42964\t-0.231468\t-0.355515\t-0.312803\t-0.0198383\t0.278826\t0.595612\t0.24719\t-0.0607681\t-0.0253468\t-0.0970345\t-0.489882\t-0.0638332\t-0.0624676\t-0.204546\t0.469131\t0.19845\t0.691729\t0.853611\t0.503319\t-0.16877\t0.0520725\t-0.121552\t-0.39888\t-0.247059\t0.0015316\t0.044487\t-0.0402222\t-0.0234089\t0.112696\t0.0466118\t0.286867\t0.184565\t0.765621\t0.0390949\t0.0431194\t-0.117058\t-0.373468\t-0.51874\t-0.454416\t0.240162\t-0.262787\t-0.61639\t-0.086359\t0.330564\t-0.226637\t-0.67639\t-0.322548\t-0.360929\t-0.264801\t-0.0203533\t-0.350546\t-0.150909\t0.561729\t0.307611\t0.312996\t0.264231\t0.255299\t0.385868\t0.577118\t0.412296\t0.162533\t0.33868\t-0.0257072\t0.0291386\t0.0985031\t-0.139055\t-0.0747452\t-0.282768\t-0.0521202\t0.401352\t0.380785\t0.457134\t0.173532\t0.234486\t0.512358\t0.163733\t0.00301933\t0.0836105\t0.167189\t0.179897\t0.071106\t0.172319\t0.0627861\t-0.257059\t-0.0371342\t0.0573902\t-0.474739\t-0.141268\t0.272051\t0.0889435\t0.0804157\t0.282564\t0.578848\t0.290707\t-0.0195484\t-0.0473804\t-0.0328026\t0.0490017\t0.626551\t0.661947\t0.853987\t0.64361\t0.209448\t-0.0021019\t-0.416313\t-0.266068\t-0.0295467\t-0.0967369\t0.0478649\t0.00738907\t0.232035\t0.211554\t-0.0550461\t-0.11639\t0.357189\t0.0512314\t-0.113411\t-0.246712\t-0.0575485\t0.121651\t0.120865\t-0.0687389\t0.336874\t0.300877\t-0.141819\t0.190945\t-0.273132\t0.0268974\t0.366589\t0.360706\t0.653786\t0.59778\t0.212866\t0.696745\t0.725262\t0.547661\t0.829149\t0.669611\t0.584286\t0.478231\t0.16917\t0.603611\t0.196119\t0.175844\t0.0228653\t0.186422\t0.261389\t0.628733\t-0.177303\t0.401278\t0.453964\t-0.0261021\t-0.407604\t-0.310905\t-0.0958805\t-0.12351\t0.176199\t0.236744\t-0.0602226\t-0.384653\t0.218504\t0.169611\t0.252674\t0.500898\t0.815945\t0.833288\t0.944118\t0.988749\t0.532866\t0.789001\t0.656551\t0.920876\t0.617535\t0.287277\t0.398157\t0.291231\t0.589493\t0.898771\t0.853119\t0.741652\t0.761198\t0.427389\t0.729776\t0.800518\t0.244633\t0.508944\t0.272997\t0.648563\t0.124008\t0.191998\t0.049118\t0.316168\t-0.0514679\t0.394808\t0.233971\t0.028019\t-0.187626\t-0.120056\t0.456867\t0.199898\t0.404976\t0.153933\t0.0894527\t0.376167\t0.171198\t0.0115833\t0.282036\t0.560863\t0.543987\t0.555277\t0.535576\t0.902231\t1.1782\t0.991674\t0.977785\t0.966812\t0.692865\t0.686422\t0.489454\t0.442305\t0.459793\t0.672277\t0.18235\t0.150898\t0.208847\t0.62232\t0.569786\t0.919716\t0.553532\t0.67868\t0.504616\t0.223375\t0.292374\t0.400278\t0.116545\t0.342564\t0.210461\t0.441998\t0.547453\t0.482618\t0.763199\t0.585453\t0.713326\t0.55159\t0.885277\t0.628277\t0.458803\t0.583231\t0.487879\t0.10845\t0.435452\t0.110039\t0.333532\t0.501905\t0.701389\n",
            "151.125\t4.875\t0.317856\t0.0505562\t-0.161797\t-0.0789528\t0.550261\t0.229492\t-0.553371\t-0.992037\t-1.0182\t-0.765524\t0.0524292\t-0.791283\t-0.849886\t-0.963373\t-1.12147\t-0.655619\t-0.524256\t-0.370842\t-0.731438\t-0.381714\t0.0811348\t-0.129072\t-0.656239\t0.200975\t0.601728\t0.137144\t-0.378893\t-0.726286\t-0.247805\t-0.657843\t0.0511436\t0.0663509\t-0.207533\t-0.249716\t-0.466906\t-0.31354\t-0.112143\t-0.51123\t-0.477604\t-0.34462\t-0.251997\t-0.0808411\t-0.307243\t-0.173004\t-0.146532\t-0.439072\t-0.262571\t-0.573862\t-0.575047\t-0.434444\t-0.548893\t-0.109285\t-0.418449\t-0.393175\t-0.567888\t-0.457842\t-0.889198\t-0.41004\t-0.417238\t-0.220314\t-0.612465\t-0.537302\t-0.393087\t-0.0932865\t0.150583\t-0.250175\t-0.688211\t-0.784939\t-0.311533\t-0.740362\t0.194761\t-0.603218\t-0.31053\t-0.179407\t0.228525\t-0.0426197\t-0.432644\t0.250824\t0.172434\t0.686029\t0.1588\t0.316412\t-0.132904\t0.0371056\t0.133341\t-0.0612297\t0.373365\t0.196714\t-0.322643\t-0.199842\t0.0517883\t0.349255\t0.646133\t0.0802841\t-0.542572\t-0.193218\t-0.258917\t-0.118731\t0.155945\t0.455715\t0.0267124\t0.102491\t-0.271759\t-0.31881\t-0.516199\t-0.661652\t-0.570238\t-0.705797\t-0.991821\t-0.332302\t-0.42083\t0.235714\t0.123808\t-0.146175\t-0.372726\t-0.282036\t-1.03453\t-0.897781\t-0.502571\t-0.798702\t-0.60924\t-0.937683\t-0.770506\t-0.590286\t-0.108128\t-0.292843\t-0.597242\t-0.753649\t-0.159866\t-0.369072\t-0.827572\t-0.599991\t-0.798273\t-0.853016\t-0.915668\t-0.663952\t-0.392321\t-0.827509\t-0.225952\t-0.915585\t-0.914865\t-0.922943\t-0.0995712\t-0.330315\t-0.567949\t-0.610516\t-0.262442\t0.00338173\t-0.604578\t-0.253841\t-0.344339\t-0.571712\t-0.655867\t-0.491329\t-0.296572\t-0.738701\t-0.593756\t-0.32123\t0.0591717\t-1.01929\t-0.255869\t0.270159\t0.242756\t0.587965\t0.358801\t0.448994\t0.521429\t0.595816\t0.141727\t-0.116993\t-0.037281\t-0.430618\t-0.283934\t-0.0741749\t0.330822\t0.153126\t0.2348\t0.235123\t-0.0635719\t0.416138\t0.0497913\t0.254484\t0.098526\t-0.18862\t-0.47974\t-0.494843\t-0.311438\t-1.07687\t-1.14587\t-0.329071\t-0.0819054\t0.133556\t-0.52537\t-0.54373\t-0.675991\t-0.612286\t-0.575546\t-0.297842\t0.137596\t0.525061\t0.711134\t0.365444\t0.0984287\t-0.0554752\t0.105598\t0.500198\t-0.137281\t-0.671619\t-0.364901\t-0.572508\t-0.536276\t0.00925446\t-0.1472\t-0.0642319\t0.209429\t-0.136766\t0.131405\t0.327145\t0.0343323\t-0.655285\t-0.857159\t-0.427509\t-0.166597\t-0.153004\t0.320801\t-0.159393\t0.0140953\t-0.0409584\t0.241728\t-0.142658\t-0.132765\t-0.0652847\t-0.191031\t-0.259174\t-0.25563\t-0.180746\t0.0641346\t-0.00358772\t0.00342751\t-0.179024\t-0.192142\t-0.178017\t-0.685345\t0.0323811\t0.265743\t0.0644913\t-0.183372\t-0.265585\t-0.433867\t-0.322943\t-0.200905\t-0.336765\t-0.312788\t-0.092659\t0.264654\t0.614048\t0.147034\t-0.118176\t-0.00498581\t-0.12365\t-0.574533\t-0.0622978\t-0.105906\t-0.155798\t0.522373\t0.0754204\t0.699816\t0.815048\t0.49897\t-0.189508\t0.0708218\t-0.124939\t-0.365198\t-0.23649\t0.045763\t0.0877514\t0.0285015\t-0.0451584\t0.0640106\t-0.0129528\t0.25897\t0.182825\t0.725983\t0.0363503\t0.0221348\t-0.136168\t-0.301239\t-0.473217\t-0.498272\t0.135912\t-0.275345\t-0.762953\t-0.150707\t0.299158\t-0.213696\t-0.64139\t-0.267532\t-0.337782\t-0.269571\t0.0254917\t-0.354078\t-0.0365868\t0.558525\t0.274714\t0.302519\t0.272491\t0.192757\t0.361189\t0.532801\t0.426735\t0.156761\t0.334846\t-0.0634327\t0.0205917\t0.0891705\t-0.107618\t-0.0626431\t-0.319841\t-0.0765972\t0.386351\t0.354467\t0.467703\t0.186094\t0.234524\t0.510115\t0.129841\t-0.0101833\t0.0203819\t0.208002\t0.200491\t0.0717888\t0.173771\t0.0674667\t-0.2952\t-0.0622387\t0.0454922\t-0.427305\t-0.144444\t0.257559\t0.0800476\t0.0886478\t0.254824\t0.609209\t0.248287\t-0.0138664\t0.0548\t-0.00657082\t0.02775\t0.611727\t0.662342\t0.831751\t0.664047\t0.24897\t0.002491\t-0.394341\t-0.166874\t-0.0281982\t-0.151007\t0.0534286\t0.0493641\t0.224953\t0.1868\t-0.0998611\t-0.127619\t0.363485\t0.0758247\t-0.0714359\t-0.242037\t-0.0115318\t0.13125\t0.180761\t-0.0316048\t0.311083\t0.267342\t-0.20212\t0.23538\t-0.257158\t0.00682449\t0.384047\t0.360222\t0.723467\t0.55867\t0.216429\t0.659363\t0.674953\t0.546984\t0.84272\t0.650715\t0.59897\t0.514158\t0.182112\t0.6399\t0.158134\t0.181896\t0.0447617\t0.128395\t0.278824\t0.67627\t0.00497818\t0.450048\t0.434454\t0.0174923\t-0.391113\t-0.326551\t-0.0898666\t-0.100363\t0.180429\t0.250977\t-0.0573044\t-0.397684\t0.203363\t0.180048\t0.212196\t0.461159\t0.826628\t0.832157\t0.9578\t1.03093\t0.48243\t0.815493\t0.698179\t0.960197\t0.642075\t0.270382\t0.384455\t0.286491\t0.563725\t0.927319\t0.844801\t0.724476\t0.744095\t0.462267\t0.760115\t0.843412\t0.285946\t0.537048\t0.244131\t0.639158\t0.126627\t0.180866\t0.0698013\t0.307381\t-0.0675716\t0.369364\t0.252695\t0.0319843\t-0.21599\t-0.0659523\t0.418003\t0.140825\t0.43082\t0.186996\t0.115133\t0.405767\t0.218761\t-0.0322495\t0.362373\t0.554731\t0.572075\t0.607382\t0.535744\t0.875492\t1.16792\t1.00958\t1.01047\t1.00222\t0.706762\t0.655493\t0.519793\t0.438412\t0.479816\t0.682047\t0.16897\t0.147158\t0.210499\t0.632158\t0.535467\t0.923187\t0.530096\t0.665815\t0.486889\t0.220556\t0.314978\t0.405714\t0.116388\t0.349825\t0.221144\t0.473125\t0.522135\t0.49609\t0.772762\t0.600008\t0.744953\t0.538055\t0.862074\t0.614048\t0.434454\t0.582491\t0.495014\t0.107641\t0.442135\t0.117702\t0.321095\t0.514847\t0.67947\n",
            "151.375\t4.875\t0.249823\t0.08148\t-0.183811\t-0.0956516\t0.539961\t0.247746\t-0.525562\t-1.0321\t-1.06722\t-0.873394\t0.0186977\t-0.850653\t-0.94179\t-1.01566\t-1.12865\t-0.659317\t-0.559715\t-0.372255\t-0.89782\t-0.338226\t0.100777\t-0.154684\t-0.650303\t0.194185\t0.546274\t0.194361\t-0.353487\t-0.69165\t-0.23036\t-0.721254\t0.0615349\t-0.0404835\t-0.230888\t-0.407909\t-0.434301\t-0.288717\t-0.156307\t-0.48745\t-0.536713\t-0.312317\t-0.171007\t-0.0479221\t-0.260078\t-0.135645\t-0.0982227\t-0.516943\t-0.246302\t-0.582911\t-0.541468\t-0.374592\t-0.528004\t-0.136652\t-0.404232\t-0.386255\t-0.440077\t-0.493065\t-0.945223\t-0.542749\t-0.428303\t-0.181622\t-0.624371\t-0.632092\t-0.359295\t-0.053318\t0.100607\t-0.187254\t-0.721367\t-0.808548\t-0.322556\t-0.775007\t0.245365\t-0.582911\t-0.241144\t-0.215984\t0.257156\t0.017683\t-0.504232\t0.163746\t0.153793\t0.663065\t0.177778\t0.324993\t-0.157969\t-0.0138779\t0.0301456\t0.0507641\t0.426189\t0.217682\t-0.324232\t-0.198587\t0.0934715\t0.287903\t0.69911\t0.136284\t-0.598635\t-0.106136\t-0.408564\t-0.121021\t0.0413513\t0.417349\t0.0467358\t0.106413\t-0.274593\t-0.188871\t-0.538223\t-0.628555\t-0.537636\t-0.692911\t-0.875662\t-0.440306\t-0.511553\t0.276348\t0.161251\t-0.103254\t-0.355562\t-0.290161\t-1.00089\t-0.850813\t-0.481968\t-0.785492\t-0.627918\t-0.936329\t-0.727358\t-0.585985\t-0.117136\t-0.228254\t-0.609755\t-0.756613\t-0.154556\t-0.363716\t-0.869303\t-0.629684\t-0.777273\t-0.739948\t-0.864456\t-0.665985\t-0.34778\t-0.728588\t-0.202335\t-0.848871\t-0.886223\t-0.864361\t-0.154968\t-0.340975\t-0.560499\t-0.614592\t-0.226713\t-0.0376511\t-0.523264\t-0.171255\t-0.435884\t-0.569839\t-0.690222\t-0.49404\t-0.290636\t-0.687428\t-0.532757\t-0.416021\t-0.0463905\t-0.939985\t-0.309715\t0.241079\t0.230568\t0.649515\t0.470778\t0.482735\t0.517365\t0.533541\t0.149822\t-0.0604668\t-0.108004\t-0.424984\t-0.337135\t-0.0615883\t0.232502\t0.162096\t0.124445\t0.295961\t-0.0509682\t0.321928\t-0.0292091\t0.203623\t0.079092\t-0.223984\t-0.500683\t-0.543589\t-0.287497\t-1.10597\t-1.15822\t-0.378878\t-0.0289688\t0.111927\t-0.534693\t-0.538164\t-0.649939\t-0.535984\t-0.521006\t-0.305922\t0.155085\t0.514355\t0.70911\t0.366606\t0.113031\t-0.101297\t0.127888\t0.556837\t-0.00703621\t-0.630651\t-0.377781\t-0.567587\t-0.509432\t0.019516\t-0.120222\t-0.0821037\t0.165697\t-0.106459\t0.115952\t0.350224\t-0.0260677\t-0.598652\t-0.863586\t-0.440588\t-0.12298\t-0.129517\t0.300444\t-0.281458\t-0.0429688\t-0.0100079\t0.25692\t-0.255663\t-0.11252\t-0.0466518\t-0.08391\t-0.267254\t-0.239109\t-0.231775\t0.112778\t0.0427361\t-0.0126362\t-0.19775\t-0.162436\t-0.166021\t-0.619293\t-0.0369835\t0.298672\t0.0700779\t-0.169754\t-0.256613\t-0.413223\t-0.235975\t-0.17697\t-0.301298\t-0.316952\t-0.0956631\t0.190384\t0.56135\t0.0409298\t-0.179922\t0.0134716\t-0.132097\t-0.602556\t-0.00823212\t-0.136303\t-0.118395\t0.534662\t0.00884438\t0.695221\t0.713348\t0.4848\t-0.232254\t0.140568\t-0.212097\t-0.361555\t-0.272427\t0.0933647\t0.114832\t0.0936947\t-0.0524483\t0.0319958\t-0.0913181\t0.313187\t0.184078\t0.638632\t0.0885487\t-0.0235558\t-0.110813\t-0.277302\t-0.421297\t-0.555338\t0.119337\t-0.31123\t-0.859318\t-0.183586\t0.291079\t-0.161367\t-0.636936\t-0.203556\t-0.266943\t-0.287636\t0.0116043\t-0.288887\t0.0386219\t0.539093\t0.252682\t0.292219\t0.268412\t0.155083\t0.396612\t0.428444\t0.447575\t0.173698\t0.341282\t-0.0843716\t-0.0463295\t0.0778027\t-0.119984\t-0.0845547\t-0.375587\t-0.10524\t0.332741\t0.28511\t0.461767\t0.150364\t0.223219\t0.505629\t0.150408\t-0.00832558\t-0.018652\t0.226414\t0.157412\t0.0554066\t0.177258\t0.0724449\t-0.346298\t-0.0526352\t-0.00162125\t-0.384371\t-0.119593\t0.243931\t0.0740147\t0.105124\t0.260412\t0.627665\t0.178226\t-0.0208893\t0.10725\t0.00936508\t0.00934792\t0.5795\t0.720051\t0.821997\t0.622683\t0.256735\t0.0450783\t-0.343948\t-0.137259\t-0.00588799\t-0.151459\t0.0486984\t0.0977345\t0.255306\t0.206776\t-0.132521\t-0.116318\t0.378672\t0.0514126\t-0.124271\t-0.272419\t0.0601101\t0.136284\t0.199032\t-0.00774956\t0.332081\t0.23398\t-0.199617\t0.252016\t-0.240038\t-0.0325871\t0.382181\t0.364355\t0.703112\t0.566607\t0.233364\t0.617735\t0.626274\t0.518265\t0.851028\t0.653349\t0.554155\t0.540079\t0.20089\t0.632742\t0.141777\t0.2208\t0.138365\t0.0974121\t0.314016\t0.699694\t0.111996\t0.491682\t0.4048\t0.0670795\t-0.356852\t-0.361774\t-0.0642223\t-0.0653286\t0.179365\t0.256121\t-0.0269508\t-0.397707\t0.185867\t0.159016\t0.152542\t0.430412\t0.798309\t0.849194\t0.97311\t1.02854\t0.489365\t0.846443\t0.743372\t0.949337\t0.650383\t0.228682\t0.403187\t0.288746\t0.517664\t0.954355\t0.850111\t0.715315\t0.666698\t0.551928\t0.73563\t0.844336\t0.361996\t0.552015\t0.218672\t0.642746\t0.163794\t0.158548\t0.0424442\t0.304348\t-0.0326347\t0.359346\t0.254339\t0.0636215\t-0.182198\t-0.0293179\t0.413187\t0.130745\t0.443794\t0.272419\t0.138445\t0.422735\t0.222698\t-0.0867825\t0.416275\t0.576429\t0.580061\t0.670015\t0.58222\t0.871412\t1.15218\t1.04177\t1.02911\t1.04467\t0.692698\t0.634508\t0.539824\t0.408623\t0.49877\t0.715015\t0.163834\t0.161411\t0.201859\t0.636936\t0.534777\t0.923058\t0.527031\t0.650637\t0.474661\t0.243979\t0.342319\t0.404348\t0.125122\t0.364079\t0.215406\t0.486612\t0.505112\t0.519186\t0.759365\t0.599346\t0.788855\t0.506479\t0.836512\t0.632015\t0.420929\t0.568079\t0.5096\t0.112097\t0.448778\t0.12467\t0.305698\t0.522896\t0.688532\n",
            "151.625\t4.875\t0.217665\t0.062542\t-0.211666\t-0.101658\t0.516375\t0.24946\t-0.518803\t-1.08073\t-1.0704\t-0.945431\t0.0448647\t-0.959476\t-1.02524\t-1.07032\t-1.13231\t-0.644991\t-0.564917\t-0.355873\t-1.02009\t-0.299438\t0.140604\t-0.141882\t-0.645136\t0.145683\t0.43573\t0.233847\t-0.411345\t-0.646658\t-0.224594\t-0.746874\t0.0779724\t-0.110407\t-0.136396\t-0.487366\t-0.415802\t-0.208832\t-0.104593\t-0.533888\t-0.572311\t-0.233658\t-0.20653\t0.0314598\t-0.213964\t-0.102987\t-0.0917301\t-0.561882\t-0.257135\t-0.56496\t-0.529755\t-0.328529\t-0.54715\t-0.113659\t-0.371368\t-0.403206\t-0.413963\t-0.507826\t-1.00773\t-0.575754\t-0.486135\t-0.114315\t-0.806528\t-0.752815\t-0.294247\t-0.0819931\t0.0263748\t-0.248541\t-0.747513\t-0.829117\t-0.361397\t-0.767044\t0.244865\t-0.504961\t-0.212013\t-0.290979\t0.174141\t-0.00299263\t-0.586529\t0.0931263\t0.126036\t0.665077\t0.225603\t0.289085\t-0.183134\t-0.101412\t-0.0320129\t0.13147\t0.448011\t0.155342\t-0.325884\t-0.175541\t0.0253906\t0.305077\t0.767603\t0.17457\t-0.601801\t-0.0672188\t-0.445238\t-0.127815\t-0.0119896\t0.355675\t0.159922\t0.14146\t-0.280737\t-0.183632\t-0.62273\t-0.602205\t-0.487469\t-0.643993\t-0.835884\t-0.497816\t-0.606182\t0.241674\t0.198956\t-0.0648727\t-0.268803\t-0.263954\t-0.943396\t-0.826721\t-0.497135\t-0.785606\t-0.657175\t-0.936842\t-0.740698\t-0.634325\t-0.10911\t-0.19754\t-0.586544\t-0.772343\t-0.167397\t-0.337044\t-0.883135\t-0.671089\t-0.708464\t-0.643887\t-0.750698\t-0.609991\t-0.329109\t-0.689873\t-0.201384\t-0.777826\t-0.88373\t-0.770269\t-0.181135\t-0.324638\t-0.598465\t-0.601744\t-0.244892\t-0.0833263\t-0.310078\t-0.12254\t-0.514286\t-0.562988\t-0.724396\t-0.482204\t-0.346468\t-0.610445\t-0.526529\t-0.394602\t-0.114893\t-0.802658\t-0.307175\t0.256126\t0.230875\t0.693142\t0.567604\t0.443924\t0.531532\t0.44762\t0.217342\t0.00350189\t-0.103924\t-0.346659\t-0.348143\t-0.0165405\t0.162487\t0.155077\t0.0889378\t0.378119\t-0.0554676\t0.261168\t-0.0804005\t0.146112\t0.0389786\t-0.257658\t-0.517496\t-0.533873\t-0.262997\t-1.12331\t-1.1504\t-0.466721\t-0.00780106\t0.141169\t-0.53298\t-0.487816\t-0.652634\t-0.540325\t-0.479755\t-0.31354\t0.162487\t0.500561\t0.701271\t0.353601\t0.105865\t-0.120123\t0.179922\t0.631826\t0.128979\t-0.511658\t-0.399431\t-0.617874\t-0.467834\t-0.025568\t-0.0883961\t-0.108334\t0.140865\t-0.0639935\t0.144115\t0.349709\t-0.0310211\t-0.571993\t-0.887819\t-0.452873\t-0.0807381\t-0.0775032\t0.30027\t-0.305107\t-0.0404682\t0.0589104\t0.333149\t-0.350672\t-0.135216\t-0.0706596\t-0.069109\t-0.196541\t-0.163963\t-0.280729\t0.0762711\t0.10973\t0.0115318\t-0.207542\t-0.174271\t-0.196386\t-0.555538\t-0.0933247\t0.327665\t0.0281258\t-0.186222\t-0.285246\t-0.407396\t-0.152527\t-0.176802\t-0.2798\t-0.274916\t-0.0935287\t0.0602684\t0.549341\t-0.0555611\t-0.189207\t0.0441017\t-0.093956\t-0.554729\t0.0136013\t-0.149467\t-0.0804443\t0.550245\t-0.0158081\t0.736076\t0.677008\t0.389277\t-0.31654\t0.156036\t-0.256536\t-0.40473\t-0.361237\t0.068531\t0.112782\t0.0770187\t-0.0856724\t-0.0252151\t-0.157326\t0.343794\t0.16946\t0.566359\t0.158302\t-0.0283966\t-0.146076\t-0.280134\t-0.423025\t-0.559111\t0.0882568\t-0.391989\t-0.909992\t-0.195238\t0.30246\t-0.122995\t-0.682343\t-0.125063\t-0.262527\t-0.299801\t-0.0481873\t-0.286207\t0.0886135\t0.56156\t0.222342\t0.277987\t0.28446\t0.136358\t0.45282\t0.384937\t0.486183\t0.205866\t0.326653\t-0.0604\t-0.0496006\t0.0983334\t-0.156658\t-0.118141\t-0.436541\t-0.133318\t0.287981\t0.234604\t0.447796\t0.107533\t0.197943\t0.516697\t0.20647\t0.0105915\t0.00534058\t0.275406\t0.072794\t0.025713\t0.182175\t0.029604\t-0.372528\t-0.0414677\t-0.0204449\t-0.32427\t-0.0674591\t0.231882\t0.0783405\t0.147665\t0.26746\t0.593134\t0.0979805\t-0.0200634\t0.122957\t0.0238647\t0.0524578\t0.553148\t0.775042\t0.828333\t0.549007\t0.20089\t0.10446\t-0.258158\t-0.120407\t0.00660324\t-0.149302\t0.0631981\t0.0924587\t0.297987\t0.236607\t-0.121666\t-0.0686588\t0.407665\t0.0374603\t-0.12719\t-0.299438\t0.0829372\t0.115215\t0.224531\t0.0411682\t0.356052\t0.203257\t-0.192312\t0.245342\t-0.238142\t-0.0792065\t0.388294\t0.376045\t0.618603\t0.552633\t0.211533\t0.589231\t0.643148\t0.433969\t0.877043\t0.663342\t0.516697\t0.556793\t0.240231\t0.638948\t0.11627\t0.250698\t0.221199\t0.0721359\t0.34573\t0.697184\t0.18672\t0.550674\t0.366375\t0.0981274\t-0.378803\t-0.412342\t-0.0603962\t-0.0215588\t0.184198\t0.260845\t-0.00588417\t-0.385807\t0.154785\t0.15134\t0.153471\t0.407459\t0.739262\t0.853786\t0.967604\t0.98844\t0.520199\t0.860201\t0.820568\t0.987185\t0.705753\t0.246675\t0.427664\t0.297461\t0.511843\t0.95669\t0.860603\t0.725536\t0.670532\t0.490522\t0.6696\t0.788971\t0.465431\t0.530008\t0.225407\t0.63446\t0.235714\t0.150238\t-0.00372887\t0.309086\t-0.0121346\t0.383102\t0.181213\t0.13147\t-0.10457\t-0.00799179\t0.393793\t0.136459\t0.452166\t0.340883\t0.140938\t0.389408\t0.206532\t-0.113026\t0.417341\t0.587986\t0.578978\t0.706675\t0.588955\t0.855459\t1.14571\t1.05024\t1.0406\t1.10199\t0.687199\t0.599554\t0.530245\t0.385042\t0.47543\t0.714674\t0.152182\t0.191793\t0.200874\t0.653463\t0.563936\t0.917473\t0.524864\t0.656975\t0.462503\t0.276827\t0.370592\t0.385008\t0.125406\t0.378794\t0.209585\t0.502497\t0.500937\t0.552311\t0.749533\t0.599876\t0.830891\t0.466112\t0.820591\t0.621008\t0.42218\t0.56246\t0.517649\t0.127657\t0.43627\t0.121344\t0.299198\t0.523104\t0.705406\n",
            "151.875\t4.875\t0.168716\t0.00391197\t-0.16748\t-0.103699\t0.517288\t0.290581\t-0.504753\t-1.10098\t-1.091\t-0.95752\t0.136738\t-1.05674\t-1.05096\t-1.1143\t-1.12942\t-0.655365\t-0.551098\t-0.314421\t-0.93927\t-0.285814\t0.195667\t-0.0739708\t-0.657263\t0.111006\t0.266459\t0.253937\t-0.470707\t-0.592365\t-0.227228\t-0.795753\t0.115568\t-0.148394\t-0.00166702\t-0.493649\t-0.423595\t-0.164156\t-0.0696697\t-0.595375\t-0.595867\t-0.224699\t-0.224646\t0.0695801\t-0.188303\t-0.122911\t-0.0559998\t-0.548487\t-0.340261\t-0.448994\t-0.556122\t-0.359659\t-0.572641\t-0.0826988\t-0.316259\t-0.399754\t-0.416689\t-0.450975\t-1.03533\t-0.558809\t-0.574596\t-0.112219\t-0.9858\t-0.790016\t-0.24748\t-0.102699\t-0.0178719\t-0.268419\t-0.725399\t-0.851297\t-0.333\t-0.748165\t0.242071\t-0.510607\t-0.18096\t-0.353994\t0.113165\t-0.0886993\t-0.582388\t0.0325794\t0.0475044\t0.635155\t0.219667\t0.274738\t-0.212929\t-0.149961\t-0.0987015\t0.169268\t0.488972\t0.179634\t-0.329807\t-0.15542\t0.0200844\t0.282896\t0.803999\t0.247643\t-0.523596\t-0.108349\t-0.43354\t-0.14966\t-0.0745773\t0.2943\t0.257935\t0.21158\t-0.359592\t-0.193878\t-0.669001\t-0.584616\t-0.404594\t-0.531574\t-0.848701\t-0.546803\t-0.603287\t0.191633\t0.205999\t-0.0537529\t-0.249914\t-0.234846\t-0.859333\t-0.816229\t-0.455595\t-0.741898\t-0.642574\t-0.932272\t-0.796513\t-0.677032\t-0.0807762\t-0.215086\t-0.552818\t-0.6642\t-0.174667\t-0.29752\t-0.848595\t-0.785122\t-0.626122\t-0.526089\t-0.665867\t-0.544699\t-0.349163\t-0.619087\t-0.240561\t-0.635168\t-0.878666\t-0.740099\t-0.173595\t-0.28351\t-0.664831\t-0.562517\t-0.297157\t-0.0690327\t-0.214323\t-0.130753\t-0.584431\t-0.542587\t-0.823\t-0.441067\t-0.394262\t-0.541897\t-0.546444\t-0.322161\t-0.109093\t-0.7367\t-0.219162\t0.241579\t0.231697\t0.690315\t0.556999\t0.393126\t0.550737\t0.388748\t0.2742\t0.0446262\t-0.0158672\t-0.346699\t-0.327549\t0.0282459\t0.151375\t0.1458\t0.0793324\t0.432804\t-0.0942631\t0.241652\t-0.0638638\t0.0785542\t-0.0136089\t-0.220699\t-0.480453\t-0.500086\t-0.207012\t-1.14355\t-1.21567\t-0.589777\t-0.0645962\t0.164877\t-0.533863\t-0.423231\t-0.664577\t-0.554365\t-0.502388\t-0.317421\t0.216536\t0.497412\t0.662666\t0.323126\t0.0594044\t-0.0783482\t0.25775\t0.567841\t0.185745\t-0.491034\t-0.465937\t-0.662086\t-0.399593\t-0.0661354\t-0.0443344\t-0.172358\t0.112404\t0.0658455\t0.182911\t0.322901\t-0.0194168\t-0.577032\t-0.845936\t-0.43342\t-0.0312061\t-0.11162\t0.296667\t-0.279131\t-0.0272617\t0.0826187\t0.377104\t-0.341446\t-0.162319\t-0.113699\t-0.147551\t-0.14142\t-0.13056\t-0.2642\t0.0130005\t0.180223\t0.0154057\t-0.204155\t-0.169348\t-0.161089\t-0.534901\t-0.136366\t0.369225\t-0.0317535\t-0.227013\t-0.284201\t-0.411667\t-0.125906\t-0.0929279\t-0.316092\t-0.2258\t-0.162874\t-0.0503845\t0.510967\t-0.103355\t-0.146088\t0.0384712\t-0.0242004\t-0.525667\t-0.0259056\t-0.168596\t-0.0638332\t0.562265\t-0.0288219\t0.744133\t0.730968\t0.157612\t-0.378754\t0.18944\t-0.26775\t-0.460001\t-0.463648\t0.00473785\t0.0561676\t-0.0077343\t-0.0618038\t-0.117159\t-0.0880318\t0.345676\t0.136246\t0.495892\t0.238703\t0.0136662\t-0.144939\t-0.282595\t-0.458027\t-0.521606\t0.0871258\t-0.442965\t-0.926365\t-0.251743\t0.309914\t-0.109915\t-0.706137\t-0.118334\t-0.275261\t-0.314262\t-0.0841541\t-0.308058\t0.146412\t0.597359\t0.147968\t0.30987\t0.269913\t0.110085\t0.474508\t0.395\t0.513771\t0.236738\t0.278103\t-0.0125732\t0.0449696\t0.107681\t-0.206366\t-0.136904\t-0.439087\t-0.130882\t0.251606\t0.188\t0.41474\t0.0714054\t0.169071\t0.489363\t0.261412\t0.0225182\t0.0306339\t0.301161\t0.0339127\t0.00718117\t0.200315\t0.0179996\t-0.371714\t-0.0342617\t0.00713539\t-0.289671\t-0.0318031\t0.217358\t0.087635\t0.168579\t0.273914\t0.525246\t0.0683804\t-0.0130005\t0.0386105\t0.0197372\t0.104877\t0.540653\t0.822483\t0.829294\t0.527967\t0.156967\t0.124247\t-0.229593\t-0.124201\t0.0160007\t-0.157518\t0.0840721\t0.0655212\t0.364201\t0.225315\t-0.098772\t0.0036335\t0.414709\t0.00924683\t-0.119593\t-0.336458\t0.106667\t0.104416\t0.213404\t0.0803604\t0.364845\t0.168911\t-0.266514\t0.207634\t-0.227551\t-0.131754\t0.412342\t0.341606\t0.559\t0.546675\t0.197739\t0.530361\t0.675169\t0.381411\t0.894455\t0.666634\t0.505032\t0.557247\t0.263634\t0.625799\t0.105333\t0.24474\t0.253738\t0.141006\t0.365814\t0.639626\t0.23768\t0.616301\t0.339546\t0.108913\t-0.39669\t-0.444201\t-0.0733337\t0.027319\t0.21207\t0.242941\t0.00549126\t-0.397099\t0.147358\t0.122301\t0.14632\t0.405247\t0.684278\t0.846121\t0.947001\t0.963125\t0.579405\t0.818102\t0.872265\t0.999626\t0.757034\t0.264633\t0.441483\t0.308914\t0.489761\t0.934509\t0.885334\t0.767319\t0.698738\t0.402296\t0.643557\t0.761768\t0.562841\t0.545633\t0.24374\t0.637247\t0.281698\t0.105476\t0.0353336\t0.331512\t-0.0222626\t0.421005\t0.227749\t0.179268\t-0.0429649\t0.0139675\t0.356966\t0.112247\t0.435246\t0.358057\t0.122334\t0.379255\t0.184071\t-0.119638\t0.372265\t0.625315\t0.556068\t0.740635\t0.627289\t0.834579\t1.1346\t1.00741\t1.017\t1.12087\t0.666405\t0.589716\t0.505814\t0.389269\t0.469938\t0.665968\t0.162128\t0.214247\t0.188473\t0.648703\t0.595333\t0.896675\t0.526405\t0.671005\t0.461298\t0.279625\t0.413164\t0.369968\t0.142773\t0.384581\t0.178473\t0.517735\t0.514\t0.55603\t0.743071\t0.608747\t0.859039\t0.407482\t0.814777\t0.619301\t0.431805\t0.539579\t0.526215\t0.133219\t0.437666\t0.109577\t0.301405\t0.518103\t0.703556\n",
            "152.125\t4.875\t0.141867\t-0.1639\t-0.0694714\t-0.131556\t0.495001\t0.329508\t-0.53583\t-1.13284\t-1.16532\t-0.884907\t0.165785\t-1.05668\t-1.02394\t-1.13962\t-1.1056\t-0.714222\t-0.511127\t-0.267492\t-0.812283\t-0.278326\t0.246683\t-0.0120049\t-0.568548\t0.155577\t0.187027\t0.241739\t-0.464632\t-0.535889\t-0.248871\t-0.805492\t0.137396\t-0.168003\t0.111683\t-0.455553\t-0.466881\t-0.131519\t-0.108778\t-0.632114\t-0.640438\t-0.330555\t-0.234032\t0.0181751\t-0.145185\t-0.111551\t0.0540161\t-0.461359\t-0.369547\t-0.30023\t-0.557165\t-0.418186\t-0.601084\t-0.0198898\t-0.313063\t-0.406492\t-0.438412\t-0.36381\t-1.07865\t-0.546843\t-0.691214\t-0.126036\t-1.08942\t-0.771044\t-0.176567\t-0.0898895\t-0.0324192\t-0.239159\t-0.654217\t-0.844778\t-0.305317\t-0.724907\t0.263786\t-0.478617\t-0.16523\t-0.291708\t0.106981\t-0.117222\t-0.584032\t0.00517464\t-0.094862\t0.5749\t0.204018\t0.244125\t-0.189548\t-0.193455\t-0.209423\t0.200743\t0.544724\t0.241444\t-0.348869\t-0.158491\t0.0893307\t0.246836\t0.78335\t0.296061\t-0.512215\t-0.162487\t-0.380714\t-0.204615\t-0.0872116\t0.276777\t0.185968\t0.232176\t-0.470024\t-0.188648\t-0.656982\t-0.512005\t-0.261215\t-0.42281\t-0.799746\t-0.525686\t-0.571728\t0.219778\t0.17984\t-0.0784912\t-0.37454\t-0.241552\t-0.805317\t-0.81781\t-0.417881\t-0.720552\t-0.599424\t-0.919294\t-0.826244\t-0.67289\t-0.0208054\t-0.245491\t-0.518412\t-0.600584\t-0.180649\t-0.294584\t-0.766214\t-0.854746\t-0.606844\t-0.485687\t-0.608503\t-0.498556\t-0.364353\t-0.552158\t-0.295185\t-0.530907\t-0.89365\t-0.760391\t-0.209881\t-0.28023\t-0.715231\t-0.530329\t-0.386568\t-0.0455551\t-0.273708\t-0.114492\t-0.509378\t-0.51252\t-0.80965\t-0.462004\t-0.416214\t-0.458294\t-0.587488\t-0.283901\t-0.0894699\t-0.681889\t-0.151451\t0.255842\t0.258364\t0.661352\t0.486351\t0.35606\t0.596786\t0.360092\t0.319931\t0.0589809\t0.0660133\t-0.368889\t-0.341774\t0.0551758\t0.149654\t0.162642\t0.0156841\t0.42606\t-0.117882\t0.212673\t-0.0455532\t0.0218124\t-0.0355988\t-0.176889\t-0.396612\t-0.418825\t-0.126799\t-1.08607\t-1.29365\t-0.731359\t-0.143547\t0.0949326\t-0.573618\t-0.423544\t-0.642374\t-0.545555\t-0.492096\t-0.343824\t0.248363\t0.498772\t0.625351\t0.312511\t-0.0112152\t-0.0463581\t0.254446\t0.565027\t0.166658\t-0.510555\t-0.513708\t-0.707491\t-0.381313\t-0.0970364\t0.0543499\t-0.18523\t0.0724525\t0.161383\t0.155415\t0.351049\t-0.0555992\t-0.597889\t-0.792418\t-0.476826\t0.0170727\t-0.183809\t0.270683\t-0.283295\t0.0397854\t0.0178356\t0.320898\t-0.317472\t-0.214954\t-0.196222\t-0.256613\t-0.0748253\t-0.117443\t-0.292843\t-0.0253162\t0.185738\t0.0424519\t-0.228617\t-0.165552\t-0.0960445\t-0.550438\t-0.0718899\t0.367258\t-0.0258255\t-0.250025\t-0.317036\t-0.424984\t-0.116842\t-0.0172138\t-0.349262\t-0.21394\t-0.164972\t-0.0555992\t0.478445\t-0.0530643\t-0.139492\t0.00642776\t0.0436096\t-0.42565\t-0.00232697\t-0.199547\t-0.0224876\t0.566059\t-0.0589504\t0.727949\t0.737778\t0.0569363\t-0.382824\t0.216751\t-0.221552\t-0.461649\t-0.523617\t-0.0545483\t-0.0418434\t-0.0623264\t-0.033186\t-0.233019\t-0.00222206\t0.317904\t0.0751743\t0.522556\t0.222319\t0.0120163\t-0.20652\t-0.295214\t-0.456036\t-0.541359\t0.135386\t-0.453987\t-0.907557\t-0.302095\t0.256842\t-0.089056\t-0.721874\t-0.17765\t-0.320713\t-0.29788\t-0.103779\t-0.287167\t0.219671\t0.549885\t0.084444\t0.335001\t0.273842\t0.113523\t0.417158\t0.428017\t0.561867\t0.248453\t0.139771\t0.0976734\t0.113808\t0.0663357\t-0.232555\t-0.136934\t-0.423159\t-0.116798\t0.220385\t0.17535\t0.367674\t0.0481186\t0.148157\t0.462833\t0.286814\t0.0350456\t0.0537777\t0.310806\t0.049509\t0.00416946\t0.224899\t0.00501633\t-0.327166\t-0.0592136\t0.049448\t-0.226843\t-0.00961494\t0.216335\t0.0904446\t0.157259\t0.262842\t0.433847\t0.0936089\t-0.0216503\t-0.0491009\t0.00378609\t0.12719\t0.551544\t0.871099\t0.832787\t0.517778\t0.167259\t0.0768414\t-0.202282\t-0.198004\t0.00701714\t-0.131681\t0.0514526\t0.0278339\t0.432835\t0.16967\t-0.0914059\t0.0511112\t0.410162\t-0.0308247\t-0.0632496\t-0.272842\t0.101351\t0.119932\t0.158453\t0.108158\t0.359608\t0.123957\t-0.221729\t0.103111\t-0.216612\t-0.133825\t0.383524\t0.370062\t0.554016\t0.534447\t0.178785\t0.48719\t0.719608\t0.370743\t0.877304\t0.65411\t0.517582\t0.546843\t0.257395\t0.593933\t0.138683\t0.242189\t0.241119\t0.277189\t0.428318\t0.580027\t0.241497\t0.617445\t0.399517\t0.0971756\t-0.411314\t-0.451551\t-0.09865\t0.0479965\t0.239119\t0.204609\t-0.00297165\t-0.401709\t0.122465\t0.120111\t0.130161\t0.388842\t0.617395\t0.851997\t0.92235\t0.971544\t0.690786\t0.753319\t0.883158\t0.95717\t0.778917\t0.331444\t0.447905\t0.323841\t0.454815\t0.916191\t0.907351\t0.751221\t0.727785\t0.3559\t0.611866\t0.740385\t0.657949\t0.577444\t0.319517\t0.641842\t0.310299\t0.0890942\t0.0476837\t0.36219\t-0.0148811\t0.486866\t0.319609\t0.202171\t-0.0278587\t0.049778\t0.315001\t0.111176\t0.433525\t0.351997\t0.119017\t0.370577\t0.153118\t-0.110552\t0.33864\t0.646912\t0.527626\t0.71311\t0.659517\t0.847509\t1.10998\t0.966513\t0.974684\t1.13574\t0.62212\t0.590094\t0.463156\t0.404314\t0.443432\t0.584444\t0.172743\t0.238842\t0.168364\t0.650707\t0.61035\t0.884769\t0.513119\t0.676222\t0.474447\t0.257172\t0.425367\t0.355444\t0.162743\t0.389841\t0.140299\t0.520061\t0.52935\t0.540899\t0.735786\t0.608803\t0.873802\t0.352884\t0.822788\t0.590111\t0.476614\t0.548508\t0.533524\t0.139093\t0.44035\t0.0986404\t0.287453\t0.501383\t0.684446\n"
          ]
        }
      ]
    },
    {
      "cell_type": "markdown",
      "source": [
        "### Step 3.3: IMG to CSV"
      ],
      "metadata": {
        "id": "2tMAOpMHXVv-"
      }
    },
    {
      "cell_type": "markdown",
      "source": [
        "#### Step 3.3.1: Download the Files"
      ],
      "metadata": {
        "id": "RvZBWNAxXiZU"
      }
    },
    {
      "cell_type": "code",
      "source": [
        "!wget https://www.dropbox.com/scl/fi/yvf6dy2nca5jv9vsxw2un/avgCube.img?rlkey=ef5ry43rauwze60rn579hm75m&st=1rdxa3l2&dl=1"
      ],
      "metadata": {
        "id": "NGdPQBaEjwtS",
        "colab": {
          "base_uri": "https://localhost:8080/"
        },
        "outputId": "e84023ec-d441-4ba2-89ff-14362f76edea"
      },
      "execution_count": null,
      "outputs": [
        {
          "output_type": "stream",
          "name": "stdout",
          "text": [
            "--2025-06-13 08:45:19--  https://www.dropbox.com/scl/fi/yvf6dy2nca5jv9vsxw2un/avgCube.img?rlkey=ef5ry43rauwze60rn579hm75m\n",
            "Resolving www.dropbox.com (www.dropbox.com)... 162.125.5.18, 2620:100:601d:18::a27d:512\n",
            "Connecting to www.dropbox.com (www.dropbox.com)|162.125.5.18|:443... connected.\n",
            "HTTP request sent, awaiting response... 302 Found\n",
            "Location: https://uc7b92e8f32bfd0ad192f6d4026b.dl.dropboxusercontent.com/cd/0/inline/CriA7PwHmC2uWMl4yGwFof6cWtlPrKvgOsLrvqXZ9pec1ElUT28yjwQyQRfRXOrm5kzn6DdA6RRqGQKQgSMUMJ4QvcWwCVsWCNlwymRGBrPHrm2jGJONQaOq9XAGxkeNhcQhXK3w6xnq0_X7qOy9YrjV/file# [following]\n",
            "--2025-06-13 08:45:19--  https://uc7b92e8f32bfd0ad192f6d4026b.dl.dropboxusercontent.com/cd/0/inline/CriA7PwHmC2uWMl4yGwFof6cWtlPrKvgOsLrvqXZ9pec1ElUT28yjwQyQRfRXOrm5kzn6DdA6RRqGQKQgSMUMJ4QvcWwCVsWCNlwymRGBrPHrm2jGJONQaOq9XAGxkeNhcQhXK3w6xnq0_X7qOy9YrjV/file\n",
            "Resolving uc7b92e8f32bfd0ad192f6d4026b.dl.dropboxusercontent.com (uc7b92e8f32bfd0ad192f6d4026b.dl.dropboxusercontent.com)... 162.125.5.15, 2620:100:601d:15::a27d:50f\n",
            "Connecting to uc7b92e8f32bfd0ad192f6d4026b.dl.dropboxusercontent.com (uc7b92e8f32bfd0ad192f6d4026b.dl.dropboxusercontent.com)|162.125.5.15|:443... connected.\n",
            "HTTP request sent, awaiting response... 302 Found\n",
            "Location: /cd/0/inline2/CrjYsqkIAImLU6m0-8o6ZtuUa7-oNvP6QM31JCt2FCN2_n6ff7cxyk9xY0e8-CYH1B9D9emr3srCYndmHRfdkOS1VL9VETpC7W0UQdKO5FvhG5aIXigNUsIuS7yTsxcXRGwFbvAqTf3_FIv2jqeRsIsw02JlXxDtZqL1Or3ot9p52gqYFn2ZCa7HlKKFeA4yHLIjQww5FqCoVfPOCi99kQ7zga35U9W73vVHMO-RkxoCHHgpYxVnX-kBH92KKexYXRQO7lGiVYLUmV-By7nEzipFv_rV7gCkIFgF5_ZEoVmuQ0K8wnJAeFCaRYDzIfdxwqULLQMeiSs9ZNysoVIsmByRhYQBoP5h7NigJX9iQ-66cmIuolz_9OSanDrHKTpYJ7c/file [following]\n",
            "--2025-06-13 08:45:20--  https://uc7b92e8f32bfd0ad192f6d4026b.dl.dropboxusercontent.com/cd/0/inline2/CrjYsqkIAImLU6m0-8o6ZtuUa7-oNvP6QM31JCt2FCN2_n6ff7cxyk9xY0e8-CYH1B9D9emr3srCYndmHRfdkOS1VL9VETpC7W0UQdKO5FvhG5aIXigNUsIuS7yTsxcXRGwFbvAqTf3_FIv2jqeRsIsw02JlXxDtZqL1Or3ot9p52gqYFn2ZCa7HlKKFeA4yHLIjQww5FqCoVfPOCi99kQ7zga35U9W73vVHMO-RkxoCHHgpYxVnX-kBH92KKexYXRQO7lGiVYLUmV-By7nEzipFv_rV7gCkIFgF5_ZEoVmuQ0K8wnJAeFCaRYDzIfdxwqULLQMeiSs9ZNysoVIsmByRhYQBoP5h7NigJX9iQ-66cmIuolz_9OSanDrHKTpYJ7c/file\n",
            "Reusing existing connection to uc7b92e8f32bfd0ad192f6d4026b.dl.dropboxusercontent.com:443.\n",
            "HTTP request sent, awaiting response... 200 OK\n",
            "Length: 331776000 (316M) [application/octet-stream]\n",
            "Saving to: ‘avgCube.img?rlkey=ef5ry43rauwze60rn579hm75m’\n",
            "\n",
            "avgCube.img?rlkey=e 100%[===================>] 316.41M  55.3MB/s    in 5.7s    \n",
            "\n",
            "2025-06-13 08:45:26 (55.4 MB/s) - ‘avgCube.img?rlkey=ef5ry43rauwze60rn579hm75m’ saved [331776000/331776000]\n",
            "\n"
          ]
        }
      ]
    },
    {
      "cell_type": "code",
      "source": [
        "!wget https://www.dropbox.com/scl/fi/ta05oiggvjf4a7twl6x8e/avgCube.hdr?rlkey=3xy4zxeyz6s5mkhou6vzby4g9&st=a0salx4q&dl=1"
      ],
      "metadata": {
        "colab": {
          "base_uri": "https://localhost:8080/"
        },
        "id": "yfGthmOjdAoQ",
        "outputId": "e70a0792-6bcf-4aeb-9234-27f86e7e57c4"
      },
      "execution_count": null,
      "outputs": [
        {
          "output_type": "stream",
          "name": "stdout",
          "text": [
            "--2025-06-13 08:45:27--  https://www.dropbox.com/scl/fi/ta05oiggvjf4a7twl6x8e/avgCube.hdr?rlkey=3xy4zxeyz6s5mkhou6vzby4g9\n",
            "Resolving www.dropbox.com (www.dropbox.com)... 162.125.5.18, 2620:100:601d:18::a27d:512\n",
            "Connecting to www.dropbox.com (www.dropbox.com)|162.125.5.18|:443... connected.\n",
            "HTTP request sent, awaiting response... 302 Found\n",
            "Location: https://ucf0f71df6bd1be256c8811fc73a.dl.dropboxusercontent.com/cd/0/inline/CrhuZr8V1nwSjqN62AKEZtRQ9NKlsl8pp7aOvXGsR2Y7xDryBg-6pX_JeyDbJCC22ulVZMsHMHRXfyolyGDuHQ1EJveO3LoQgfncwsqa6_Ua6Xb6H7oT_EAxCfZtYwtX9dGVC-yj4PO1M2muXrL9rK5t/file# [following]\n",
            "--2025-06-13 08:45:27--  https://ucf0f71df6bd1be256c8811fc73a.dl.dropboxusercontent.com/cd/0/inline/CrhuZr8V1nwSjqN62AKEZtRQ9NKlsl8pp7aOvXGsR2Y7xDryBg-6pX_JeyDbJCC22ulVZMsHMHRXfyolyGDuHQ1EJveO3LoQgfncwsqa6_Ua6Xb6H7oT_EAxCfZtYwtX9dGVC-yj4PO1M2muXrL9rK5t/file\n",
            "Resolving ucf0f71df6bd1be256c8811fc73a.dl.dropboxusercontent.com (ucf0f71df6bd1be256c8811fc73a.dl.dropboxusercontent.com)... 162.125.5.15, 2620:100:601d:15::a27d:50f\n",
            "Connecting to ucf0f71df6bd1be256c8811fc73a.dl.dropboxusercontent.com (ucf0f71df6bd1be256c8811fc73a.dl.dropboxusercontent.com)|162.125.5.15|:443... connected.\n",
            "HTTP request sent, awaiting response... 200 OK\n",
            "Length: 2737 (2.7K) [text/plain]\n",
            "Saving to: ‘avgCube.hdr?rlkey=3xy4zxeyz6s5mkhou6vzby4g9’\n",
            "\n",
            "avgCube.hdr?rlkey=3 100%[===================>]   2.67K  --.-KB/s    in 0s      \n",
            "\n",
            "2025-06-13 08:45:27 (629 MB/s) - ‘avgCube.hdr?rlkey=3xy4zxeyz6s5mkhou6vzby4g9’ saved [2737/2737]\n",
            "\n"
          ]
        }
      ]
    },
    {
      "cell_type": "markdown",
      "source": [
        "##### Rename the files"
      ],
      "metadata": {
        "id": "lZ9yijEogCaL"
      }
    },
    {
      "cell_type": "code",
      "source": [
        "!mv avgCube.img?rlkey=ef5ry43rauwze60rn579hm75m avgCube.img"
      ],
      "metadata": {
        "id": "_LjeU9wTc0tW"
      },
      "execution_count": null,
      "outputs": []
    },
    {
      "cell_type": "code",
      "source": [
        "!mv avgCube.hdr?rlkey=3xy4zxeyz6s5mkhou6vzby4g9 avgCube.hdr"
      ],
      "metadata": {
        "id": "EUFxKtqJdFTs"
      },
      "execution_count": null,
      "outputs": []
    },
    {
      "cell_type": "markdown",
      "source": [
        "#### Step 3.3.2: Converting the Raster File into a CSV file"
      ],
      "metadata": {
        "id": "lv8An7jtgRr9"
      }
    },
    {
      "cell_type": "code",
      "source": [
        "convertimg = Raster2CSV.Raster2CSV(inputFile=\"avgCube.img\", outputFile=\"avgCube.csv\", startBand=1,endBand=160)\n",
        "convertimg.run()"
      ],
      "metadata": {
        "colab": {
          "base_uri": "https://localhost:8080/"
        },
        "id": "8PjXtx68c3qL",
        "outputId": "be381979-a020-4505-9f11-0e7c19b5e0f7"
      },
      "execution_count": null,
      "outputs": [
        {
          "output_type": "stream",
          "name": "stdout",
          "text": [
            "Processing: avgCube.img\n",
            "Done. Output saved to: avgCube.csv\n"
          ]
        }
      ]
    },
    {
      "cell_type": "markdown",
      "source": [
        "#### Step 3.3.3: Printing the Portion of converted CSV File"
      ],
      "metadata": {
        "id": "IFScybYziFKn"
      }
    },
    {
      "cell_type": "code",
      "source": [
        "!head avgCube.csv"
      ],
      "metadata": {
        "colab": {
          "base_uri": "https://localhost:8080/"
        },
        "id": "WV8fwhaydABc",
        "outputId": "d8136964-06cb-44d7-fb27-5b163b4d38da"
      },
      "execution_count": null,
      "outputs": [
        {
          "output_type": "stream",
          "name": "stdout",
          "text": [
            "x\ty\t1\t2\t3\t4\t5\t6\t7\t8\t9\t10\t11\t12\t13\t14\t15\t16\t17\t18\t19\t20\t21\t22\t23\t24\t25\t26\t27\t28\t29\t30\t31\t32\t33\t34\t35\t36\t37\t38\t39\t40\t41\t42\t43\t44\t45\t46\t47\t48\t49\t50\t51\t52\t53\t54\t55\t56\t57\t58\t59\t60\t61\t62\t63\t64\t65\t66\t67\t68\t69\t70\t71\t72\t73\t74\t75\t76\t77\t78\t79\t80\t81\t82\t83\t84\t85\t86\t87\t88\t89\t90\t91\t92\t93\t94\t95\t96\t97\t98\t99\t100\t101\t102\t103\t104\t105\t106\t107\t108\t109\t110\t111\t112\t113\t114\t115\t116\t117\t118\t119\t120\t121\t122\t123\t124\t125\t126\t127\t128\t129\t130\t131\t132\t133\t134\t135\t136\t137\t138\t139\t140\t141\t142\t143\t144\t145\t146\t147\t148\t149\t150\t151\t152\t153\t154\t155\t156\t157\t158\t159\t160\n",
            "0.25\t89.75\t0.0\t0.0\t0.0\t0.0\t0.0\t0.0\t0.0\t0.0\t0.0\t0.0\t0.0\t0.0\t0.0\t0.0\t0.0\t0.0\t0.0\t0.0\t0.0\t0.0\t0.0\t0.0\t0.0\t0.0\t0.0\t0.0\t0.0\t0.0\t0.0\t0.0\t0.0\t0.0\t0.0\t0.0\t0.0\t0.0\t0.0\t0.0\t0.0\t0.0\t0.0\t0.0\t0.0\t0.0\t0.0\t0.0\t0.0\t0.0\t0.0\t0.0\t0.0\t0.0\t0.0\t0.0\t0.0\t0.0\t0.0\t0.0\t0.0\t0.0\t0.0\t0.0\t0.0\t0.0\t0.0\t0.0\t0.0\t0.0\t0.0\t0.0\t0.0\t0.0\t0.0\t0.0\t0.0\t0.0\t0.0\t0.0\t0.0\t0.0\t0.0\t0.0\t0.0\t0.0\t0.0\t0.0\t0.0\t0.0\t0.0\t0.0\t0.0\t0.0\t0.0\t0.0\t0.0\t0.0\t0.0\t0.0\t0.0\t0.0\t0.0\t0.0\t0.0\t0.0\t0.0\t0.0\t0.0\t0.0\t0.0\t0.0\t0.0\t0.0\t0.0\t0.0\t0.0\t0.0\t0.0\t0.0\t0.0\t0.0\t0.0\t0.0\t0.0\t0.0\t0.0\t0.0\t0.0\t0.0\t0.0\t0.0\t0.0\t0.0\t0.0\t0.0\t0.0\t0.0\t0.0\t0.0\t0.0\t0.0\t0.0\t0.0\t0.0\t0.0\t0.0\t0.0\t0.0\t0.0\t0.0\t0.0\t0.0\t0.0\t0.0\t0.0\t0.0\t0.0\t0.0\t0.0\t0.0\t0.0\n",
            "0.75\t89.75\t0.0\t0.0\t0.0\t0.0\t0.0\t0.0\t0.0\t0.0\t0.0\t0.0\t0.0\t0.0\t0.0\t0.0\t0.0\t0.0\t0.0\t0.0\t0.0\t0.0\t0.0\t0.0\t0.0\t0.0\t0.0\t0.0\t0.0\t0.0\t0.0\t0.0\t0.0\t0.0\t0.0\t0.0\t0.0\t0.0\t0.0\t0.0\t0.0\t0.0\t0.0\t0.0\t0.0\t0.0\t0.0\t0.0\t0.0\t0.0\t0.0\t0.0\t0.0\t0.0\t0.0\t0.0\t0.0\t0.0\t0.0\t0.0\t0.0\t0.0\t0.0\t0.0\t0.0\t0.0\t0.0\t0.0\t0.0\t0.0\t0.0\t0.0\t0.0\t0.0\t0.0\t0.0\t0.0\t0.0\t0.0\t0.0\t0.0\t0.0\t0.0\t0.0\t0.0\t0.0\t0.0\t0.0\t0.0\t0.0\t0.0\t0.0\t0.0\t0.0\t0.0\t0.0\t0.0\t0.0\t0.0\t0.0\t0.0\t0.0\t0.0\t0.0\t0.0\t0.0\t0.0\t0.0\t0.0\t0.0\t0.0\t0.0\t0.0\t0.0\t0.0\t0.0\t0.0\t0.0\t0.0\t0.0\t0.0\t0.0\t0.0\t0.0\t0.0\t0.0\t0.0\t0.0\t0.0\t0.0\t0.0\t0.0\t0.0\t0.0\t0.0\t0.0\t0.0\t0.0\t0.0\t0.0\t0.0\t0.0\t0.0\t0.0\t0.0\t0.0\t0.0\t0.0\t0.0\t0.0\t0.0\t0.0\t0.0\t0.0\t0.0\t0.0\t0.0\t0.0\t0.0\t0.0\t0.0\t0.0\n",
            "1.25\t89.75\t0.0\t0.0\t0.0\t0.0\t0.0\t0.0\t0.0\t0.0\t0.0\t0.0\t0.0\t0.0\t0.0\t0.0\t0.0\t0.0\t0.0\t0.0\t0.0\t0.0\t0.0\t0.0\t0.0\t0.0\t0.0\t0.0\t0.0\t0.0\t0.0\t0.0\t0.0\t0.0\t0.0\t0.0\t0.0\t0.0\t0.0\t0.0\t0.0\t0.0\t0.0\t0.0\t0.0\t0.0\t0.0\t0.0\t0.0\t0.0\t0.0\t0.0\t0.0\t0.0\t0.0\t0.0\t0.0\t0.0\t0.0\t0.0\t0.0\t0.0\t0.0\t0.0\t0.0\t0.0\t0.0\t0.0\t0.0\t0.0\t0.0\t0.0\t0.0\t0.0\t0.0\t0.0\t0.0\t0.0\t0.0\t0.0\t0.0\t0.0\t0.0\t0.0\t0.0\t0.0\t0.0\t0.0\t0.0\t0.0\t0.0\t0.0\t0.0\t0.0\t0.0\t0.0\t0.0\t0.0\t0.0\t0.0\t0.0\t0.0\t0.0\t0.0\t0.0\t0.0\t0.0\t0.0\t0.0\t0.0\t0.0\t0.0\t0.0\t0.0\t0.0\t0.0\t0.0\t0.0\t0.0\t0.0\t0.0\t0.0\t0.0\t0.0\t0.0\t0.0\t0.0\t0.0\t0.0\t0.0\t0.0\t0.0\t0.0\t0.0\t0.0\t0.0\t0.0\t0.0\t0.0\t0.0\t0.0\t0.0\t0.0\t0.0\t0.0\t0.0\t0.0\t0.0\t0.0\t0.0\t0.0\t0.0\t0.0\t0.0\t0.0\t0.0\t0.0\t0.0\t0.0\t0.0\t0.0\t0.0\n",
            "1.75\t89.75\t0.0\t0.0\t0.0\t0.0\t0.0\t0.0\t0.0\t0.0\t0.0\t0.0\t0.0\t0.0\t0.0\t0.0\t0.0\t0.0\t0.0\t0.0\t0.0\t0.0\t0.0\t0.0\t0.0\t0.0\t0.0\t0.0\t0.0\t0.0\t0.0\t0.0\t0.0\t0.0\t0.0\t0.0\t0.0\t0.0\t0.0\t0.0\t0.0\t0.0\t0.0\t0.0\t0.0\t0.0\t0.0\t0.0\t0.0\t0.0\t0.0\t0.0\t0.0\t0.0\t0.0\t0.0\t0.0\t0.0\t0.0\t0.0\t0.0\t0.0\t0.0\t0.0\t0.0\t0.0\t0.0\t0.0\t0.0\t0.0\t0.0\t0.0\t0.0\t0.0\t0.0\t0.0\t0.0\t0.0\t0.0\t0.0\t0.0\t0.0\t0.0\t0.0\t0.0\t0.0\t0.0\t0.0\t0.0\t0.0\t0.0\t0.0\t0.0\t0.0\t0.0\t0.0\t0.0\t0.0\t0.0\t0.0\t0.0\t0.0\t0.0\t0.0\t0.0\t0.0\t0.0\t0.0\t0.0\t0.0\t0.0\t0.0\t0.0\t0.0\t0.0\t0.0\t0.0\t0.0\t0.0\t0.0\t0.0\t0.0\t0.0\t0.0\t0.0\t0.0\t0.0\t0.0\t0.0\t0.0\t0.0\t0.0\t0.0\t0.0\t0.0\t0.0\t0.0\t0.0\t0.0\t0.0\t0.0\t0.0\t0.0\t0.0\t0.0\t0.0\t0.0\t0.0\t0.0\t0.0\t0.0\t0.0\t0.0\t0.0\t0.0\t0.0\t0.0\t0.0\t0.0\t0.0\t0.0\t0.0\n",
            "2.25\t89.75\t0.0\t0.0\t0.0\t0.0\t0.0\t0.0\t0.0\t0.0\t0.0\t0.0\t0.0\t0.0\t0.0\t0.0\t0.0\t0.0\t0.0\t0.0\t0.0\t0.0\t0.0\t0.0\t0.0\t0.0\t0.0\t0.0\t0.0\t0.0\t0.0\t0.0\t0.0\t0.0\t0.0\t0.0\t0.0\t0.0\t0.0\t0.0\t0.0\t0.0\t0.0\t0.0\t0.0\t0.0\t0.0\t0.0\t0.0\t0.0\t0.0\t0.0\t0.0\t0.0\t0.0\t0.0\t0.0\t0.0\t0.0\t0.0\t0.0\t0.0\t0.0\t0.0\t0.0\t0.0\t0.0\t0.0\t0.0\t0.0\t0.0\t0.0\t0.0\t0.0\t0.0\t0.0\t0.0\t0.0\t0.0\t0.0\t0.0\t0.0\t0.0\t0.0\t0.0\t0.0\t0.0\t0.0\t0.0\t0.0\t0.0\t0.0\t0.0\t0.0\t0.0\t0.0\t0.0\t0.0\t0.0\t0.0\t0.0\t0.0\t0.0\t0.0\t0.0\t0.0\t0.0\t0.0\t0.0\t0.0\t0.0\t0.0\t0.0\t0.0\t0.0\t0.0\t0.0\t0.0\t0.0\t0.0\t0.0\t0.0\t0.0\t0.0\t0.0\t0.0\t0.0\t0.0\t0.0\t0.0\t0.0\t0.0\t0.0\t0.0\t0.0\t0.0\t0.0\t0.0\t0.0\t0.0\t0.0\t0.0\t0.0\t0.0\t0.0\t0.0\t0.0\t0.0\t0.0\t0.0\t0.0\t0.0\t0.0\t0.0\t0.0\t0.0\t0.0\t0.0\t0.0\t0.0\t0.0\t0.0\n",
            "2.75\t89.75\t0.0\t0.0\t0.0\t0.0\t0.0\t0.0\t0.0\t0.0\t0.0\t0.0\t0.0\t0.0\t0.0\t0.0\t0.0\t0.0\t0.0\t0.0\t0.0\t0.0\t0.0\t0.0\t0.0\t0.0\t0.0\t0.0\t0.0\t0.0\t0.0\t0.0\t0.0\t0.0\t0.0\t0.0\t0.0\t0.0\t0.0\t0.0\t0.0\t0.0\t0.0\t0.0\t0.0\t0.0\t0.0\t0.0\t0.0\t0.0\t0.0\t0.0\t0.0\t0.0\t0.0\t0.0\t0.0\t0.0\t0.0\t0.0\t0.0\t0.0\t0.0\t0.0\t0.0\t0.0\t0.0\t0.0\t0.0\t0.0\t0.0\t0.0\t0.0\t0.0\t0.0\t0.0\t0.0\t0.0\t0.0\t0.0\t0.0\t0.0\t0.0\t0.0\t0.0\t0.0\t0.0\t0.0\t0.0\t0.0\t0.0\t0.0\t0.0\t0.0\t0.0\t0.0\t0.0\t0.0\t0.0\t0.0\t0.0\t0.0\t0.0\t0.0\t0.0\t0.0\t0.0\t0.0\t0.0\t0.0\t0.0\t0.0\t0.0\t0.0\t0.0\t0.0\t0.0\t0.0\t0.0\t0.0\t0.0\t0.0\t0.0\t0.0\t0.0\t0.0\t0.0\t0.0\t0.0\t0.0\t0.0\t0.0\t0.0\t0.0\t0.0\t0.0\t0.0\t0.0\t0.0\t0.0\t0.0\t0.0\t0.0\t0.0\t0.0\t0.0\t0.0\t0.0\t0.0\t0.0\t0.0\t0.0\t0.0\t0.0\t0.0\t0.0\t0.0\t0.0\t0.0\t0.0\t0.0\t0.0\n",
            "3.25\t89.75\t0.0\t0.0\t0.0\t0.0\t0.0\t0.0\t0.0\t0.0\t0.0\t0.0\t0.0\t0.0\t0.0\t0.0\t0.0\t0.0\t0.0\t0.0\t0.0\t0.0\t0.0\t0.0\t0.0\t0.0\t0.0\t0.0\t0.0\t0.0\t0.0\t0.0\t0.0\t0.0\t0.0\t0.0\t0.0\t0.0\t0.0\t0.0\t0.0\t0.0\t0.0\t0.0\t0.0\t0.0\t0.0\t0.0\t0.0\t0.0\t0.0\t0.0\t0.0\t0.0\t0.0\t0.0\t0.0\t0.0\t0.0\t0.0\t0.0\t0.0\t0.0\t0.0\t0.0\t0.0\t0.0\t0.0\t0.0\t0.0\t0.0\t0.0\t0.0\t0.0\t0.0\t0.0\t0.0\t0.0\t0.0\t0.0\t0.0\t0.0\t0.0\t0.0\t0.0\t0.0\t0.0\t0.0\t0.0\t0.0\t0.0\t0.0\t0.0\t0.0\t0.0\t0.0\t0.0\t0.0\t0.0\t0.0\t0.0\t0.0\t0.0\t0.0\t0.0\t0.0\t0.0\t0.0\t0.0\t0.0\t0.0\t0.0\t0.0\t0.0\t0.0\t0.0\t0.0\t0.0\t0.0\t0.0\t0.0\t0.0\t0.0\t0.0\t0.0\t0.0\t0.0\t0.0\t0.0\t0.0\t0.0\t0.0\t0.0\t0.0\t0.0\t0.0\t0.0\t0.0\t0.0\t0.0\t0.0\t0.0\t0.0\t0.0\t0.0\t0.0\t0.0\t0.0\t0.0\t0.0\t0.0\t0.0\t0.0\t0.0\t0.0\t0.0\t0.0\t0.0\t0.0\t0.0\t0.0\t0.0\n",
            "3.75\t89.75\t0.0\t0.0\t0.0\t0.0\t0.0\t0.0\t0.0\t0.0\t0.0\t0.0\t0.0\t0.0\t0.0\t0.0\t0.0\t0.0\t0.0\t0.0\t0.0\t0.0\t0.0\t0.0\t0.0\t0.0\t0.0\t0.0\t0.0\t0.0\t0.0\t0.0\t0.0\t0.0\t0.0\t0.0\t0.0\t0.0\t0.0\t0.0\t0.0\t0.0\t0.0\t0.0\t0.0\t0.0\t0.0\t0.0\t0.0\t0.0\t0.0\t0.0\t0.0\t0.0\t0.0\t0.0\t0.0\t0.0\t0.0\t0.0\t0.0\t0.0\t0.0\t0.0\t0.0\t0.0\t0.0\t0.0\t0.0\t0.0\t0.0\t0.0\t0.0\t0.0\t0.0\t0.0\t0.0\t0.0\t0.0\t0.0\t0.0\t0.0\t0.0\t0.0\t0.0\t0.0\t0.0\t0.0\t0.0\t0.0\t0.0\t0.0\t0.0\t0.0\t0.0\t0.0\t0.0\t0.0\t0.0\t0.0\t0.0\t0.0\t0.0\t0.0\t0.0\t0.0\t0.0\t0.0\t0.0\t0.0\t0.0\t0.0\t0.0\t0.0\t0.0\t0.0\t0.0\t0.0\t0.0\t0.0\t0.0\t0.0\t0.0\t0.0\t0.0\t0.0\t0.0\t0.0\t0.0\t0.0\t0.0\t0.0\t0.0\t0.0\t0.0\t0.0\t0.0\t0.0\t0.0\t0.0\t0.0\t0.0\t0.0\t0.0\t0.0\t0.0\t0.0\t0.0\t0.0\t0.0\t0.0\t0.0\t0.0\t0.0\t0.0\t0.0\t0.0\t0.0\t0.0\t0.0\t0.0\t0.0\n",
            "4.25\t89.75\t0.0\t0.0\t0.0\t0.0\t0.0\t0.0\t0.0\t0.0\t0.0\t0.0\t0.0\t0.0\t0.0\t0.0\t0.0\t0.0\t0.0\t0.0\t0.0\t0.0\t0.0\t0.0\t0.0\t0.0\t0.0\t0.0\t0.0\t0.0\t0.0\t0.0\t0.0\t0.0\t0.0\t0.0\t0.0\t0.0\t0.0\t0.0\t0.0\t0.0\t0.0\t0.0\t0.0\t0.0\t0.0\t0.0\t0.0\t0.0\t0.0\t0.0\t0.0\t0.0\t0.0\t0.0\t0.0\t0.0\t0.0\t0.0\t0.0\t0.0\t0.0\t0.0\t0.0\t0.0\t0.0\t0.0\t0.0\t0.0\t0.0\t0.0\t0.0\t0.0\t0.0\t0.0\t0.0\t0.0\t0.0\t0.0\t0.0\t0.0\t0.0\t0.0\t0.0\t0.0\t0.0\t0.0\t0.0\t0.0\t0.0\t0.0\t0.0\t0.0\t0.0\t0.0\t0.0\t0.0\t0.0\t0.0\t0.0\t0.0\t0.0\t0.0\t0.0\t0.0\t0.0\t0.0\t0.0\t0.0\t0.0\t0.0\t0.0\t0.0\t0.0\t0.0\t0.0\t0.0\t0.0\t0.0\t0.0\t0.0\t0.0\t0.0\t0.0\t0.0\t0.0\t0.0\t0.0\t0.0\t0.0\t0.0\t0.0\t0.0\t0.0\t0.0\t0.0\t0.0\t0.0\t0.0\t0.0\t0.0\t0.0\t0.0\t0.0\t0.0\t0.0\t0.0\t0.0\t0.0\t0.0\t0.0\t0.0\t0.0\t0.0\t0.0\t0.0\t0.0\t0.0\t0.0\t0.0\t0.0\n"
          ]
        }
      ]
    },
    {
      "cell_type": "markdown",
      "source": [
        "### Step 3.4: LBL to CSV"
      ],
      "metadata": {
        "id": "Ga4QVteBeZr1"
      }
    },
    {
      "cell_type": "markdown",
      "source": [
        "#### Step 3.4.1: Download the Files"
      ],
      "metadata": {
        "id": "MWvlVAVBf3CA"
      }
    },
    {
      "cell_type": "code",
      "source": [
        "!wget https://data.darts.isas.jaxa.jp/pub/pds3/sln-l-mi-5-map-v3.0/lon035/data/MI_MAP_03_S16E035S17E036SC.lbl"
      ],
      "metadata": {
        "colab": {
          "base_uri": "https://localhost:8080/"
        },
        "id": "Sh3lmUPbeVKY",
        "outputId": "29a58a07-e893-46be-8479-990ab5f44158"
      },
      "execution_count": null,
      "outputs": [
        {
          "output_type": "stream",
          "name": "stdout",
          "text": [
            "--2025-06-13 08:58:19--  https://data.darts.isas.jaxa.jp/pub/pds3/sln-l-mi-5-map-v3.0/lon035/data/MI_MAP_03_S16E035S17E036SC.lbl\n",
            "Resolving data.darts.isas.jaxa.jp (data.darts.isas.jaxa.jp)... 159.60.133.108\n",
            "Connecting to data.darts.isas.jaxa.jp (data.darts.isas.jaxa.jp)|159.60.133.108|:443... connected.\n",
            "HTTP request sent, awaiting response... 200 OK\n",
            "Length: 12155 (12K)\n",
            "Saving to: ‘MI_MAP_03_S16E035S17E036SC.lbl’\n",
            "\n",
            "MI_MAP_03_S16E035S1 100%[===================>]  11.87K  44.6KB/s    in 0.3s    \n",
            "\n",
            "2025-06-13 08:58:21 (44.6 KB/s) - ‘MI_MAP_03_S16E035S17E036SC.lbl’ saved [12155/12155]\n",
            "\n"
          ]
        }
      ]
    },
    {
      "cell_type": "code",
      "source": [
        "!wget https://data.darts.isas.jaxa.jp/pub/pds3/sln-l-mi-5-map-v3.0/lon035/data/MI_MAP_03_S16E035S17E036SC.img"
      ],
      "metadata": {
        "colab": {
          "base_uri": "https://localhost:8080/"
        },
        "id": "w_jOvSa_etdG",
        "outputId": "6d752faa-0601-4818-be19-1d2db3c6d2b6"
      },
      "execution_count": null,
      "outputs": [
        {
          "output_type": "stream",
          "name": "stdout",
          "text": [
            "--2025-06-13 08:58:22--  https://data.darts.isas.jaxa.jp/pub/pds3/sln-l-mi-5-map-v3.0/lon035/data/MI_MAP_03_S16E035S17E036SC.img\n",
            "Resolving data.darts.isas.jaxa.jp (data.darts.isas.jaxa.jp)... 159.60.133.108\n",
            "Connecting to data.darts.isas.jaxa.jp (data.darts.isas.jaxa.jp)|159.60.133.108|:443... connected.\n",
            "HTTP request sent, awaiting response... 200 OK\n",
            "Length: 92274688 (88M) [application/octet-stream]\n",
            "Saving to: ‘MI_MAP_03_S16E035S17E036SC.img’\n",
            "\n",
            "MI_MAP_03_S16E035S1 100%[===================>]  88.00M   515KB/s    in 5m 40s  \n",
            "\n",
            "2025-06-13 09:04:03 (265 KB/s) - ‘MI_MAP_03_S16E035S17E036SC.img’ saved [92274688/92274688]\n",
            "\n"
          ]
        }
      ]
    },
    {
      "cell_type": "markdown",
      "source": [
        "#### Step 3.4.2: Converting the Raster File into a CSV file"
      ],
      "metadata": {
        "id": "Uyulh3oLhsvt"
      }
    },
    {
      "cell_type": "code",
      "source": [
        "convertLBL = Raster2CSV.Raster2CSV(inputFile=\"MI_MAP_03_S16E035S17E036SC.lbl\", outputFile=\"Moon.csv\", startBand=1,endBand=9)\n",
        "convertLBL.run()"
      ],
      "metadata": {
        "colab": {
          "base_uri": "https://localhost:8080/"
        },
        "id": "mJdTkqeLe0Ka",
        "outputId": "ac062091-f32e-4ecd-b3ad-c54ab21fb774"
      },
      "execution_count": null,
      "outputs": [
        {
          "output_type": "stream",
          "name": "stdout",
          "text": [
            "Processing: MI_MAP_03_S16E035S17E036SC.lbl\n",
            "Done. Output saved to: Moon.csv\n"
          ]
        }
      ]
    },
    {
      "cell_type": "markdown",
      "source": [
        "#### Step 3.4.3: Printing the Portion of converted CSV File"
      ],
      "metadata": {
        "id": "UM5vkpnWiB1F"
      }
    },
    {
      "cell_type": "code",
      "source": [
        "!head Moon.csv"
      ],
      "metadata": {
        "colab": {
          "base_uri": "https://localhost:8080/"
        },
        "id": "AzYrEjxMe-3x",
        "outputId": "9906232e-0299-4a3a-e43a-1e1c6da396fd"
      },
      "execution_count": null,
      "outputs": [
        {
          "output_type": "stream",
          "name": "stdout",
          "text": [
            "x\ty\t1\t2\t3\t4\t5\t6\t7\t8\t9\n",
            "1061317.265\t-485173.607\t1928\t3446\t3859\t3913\t4026\t3999\t4236\t5245\t6513\n",
            "1061332.071\t-485173.607\t1924\t3480\t3876\t3930\t4059\t3996\t4243\t5234\t6518\n",
            "1061346.877\t-485173.607\t1904\t3476\t3834\t3923\t4047\t3992\t4238\t5222\t6523\n",
            "1061361.684\t-485173.607\t1874\t3452\t3801\t3897\t3959\t3988\t4228\t5210\t6518\n",
            "1061376.49\t-485173.607\t1907\t3464\t3777\t3868\t3974\t3983\t4218\t5198\t6504\n",
            "1061391.296\t-485173.607\t1924\t3471\t3830\t3883\t4021\t3977\t4208\t5191\t6489\n",
            "1061406.102\t-485173.607\t1899\t3469\t3839\t3874\t4010\t3971\t4197\t5187\t6474\n",
            "1061420.909\t-485173.607\t1884\t3466\t3793\t3837\t4008\t3965\t4194\t5183\t6459\n",
            "1061435.715\t-485173.607\t1874\t3466\t3807\t3847\t4019\t3959\t4197\t5179\t6453\n"
          ]
        }
      ]
    },
    {
      "cell_type": "code",
      "source": [],
      "metadata": {
        "id": "E3B2fNAZlbGY"
      },
      "execution_count": null,
      "outputs": []
    }
  ]
}